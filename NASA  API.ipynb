{
 "cells": [
  {
   "cell_type": "code",
   "execution_count": 4,
   "id": "161da7f6",
   "metadata": {},
   "outputs": [],
   "source": [
    "import pandas as pd\n",
    "import requests\n",
    "import numpy as np"
   ]
  },
  {
   "cell_type": "code",
   "execution_count": null,
   "id": "2f9126ee",
   "metadata": {},
   "outputs": [],
   "source": [
    "def request_api(url):\n",
    "    return response = requests.get(url)"
   ]
  },
  {
   "cell_type": "code",
   "execution_count": null,
   "id": "374e2edb",
   "metadata": {},
   "outputs": [],
   "source": [
    "def content_trans(x):\n",
    "    x = request_api()\n"
   ]
  },
  {
   "cell_type": "code",
   "execution_count": null,
   "id": "93d48632",
   "metadata": {},
   "outputs": [],
   "source": [
    "def dataframe_generator():\n",
    "    "
   ]
  },
  {
   "cell_type": "markdown",
   "id": "d595942c",
   "metadata": {},
   "source": [
    "### Data acquisition"
   ]
  },
  {
   "cell_type": "code",
   "execution_count": 5,
   "id": "7fbcc977",
   "metadata": {},
   "outputs": [],
   "source": [
    "response = requests.get('https://exoplanetarchive.ipac.caltech.edu/cgi-bin/nstedAPI/nph-nstedAPI?table=ML&format=json')"
   ]
  },
  {
   "cell_type": "code",
   "execution_count": 6,
   "id": "4c16acd7",
   "metadata": {},
   "outputs": [
    {
     "data": {
      "text/plain": [
       "<Response [200]>"
      ]
     },
     "execution_count": 6,
     "metadata": {},
     "output_type": "execute_result"
    }
   ],
   "source": [
    "response"
   ]
  },
  {
   "cell_type": "code",
   "execution_count": 7,
   "id": "56c0820d",
   "metadata": {},
   "outputs": [],
   "source": [
    "df = pd.DataFrame(response.json())"
   ]
  },
  {
   "cell_type": "markdown",
   "id": "ca2c79ef",
   "metadata": {},
   "source": [
    "-------------------------------------------------"
   ]
  },
  {
   "cell_type": "markdown",
   "id": "6c1b46a3",
   "metadata": {},
   "source": [
    "### Evaluation"
   ]
  },
  {
   "cell_type": "code",
   "execution_count": 8,
   "id": "1096c1c8",
   "metadata": {
    "collapsed": true
   },
   "outputs": [
    {
     "data": {
      "text/html": [
       "<div>\n",
       "<style scoped>\n",
       "    .dataframe tbody tr th:only-of-type {\n",
       "        vertical-align: middle;\n",
       "    }\n",
       "\n",
       "    .dataframe tbody tr th {\n",
       "        vertical-align: top;\n",
       "    }\n",
       "\n",
       "    .dataframe thead th {\n",
       "        text-align: right;\n",
       "    }\n",
       "</style>\n",
       "<table border=\"1\" class=\"dataframe\">\n",
       "  <thead>\n",
       "    <tr style=\"text-align: right;\">\n",
       "      <th></th>\n",
       "      <th>pl_name</th>\n",
       "      <th>rastr</th>\n",
       "      <th>decstr</th>\n",
       "      <th>pl_masse</th>\n",
       "      <th>pl_masseerr1</th>\n",
       "      <th>pl_masseerr2</th>\n",
       "      <th>pl_masselim</th>\n",
       "      <th>pl_massj</th>\n",
       "      <th>pl_massjerr1</th>\n",
       "      <th>pl_massjerr2</th>\n",
       "      <th>...</th>\n",
       "      <th>ml_radeinang</th>\n",
       "      <th>ml_radeinangerr1</th>\n",
       "      <th>ml_radeinangerr2</th>\n",
       "      <th>ml_radeinanglim</th>\n",
       "      <th>ml_pmrells</th>\n",
       "      <th>ml_pmrellserr1</th>\n",
       "      <th>ml_pmrellserr2</th>\n",
       "      <th>ml_pmrellslim</th>\n",
       "      <th>ml_modeldef</th>\n",
       "      <th>htmllink</th>\n",
       "    </tr>\n",
       "  </thead>\n",
       "  <tbody>\n",
       "    <tr>\n",
       "      <th>0</th>\n",
       "      <td>KMT-2019-BLG-1953L b</td>\n",
       "      <td>17h56m27.90s</td>\n",
       "      <td>-28d12m04.00s</td>\n",
       "      <td>NaN</td>\n",
       "      <td>NaN</td>\n",
       "      <td>NaN</td>\n",
       "      <td>0</td>\n",
       "      <td>NaN</td>\n",
       "      <td>NaN</td>\n",
       "      <td>NaN</td>\n",
       "      <td>...</td>\n",
       "      <td>0.250</td>\n",
       "      <td>0.020</td>\n",
       "      <td>-0.020</td>\n",
       "      <td>0.0</td>\n",
       "      <td>5.70</td>\n",
       "      <td>0.46</td>\n",
       "      <td>-0.46</td>\n",
       "      <td>0.0</td>\n",
       "      <td>0</td>\n",
       "      <td>&lt;a refstr=HAN_ET_AL__2020 href=https://ui.adsa...</td>\n",
       "    </tr>\n",
       "    <tr>\n",
       "      <th>1</th>\n",
       "      <td>MOA-2013-BLG-605L b</td>\n",
       "      <td>17h58m42.85s</td>\n",
       "      <td>-29d23m53.66s</td>\n",
       "      <td>20.58</td>\n",
       "      <td>0.56</td>\n",
       "      <td>-6.66</td>\n",
       "      <td>0</td>\n",
       "      <td>0.06475</td>\n",
       "      <td>0.0018</td>\n",
       "      <td>-0.021</td>\n",
       "      <td>...</td>\n",
       "      <td>0.503</td>\n",
       "      <td>0.034</td>\n",
       "      <td>-0.034</td>\n",
       "      <td>0.0</td>\n",
       "      <td>9.03</td>\n",
       "      <td>0.63</td>\n",
       "      <td>-0.63</td>\n",
       "      <td>0.0</td>\n",
       "      <td>0</td>\n",
       "      <td>&lt;a refstr=SUMI_ET_AL__2016 href=https://ui.ads...</td>\n",
       "    </tr>\n",
       "    <tr>\n",
       "      <th>2</th>\n",
       "      <td>KMT-2019-BLG-1953L b</td>\n",
       "      <td>17h56m27.90s</td>\n",
       "      <td>-28d12m04.00s</td>\n",
       "      <td>NaN</td>\n",
       "      <td>NaN</td>\n",
       "      <td>NaN</td>\n",
       "      <td>0</td>\n",
       "      <td>NaN</td>\n",
       "      <td>NaN</td>\n",
       "      <td>NaN</td>\n",
       "      <td>...</td>\n",
       "      <td>0.250</td>\n",
       "      <td>0.020</td>\n",
       "      <td>-0.020</td>\n",
       "      <td>0.0</td>\n",
       "      <td>5.70</td>\n",
       "      <td>0.46</td>\n",
       "      <td>-0.46</td>\n",
       "      <td>0.0</td>\n",
       "      <td>0</td>\n",
       "      <td>&lt;a refstr=HAN_ET_AL__2020 href=https://ui.adsa...</td>\n",
       "    </tr>\n",
       "    <tr>\n",
       "      <th>3</th>\n",
       "      <td>OGLE-2005-BLG-390L b</td>\n",
       "      <td>17h54m19.2s</td>\n",
       "      <td>-30d22m38s</td>\n",
       "      <td>5.50</td>\n",
       "      <td>5.50</td>\n",
       "      <td>-2.70</td>\n",
       "      <td>0</td>\n",
       "      <td>0.01700</td>\n",
       "      <td>0.0170</td>\n",
       "      <td>-0.009</td>\n",
       "      <td>...</td>\n",
       "      <td>NaN</td>\n",
       "      <td>NaN</td>\n",
       "      <td>NaN</td>\n",
       "      <td>NaN</td>\n",
       "      <td>NaN</td>\n",
       "      <td>NaN</td>\n",
       "      <td>NaN</td>\n",
       "      <td>NaN</td>\n",
       "      <td>1</td>\n",
       "      <td>&lt;a refstr=BEAULIEU_ET_AL__2006 href=https://ui...</td>\n",
       "    </tr>\n",
       "    <tr>\n",
       "      <th>4</th>\n",
       "      <td>OGLE-2012-BLG-0950L b</td>\n",
       "      <td>18h08m04.62s</td>\n",
       "      <td>-29d43m53.7s</td>\n",
       "      <td>36.00</td>\n",
       "      <td>8.00</td>\n",
       "      <td>-6.00</td>\n",
       "      <td>0</td>\n",
       "      <td>0.11000</td>\n",
       "      <td>0.0300</td>\n",
       "      <td>-0.020</td>\n",
       "      <td>...</td>\n",
       "      <td>0.860</td>\n",
       "      <td>0.150</td>\n",
       "      <td>-0.060</td>\n",
       "      <td>0.0</td>\n",
       "      <td>4.60</td>\n",
       "      <td>0.90</td>\n",
       "      <td>-0.30</td>\n",
       "      <td>0.0</td>\n",
       "      <td>0</td>\n",
       "      <td>&lt;a refstr=KOSHIMOTO_ET_AL__2017 href=https://u...</td>\n",
       "    </tr>\n",
       "  </tbody>\n",
       "</table>\n",
       "<p>5 rows × 73 columns</p>\n",
       "</div>"
      ],
      "text/plain": [
       "                 pl_name         rastr         decstr  pl_masse  pl_masseerr1  \\\n",
       "0   KMT-2019-BLG-1953L b  17h56m27.90s  -28d12m04.00s       NaN           NaN   \n",
       "1    MOA-2013-BLG-605L b  17h58m42.85s  -29d23m53.66s     20.58          0.56   \n",
       "2   KMT-2019-BLG-1953L b  17h56m27.90s  -28d12m04.00s       NaN           NaN   \n",
       "3   OGLE-2005-BLG-390L b   17h54m19.2s     -30d22m38s      5.50          5.50   \n",
       "4  OGLE-2012-BLG-0950L b  18h08m04.62s   -29d43m53.7s     36.00          8.00   \n",
       "\n",
       "   pl_masseerr2  pl_masselim  pl_massj  pl_massjerr1  pl_massjerr2  ...  \\\n",
       "0           NaN            0       NaN           NaN           NaN  ...   \n",
       "1         -6.66            0   0.06475        0.0018        -0.021  ...   \n",
       "2           NaN            0       NaN           NaN           NaN  ...   \n",
       "3         -2.70            0   0.01700        0.0170        -0.009  ...   \n",
       "4         -6.00            0   0.11000        0.0300        -0.020  ...   \n",
       "\n",
       "   ml_radeinang  ml_radeinangerr1  ml_radeinangerr2  ml_radeinanglim  \\\n",
       "0         0.250             0.020            -0.020              0.0   \n",
       "1         0.503             0.034            -0.034              0.0   \n",
       "2         0.250             0.020            -0.020              0.0   \n",
       "3           NaN               NaN               NaN              NaN   \n",
       "4         0.860             0.150            -0.060              0.0   \n",
       "\n",
       "   ml_pmrells  ml_pmrellserr1  ml_pmrellserr2  ml_pmrellslim  ml_modeldef  \\\n",
       "0        5.70            0.46           -0.46            0.0            0   \n",
       "1        9.03            0.63           -0.63            0.0            0   \n",
       "2        5.70            0.46           -0.46            0.0            0   \n",
       "3         NaN             NaN             NaN            NaN            1   \n",
       "4        4.60            0.90           -0.30            0.0            0   \n",
       "\n",
       "                                            htmllink  \n",
       "0  <a refstr=HAN_ET_AL__2020 href=https://ui.adsa...  \n",
       "1  <a refstr=SUMI_ET_AL__2016 href=https://ui.ads...  \n",
       "2  <a refstr=HAN_ET_AL__2020 href=https://ui.adsa...  \n",
       "3  <a refstr=BEAULIEU_ET_AL__2006 href=https://ui...  \n",
       "4  <a refstr=KOSHIMOTO_ET_AL__2017 href=https://u...  \n",
       "\n",
       "[5 rows x 73 columns]"
      ]
     },
     "execution_count": 8,
     "metadata": {},
     "output_type": "execute_result"
    }
   ],
   "source": [
    "df.head()"
   ]
  },
  {
   "cell_type": "code",
   "execution_count": 9,
   "id": "bc05709f",
   "metadata": {},
   "outputs": [
    {
     "data": {
      "text/plain": [
       "(331, 73)"
      ]
     },
     "execution_count": 9,
     "metadata": {},
     "output_type": "execute_result"
    }
   ],
   "source": [
    "df.shape"
   ]
  },
  {
   "cell_type": "code",
   "execution_count": 10,
   "id": "4ff23679",
   "metadata": {
    "collapsed": true
   },
   "outputs": [
    {
     "name": "stdout",
     "output_type": "stream",
     "text": [
      "<class 'pandas.core.frame.DataFrame'>\n",
      "RangeIndex: 331 entries, 0 to 330\n",
      "Data columns (total 73 columns):\n",
      " #   Column             Non-Null Count  Dtype  \n",
      "---  ------             --------------  -----  \n",
      " 0   pl_name            331 non-null    object \n",
      " 1   rastr              331 non-null    object \n",
      " 2   decstr             331 non-null    object \n",
      " 3   pl_masse           299 non-null    float64\n",
      " 4   pl_masseerr1       296 non-null    float64\n",
      " 5   pl_masseerr2       296 non-null    float64\n",
      " 6   pl_masselim        331 non-null    int64  \n",
      " 7   pl_massj           299 non-null    float64\n",
      " 8   pl_massjerr1       296 non-null    float64\n",
      " 9   pl_massjerr2       296 non-null    float64\n",
      " 10  pl_massjlim        331 non-null    int64  \n",
      " 11  pl_orbsmax         296 non-null    float64\n",
      " 12  pl_orbsmaxerr1     271 non-null    float64\n",
      " 13  pl_orbsmaxerr2     271 non-null    float64\n",
      " 14  pl_orbsmaxlim      330 non-null    float64\n",
      " 15  st_mass            301 non-null    float64\n",
      " 16  st_masserr1        298 non-null    float64\n",
      " 17  st_masserr2        298 non-null    float64\n",
      " 18  st_masslim         301 non-null    float64\n",
      " 19  sy_dist            297 non-null    float64\n",
      " 20  sy_disterr1        274 non-null    float64\n",
      " 21  sy_disterr2        274 non-null    float64\n",
      " 22  sy_distlim         297 non-null    float64\n",
      " 23  ml_dists           108 non-null    float64\n",
      " 24  ml_distserr1       40 non-null     float64\n",
      " 25  ml_distserr2       39 non-null     float64\n",
      " 26  ml_distslim        108 non-null    float64\n",
      " 27  ml_tsepmin         312 non-null    float64\n",
      " 28  ml_tsepminerr1     304 non-null    float64\n",
      " 29  ml_tsepminerr2     304 non-null    float64\n",
      " 30  ml_tsepminlim      312 non-null    float64\n",
      " 31  ml_sepminnorm      311 non-null    float64\n",
      " 32  ml_sepminnormerr1  302 non-null    float64\n",
      " 33  ml_sepminnormerr2  302 non-null    float64\n",
      " 34  ml_sepminnormlim   311 non-null    float64\n",
      " 35  ml_xtimeein        316 non-null    float64\n",
      " 36  ml_xtimeeinerr1    306 non-null    float64\n",
      " 37  ml_xtimeeinerr2    306 non-null    float64\n",
      " 38  ml_xtimeeinlim     316 non-null    float64\n",
      " 39  ml_radsnorm        270 non-null    float64\n",
      " 40  ml_radsnormerr1    223 non-null    float64\n",
      " 41  ml_radsnormerr2    223 non-null    float64\n",
      " 42  ml_radsnormlim     270 non-null    float64\n",
      " 43  ml_sepinsnorp      312 non-null    float64\n",
      " 44  ml_sepinsnorperr1  306 non-null    float64\n",
      " 45  ml_sepinsnorperr2  306 non-null    float64\n",
      " 46  ml_sepinsnorplim   312 non-null    float64\n",
      " 47  ml_massratio       314 non-null    float64\n",
      " 48  ml_massratioerr1   308 non-null    float64\n",
      " 49  ml_massratioerr2   308 non-null    float64\n",
      " 50  ml_massratiolim    314 non-null    float64\n",
      " 51  ml_angstlax        311 non-null    float64\n",
      " 52  ml_angstlaxerr1    303 non-null    float64\n",
      " 53  ml_angstlaxerr2    303 non-null    float64\n",
      " 54  ml_angstlaxlim     311 non-null    float64\n",
      " 55  ml_magis           245 non-null    float64\n",
      " 56  ml_magiserr1       222 non-null    float64\n",
      " 57  ml_magiserr2       222 non-null    float64\n",
      " 58  ml_magislim        245 non-null    float64\n",
      " 59  ml_magibl          65 non-null     float64\n",
      " 60  ml_magiblerr1      39 non-null     float64\n",
      " 61  ml_magiblerr2      39 non-null     float64\n",
      " 62  ml_magibllim       65 non-null     float64\n",
      " 63  ml_radeinang       269 non-null    float64\n",
      " 64  ml_radeinangerr1   248 non-null    float64\n",
      " 65  ml_radeinangerr2   248 non-null    float64\n",
      " 66  ml_radeinanglim    269 non-null    float64\n",
      " 67  ml_pmrells         256 non-null    float64\n",
      " 68  ml_pmrellserr1     242 non-null    float64\n",
      " 69  ml_pmrellserr2     242 non-null    float64\n",
      " 70  ml_pmrellslim      256 non-null    float64\n",
      " 71  ml_modeldef        331 non-null    int64  \n",
      " 72  htmllink           331 non-null    object \n",
      "dtypes: float64(66), int64(3), object(4)\n",
      "memory usage: 188.9+ KB\n"
     ]
    }
   ],
   "source": [
    "df.info()"
   ]
  },
  {
   "cell_type": "code",
   "execution_count": 50,
   "id": "fa018f7e",
   "metadata": {},
   "outputs": [
    {
     "data": {
      "text/plain": [
       "planet_name                  0\n",
       "ra_event                     0\n",
       "dec_event                    0\n",
       "earth_massses               32\n",
       "jupyter_masses              32\n",
       "planet_orbmax               35\n",
       "lens_distance               34\n",
       "source_distance            223\n",
       "einstein_cross_time         15\n",
       "source_mag                  17\n",
       "planet_star_mass_ratio      86\n",
       "angular_einstein_radius     62\n",
       "dtype: int64"
      ]
     },
     "execution_count": 50,
     "metadata": {},
     "output_type": "execute_result"
    }
   ],
   "source": [
    "df.isnull().sum()"
   ]
  },
  {
   "cell_type": "code",
   "execution_count": 12,
   "id": "68455010",
   "metadata": {},
   "outputs": [
    {
     "data": {
      "text/plain": [
       "Index(['pl_name', 'rastr', 'decstr', 'pl_masse', 'pl_masseerr1',\n",
       "       'pl_masseerr2', 'pl_masselim', 'pl_massj', 'pl_massjerr1',\n",
       "       'pl_massjerr2', 'pl_massjlim', 'pl_orbsmax', 'pl_orbsmaxerr1',\n",
       "       'pl_orbsmaxerr2', 'pl_orbsmaxlim', 'st_mass', 'st_masserr1',\n",
       "       'st_masserr2', 'st_masslim', 'sy_dist', 'sy_disterr1', 'sy_disterr2',\n",
       "       'sy_distlim', 'ml_dists', 'ml_distserr1', 'ml_distserr2', 'ml_distslim',\n",
       "       'ml_tsepmin', 'ml_tsepminerr1', 'ml_tsepminerr2', 'ml_tsepminlim',\n",
       "       'ml_sepminnorm', 'ml_sepminnormerr1', 'ml_sepminnormerr2',\n",
       "       'ml_sepminnormlim', 'ml_xtimeein', 'ml_xtimeeinerr1', 'ml_xtimeeinerr2',\n",
       "       'ml_xtimeeinlim', 'ml_radsnorm', 'ml_radsnormerr1', 'ml_radsnormerr2',\n",
       "       'ml_radsnormlim', 'ml_sepinsnorp', 'ml_sepinsnorperr1',\n",
       "       'ml_sepinsnorperr2', 'ml_sepinsnorplim', 'ml_massratio',\n",
       "       'ml_massratioerr1', 'ml_massratioerr2', 'ml_massratiolim',\n",
       "       'ml_angstlax', 'ml_angstlaxerr1', 'ml_angstlaxerr2', 'ml_angstlaxlim',\n",
       "       'ml_magis', 'ml_magiserr1', 'ml_magiserr2', 'ml_magislim', 'ml_magibl',\n",
       "       'ml_magiblerr1', 'ml_magiblerr2', 'ml_magibllim', 'ml_radeinang',\n",
       "       'ml_radeinangerr1', 'ml_radeinangerr2', 'ml_radeinanglim', 'ml_pmrells',\n",
       "       'ml_pmrellserr1', 'ml_pmrellserr2', 'ml_pmrellslim', 'ml_modeldef',\n",
       "       'htmllink'],\n",
       "      dtype='object')"
      ]
     },
     "execution_count": 12,
     "metadata": {},
     "output_type": "execute_result"
    }
   ],
   "source": [
    "df.columns"
   ]
  },
  {
   "cell_type": "markdown",
   "id": "07c17d4e",
   "metadata": {},
   "source": [
    "### Documentation"
   ]
  },
  {
   "cell_type": "markdown",
   "id": "23f1d0ad",
   "metadata": {},
   "source": [
    "Como se puede observar los nombres de cada una de las columnas no son intuitivos. Se puede visitar la siguiente documentación para una explicación de el significado de cada una de las columnas y lo que representa:\n",
    "\n",
    "https://exoplanetarchive.ipac.caltech.edu/docs/API_ML.html\n",
    "https://exoplanetarchive.ipac.caltech.edu/docs/microlensing-column-mapping.pdf\n",
    "\n",
    "Sin embargo solo seran seleccionadas las listadas a continuación:\n",
    "\n",
    "- **pl_name:** Planet Name (Planet name)\n",
    "- **rastr:** RA (Right ascension of the microlensing event, in sexagesimal format\n",
    "- **decstr:** Declination of the microlensing event, in sexagesimal format\n",
    "- **pl_masse:** Mass of planet, in Earth masses\n",
    "- **pl_massj:** Planet Mass (Mass of planet, in Jupiter masses)\n",
    "- **pl_orbsmax** Planet-star Projected Semi-major Axis, unidad = Astronomical unit (au) \n",
    "- **sy_dist:** Lens Distance, unidad = Parsec (pc)\n",
    "- **ml_dists:** Source Distance, unidad = Parsec (pc)\n",
    "- **ml_xtimeein:**'  \n",
    "- **ml_massratio:** Planet-star Mass Ratio (10^-4)\n",
    "- **ml_magis:** Source I-band unidad = mag \n",
    "- **ml_radeinang:** Angular Einstein Radius, unidad = mas \n",
    " \n",
    " \n",
    " \n"
   ]
  },
  {
   "cell_type": "markdown",
   "id": "583d201d",
   "metadata": {},
   "source": [
    "De la siguiente manera se pueden seleccionar las columnas especificadas anteriormente."
   ]
  },
  {
   "cell_type": "markdown",
   "id": "a25ea8ec",
   "metadata": {},
   "source": [
    "### wrangling"
   ]
  },
  {
   "cell_type": "code",
   "execution_count": 18,
   "id": "81a9ffdd",
   "metadata": {},
   "outputs": [],
   "source": [
    "to_keep = ['pl_name', 'rastr', 'decstr', 'pl_masse', 'pl_massj', 'pl_orbsmax', 'sy_dist',\n",
    "           'ml_dists', 'ml_xtimeein', 'ml_massratio', 'ml_magis', 'ml_radeinang']"
   ]
  },
  {
   "cell_type": "markdown",
   "id": "bf3f555d",
   "metadata": {},
   "source": [
    "Nos aseguramos de que esten bien los nombres"
   ]
  },
  {
   "cell_type": "code",
   "execution_count": 20,
   "id": "c44341b3",
   "metadata": {},
   "outputs": [],
   "source": [
    "df = df[to_keep]"
   ]
  },
  {
   "cell_type": "code",
   "execution_count": 22,
   "id": "541c7136",
   "metadata": {
    "scrolled": false
   },
   "outputs": [
    {
     "data": {
      "text/html": [
       "<div>\n",
       "<style scoped>\n",
       "    .dataframe tbody tr th:only-of-type {\n",
       "        vertical-align: middle;\n",
       "    }\n",
       "\n",
       "    .dataframe tbody tr th {\n",
       "        vertical-align: top;\n",
       "    }\n",
       "\n",
       "    .dataframe thead th {\n",
       "        text-align: right;\n",
       "    }\n",
       "</style>\n",
       "<table border=\"1\" class=\"dataframe\">\n",
       "  <thead>\n",
       "    <tr style=\"text-align: right;\">\n",
       "      <th></th>\n",
       "      <th>pl_name</th>\n",
       "      <th>rastr</th>\n",
       "      <th>decstr</th>\n",
       "      <th>pl_masse</th>\n",
       "      <th>pl_massj</th>\n",
       "      <th>pl_orbsmax</th>\n",
       "      <th>sy_dist</th>\n",
       "      <th>ml_dists</th>\n",
       "      <th>ml_xtimeein</th>\n",
       "      <th>ml_massratio</th>\n",
       "      <th>ml_magis</th>\n",
       "      <th>ml_radeinang</th>\n",
       "    </tr>\n",
       "  </thead>\n",
       "  <tbody>\n",
       "    <tr>\n",
       "      <th>0</th>\n",
       "      <td>KMT-2019-BLG-1953L b</td>\n",
       "      <td>17h56m27.90s</td>\n",
       "      <td>-28d12m04.00s</td>\n",
       "      <td>NaN</td>\n",
       "      <td>NaN</td>\n",
       "      <td>NaN</td>\n",
       "      <td>NaN</td>\n",
       "      <td>8000.0</td>\n",
       "      <td>16.18</td>\n",
       "      <td>19.100</td>\n",
       "      <td>20.680</td>\n",
       "      <td>0.250</td>\n",
       "    </tr>\n",
       "    <tr>\n",
       "      <th>1</th>\n",
       "      <td>MOA-2013-BLG-605L b</td>\n",
       "      <td>17h58m42.85s</td>\n",
       "      <td>-29d23m53.66s</td>\n",
       "      <td>20.58</td>\n",
       "      <td>0.06475</td>\n",
       "      <td>4.18</td>\n",
       "      <td>3550.0</td>\n",
       "      <td>NaN</td>\n",
       "      <td>19.83</td>\n",
       "      <td>3.124</td>\n",
       "      <td>18.112</td>\n",
       "      <td>0.503</td>\n",
       "    </tr>\n",
       "    <tr>\n",
       "      <th>2</th>\n",
       "      <td>KMT-2019-BLG-1953L b</td>\n",
       "      <td>17h56m27.90s</td>\n",
       "      <td>-28d12m04.00s</td>\n",
       "      <td>NaN</td>\n",
       "      <td>NaN</td>\n",
       "      <td>NaN</td>\n",
       "      <td>NaN</td>\n",
       "      <td>8000.0</td>\n",
       "      <td>16.02</td>\n",
       "      <td>18.200</td>\n",
       "      <td>20.680</td>\n",
       "      <td>0.250</td>\n",
       "    </tr>\n",
       "  </tbody>\n",
       "</table>\n",
       "</div>"
      ],
      "text/plain": [
       "                pl_name         rastr         decstr  pl_masse  pl_massj  \\\n",
       "0  KMT-2019-BLG-1953L b  17h56m27.90s  -28d12m04.00s       NaN       NaN   \n",
       "1   MOA-2013-BLG-605L b  17h58m42.85s  -29d23m53.66s     20.58   0.06475   \n",
       "2  KMT-2019-BLG-1953L b  17h56m27.90s  -28d12m04.00s       NaN       NaN   \n",
       "\n",
       "   pl_orbsmax  sy_dist  ml_dists  ml_xtimeein  ml_massratio  ml_magis  \\\n",
       "0         NaN      NaN    8000.0        16.18        19.100    20.680   \n",
       "1        4.18   3550.0       NaN        19.83         3.124    18.112   \n",
       "2         NaN      NaN    8000.0        16.02        18.200    20.680   \n",
       "\n",
       "   ml_radeinang  \n",
       "0         0.250  \n",
       "1         0.503  \n",
       "2         0.250  "
      ]
     },
     "execution_count": 22,
     "metadata": {},
     "output_type": "execute_result"
    }
   ],
   "source": [
    "df.head(3)"
   ]
  },
  {
   "cell_type": "markdown",
   "id": "6f9bb43e",
   "metadata": {},
   "source": [
    "**Cambiando los nombres a las columnas por nombres más intuitivos**"
   ]
  },
  {
   "cell_type": "code",
   "execution_count": 26,
   "id": "a2958a4b",
   "metadata": {},
   "outputs": [
    {
     "data": {
      "text/plain": [
       "Index(['pl_name', 'rastr', 'decstr', 'pl_masse', 'pl_massj', 'pl_orbsmax',\n",
       "       'sy_dist', 'ml_dists', 'ml_xtimeein', 'ml_massratio', 'ml_magis',\n",
       "       'ml_radeinang'],\n",
       "      dtype='object')"
      ]
     },
     "execution_count": 26,
     "metadata": {},
     "output_type": "execute_result"
    }
   ],
   "source": [
    "df.columns"
   ]
  },
  {
   "cell_type": "code",
   "execution_count": 30,
   "id": "f7fc4ea6",
   "metadata": {},
   "outputs": [
    {
     "data": {
      "text/plain": [
       "12"
      ]
     },
     "execution_count": 30,
     "metadata": {},
     "output_type": "execute_result"
    }
   ],
   "source": [
    "len(df.columns)"
   ]
  },
  {
   "cell_type": "code",
   "execution_count": 35,
   "id": "22479198",
   "metadata": {},
   "outputs": [
    {
     "data": {
      "text/plain": [
       "Index(['pl_name', 'rastr', 'decstr', 'pl_masse', 'pl_massj', 'pl_orbsmax',\n",
       "       'sy_dist', 'ml_dists', 'ml_xtimeein', 'ml_massratio', 'ml_magis',\n",
       "       'ml_radeinang'],\n",
       "      dtype='object')"
      ]
     },
     "execution_count": 35,
     "metadata": {},
     "output_type": "execute_result"
    }
   ],
   "source": [
    "df.columns"
   ]
  },
  {
   "cell_type": "code",
   "execution_count": 36,
   "id": "2060e958",
   "metadata": {},
   "outputs": [],
   "source": [
    "new_names = ['planet_name',  'ra_event', 'dec_event', 'earth_massses', 'jupyter_masses', \n",
    "              'planet_orbmax', 'lens_distance', 'source_distance', 'einstein_cross_time', 'source_mag',\n",
    "             'planet_star_mass_ratio', 'angular_einstein_radius']"
   ]
  },
  {
   "cell_type": "code",
   "execution_count": 42,
   "id": "1e05684d",
   "metadata": {},
   "outputs": [
    {
     "data": {
      "text/plain": [
       "12"
      ]
     },
     "execution_count": 42,
     "metadata": {},
     "output_type": "execute_result"
    }
   ],
   "source": [
    "old_names = [name for name in df.columns]\n",
    "len(old_names)"
   ]
  },
  {
   "cell_type": "code",
   "execution_count": 37,
   "id": "fa78a949",
   "metadata": {},
   "outputs": [
    {
     "data": {
      "text/plain": [
       "12"
      ]
     },
     "execution_count": 37,
     "metadata": {},
     "output_type": "execute_result"
    }
   ],
   "source": [
    "len(new_names)"
   ]
  },
  {
   "cell_type": "code",
   "execution_count": 47,
   "id": "8f7cef8f",
   "metadata": {},
   "outputs": [],
   "source": [
    "dict_names = (dict(zip(old_names, new_names)))"
   ]
  },
  {
   "cell_type": "code",
   "execution_count": 48,
   "id": "258ef2f6",
   "metadata": {},
   "outputs": [],
   "source": [
    "df.rename(columns=dict_names, inplace=True)"
   ]
  },
  {
   "cell_type": "code",
   "execution_count": 56,
   "id": "1331ce9a",
   "metadata": {
    "scrolled": true
   },
   "outputs": [
    {
     "data": {
      "text/html": [
       "<div>\n",
       "<style scoped>\n",
       "    .dataframe tbody tr th:only-of-type {\n",
       "        vertical-align: middle;\n",
       "    }\n",
       "\n",
       "    .dataframe tbody tr th {\n",
       "        vertical-align: top;\n",
       "    }\n",
       "\n",
       "    .dataframe thead th {\n",
       "        text-align: right;\n",
       "    }\n",
       "</style>\n",
       "<table border=\"1\" class=\"dataframe\">\n",
       "  <thead>\n",
       "    <tr style=\"text-align: right;\">\n",
       "      <th></th>\n",
       "      <th>planet_name</th>\n",
       "      <th>ra_event</th>\n",
       "      <th>dec_event</th>\n",
       "      <th>earth_massses</th>\n",
       "      <th>jupyter_masses</th>\n",
       "      <th>planet_orbmax</th>\n",
       "      <th>lens_distance</th>\n",
       "      <th>source_distance</th>\n",
       "      <th>einstein_cross_time</th>\n",
       "      <th>source_mag</th>\n",
       "      <th>planet_star_mass_ratio</th>\n",
       "      <th>angular_einstein_radius</th>\n",
       "    </tr>\n",
       "  </thead>\n",
       "  <tbody>\n",
       "    <tr>\n",
       "      <th>0</th>\n",
       "      <td>KMT-2019-BLG-1953L b</td>\n",
       "      <td>17h56m27.90s</td>\n",
       "      <td>-28d12m04.00s</td>\n",
       "      <td>NaN</td>\n",
       "      <td>NaN</td>\n",
       "      <td>NaN</td>\n",
       "      <td>NaN</td>\n",
       "      <td>8000.0</td>\n",
       "      <td>16.180</td>\n",
       "      <td>19.100</td>\n",
       "      <td>20.680</td>\n",
       "      <td>0.250</td>\n",
       "    </tr>\n",
       "    <tr>\n",
       "      <th>1</th>\n",
       "      <td>MOA-2013-BLG-605L b</td>\n",
       "      <td>17h58m42.85s</td>\n",
       "      <td>-29d23m53.66s</td>\n",
       "      <td>20.58</td>\n",
       "      <td>0.06475</td>\n",
       "      <td>4.180</td>\n",
       "      <td>3550.0</td>\n",
       "      <td>NaN</td>\n",
       "      <td>19.830</td>\n",
       "      <td>3.124</td>\n",
       "      <td>18.112</td>\n",
       "      <td>0.503</td>\n",
       "    </tr>\n",
       "    <tr>\n",
       "      <th>2</th>\n",
       "      <td>KMT-2019-BLG-1953L b</td>\n",
       "      <td>17h56m27.90s</td>\n",
       "      <td>-28d12m04.00s</td>\n",
       "      <td>NaN</td>\n",
       "      <td>NaN</td>\n",
       "      <td>NaN</td>\n",
       "      <td>NaN</td>\n",
       "      <td>8000.0</td>\n",
       "      <td>16.020</td>\n",
       "      <td>18.200</td>\n",
       "      <td>20.680</td>\n",
       "      <td>0.250</td>\n",
       "    </tr>\n",
       "    <tr>\n",
       "      <th>3</th>\n",
       "      <td>OGLE-2005-BLG-390L b</td>\n",
       "      <td>17h54m19.2s</td>\n",
       "      <td>-30d22m38s</td>\n",
       "      <td>5.50</td>\n",
       "      <td>0.01700</td>\n",
       "      <td>2.600</td>\n",
       "      <td>6600.0</td>\n",
       "      <td>8000.0</td>\n",
       "      <td>11.030</td>\n",
       "      <td>0.760</td>\n",
       "      <td>NaN</td>\n",
       "      <td>NaN</td>\n",
       "    </tr>\n",
       "    <tr>\n",
       "      <th>4</th>\n",
       "      <td>OGLE-2012-BLG-0950L b</td>\n",
       "      <td>18h08m04.62s</td>\n",
       "      <td>-29d43m53.7s</td>\n",
       "      <td>36.00</td>\n",
       "      <td>0.11000</td>\n",
       "      <td>2.700</td>\n",
       "      <td>3400.0</td>\n",
       "      <td>NaN</td>\n",
       "      <td>68.500</td>\n",
       "      <td>1.900</td>\n",
       "      <td>19.300</td>\n",
       "      <td>0.860</td>\n",
       "    </tr>\n",
       "    <tr>\n",
       "      <th>5</th>\n",
       "      <td>OGLE-2016-BLG-1067L b</td>\n",
       "      <td>18h12m49.08s</td>\n",
       "      <td>-27d00m45.5s</td>\n",
       "      <td>140.00</td>\n",
       "      <td>0.43000</td>\n",
       "      <td>1.710</td>\n",
       "      <td>3780.0</td>\n",
       "      <td>7660.0</td>\n",
       "      <td>27.600</td>\n",
       "      <td>13.170</td>\n",
       "      <td>18.800</td>\n",
       "      <td>NaN</td>\n",
       "    </tr>\n",
       "    <tr>\n",
       "      <th>6</th>\n",
       "      <td>OGLE-2018-BLG-0740L b</td>\n",
       "      <td>18h08m42.47s</td>\n",
       "      <td>-29d50m08.9s</td>\n",
       "      <td>350.00</td>\n",
       "      <td>1.10000</td>\n",
       "      <td>1.500</td>\n",
       "      <td>7200.0</td>\n",
       "      <td>8000.0</td>\n",
       "      <td>62.630</td>\n",
       "      <td>23.000</td>\n",
       "      <td>21.540</td>\n",
       "      <td>0.280</td>\n",
       "    </tr>\n",
       "    <tr>\n",
       "      <th>7</th>\n",
       "      <td>OGLE-2017-BLG-0373L b</td>\n",
       "      <td>17h57m19.06s</td>\n",
       "      <td>-31d57m06.2s</td>\n",
       "      <td>60.10</td>\n",
       "      <td>0.18900</td>\n",
       "      <td>2.575</td>\n",
       "      <td>5810.0</td>\n",
       "      <td>NaN</td>\n",
       "      <td>12.849</td>\n",
       "      <td>6.510</td>\n",
       "      <td>NaN</td>\n",
       "      <td>0.317</td>\n",
       "    </tr>\n",
       "    <tr>\n",
       "      <th>8</th>\n",
       "      <td>OGLE-2007-BLG-368L b</td>\n",
       "      <td>17h56m25.96s</td>\n",
       "      <td>-32d14m14.7s</td>\n",
       "      <td>20.00</td>\n",
       "      <td>0.06000</td>\n",
       "      <td>2.800</td>\n",
       "      <td>5900.0</td>\n",
       "      <td>NaN</td>\n",
       "      <td>55.400</td>\n",
       "      <td>0.950</td>\n",
       "      <td>19.510</td>\n",
       "      <td>0.529</td>\n",
       "    </tr>\n",
       "    <tr>\n",
       "      <th>9</th>\n",
       "      <td>KMT-2016-BLG-2142L b</td>\n",
       "      <td>17h52m26.88s</td>\n",
       "      <td>-29d23m04.42s</td>\n",
       "      <td>4923.00</td>\n",
       "      <td>15.49000</td>\n",
       "      <td>0.830</td>\n",
       "      <td>7010.0</td>\n",
       "      <td>NaN</td>\n",
       "      <td>5.150</td>\n",
       "      <td>2030.000</td>\n",
       "      <td>3.900</td>\n",
       "      <td>0.122</td>\n",
       "    </tr>\n",
       "  </tbody>\n",
       "</table>\n",
       "</div>"
      ],
      "text/plain": [
       "             planet_name      ra_event      dec_event  earth_massses  \\\n",
       "0   KMT-2019-BLG-1953L b  17h56m27.90s  -28d12m04.00s            NaN   \n",
       "1    MOA-2013-BLG-605L b  17h58m42.85s  -29d23m53.66s          20.58   \n",
       "2   KMT-2019-BLG-1953L b  17h56m27.90s  -28d12m04.00s            NaN   \n",
       "3   OGLE-2005-BLG-390L b   17h54m19.2s     -30d22m38s           5.50   \n",
       "4  OGLE-2012-BLG-0950L b  18h08m04.62s   -29d43m53.7s          36.00   \n",
       "5  OGLE-2016-BLG-1067L b  18h12m49.08s   -27d00m45.5s         140.00   \n",
       "6  OGLE-2018-BLG-0740L b  18h08m42.47s   -29d50m08.9s         350.00   \n",
       "7  OGLE-2017-BLG-0373L b  17h57m19.06s   -31d57m06.2s          60.10   \n",
       "8   OGLE-2007-BLG-368L b  17h56m25.96s   -32d14m14.7s          20.00   \n",
       "9   KMT-2016-BLG-2142L b  17h52m26.88s  -29d23m04.42s        4923.00   \n",
       "\n",
       "   jupyter_masses  planet_orbmax  lens_distance  source_distance  \\\n",
       "0             NaN            NaN            NaN           8000.0   \n",
       "1         0.06475          4.180         3550.0              NaN   \n",
       "2             NaN            NaN            NaN           8000.0   \n",
       "3         0.01700          2.600         6600.0           8000.0   \n",
       "4         0.11000          2.700         3400.0              NaN   \n",
       "5         0.43000          1.710         3780.0           7660.0   \n",
       "6         1.10000          1.500         7200.0           8000.0   \n",
       "7         0.18900          2.575         5810.0              NaN   \n",
       "8         0.06000          2.800         5900.0              NaN   \n",
       "9        15.49000          0.830         7010.0              NaN   \n",
       "\n",
       "   einstein_cross_time  source_mag  planet_star_mass_ratio  \\\n",
       "0               16.180      19.100                  20.680   \n",
       "1               19.830       3.124                  18.112   \n",
       "2               16.020      18.200                  20.680   \n",
       "3               11.030       0.760                     NaN   \n",
       "4               68.500       1.900                  19.300   \n",
       "5               27.600      13.170                  18.800   \n",
       "6               62.630      23.000                  21.540   \n",
       "7               12.849       6.510                     NaN   \n",
       "8               55.400       0.950                  19.510   \n",
       "9                5.150    2030.000                   3.900   \n",
       "\n",
       "   angular_einstein_radius  \n",
       "0                    0.250  \n",
       "1                    0.503  \n",
       "2                    0.250  \n",
       "3                      NaN  \n",
       "4                    0.860  \n",
       "5                      NaN  \n",
       "6                    0.280  \n",
       "7                    0.317  \n",
       "8                    0.529  \n",
       "9                    0.122  "
      ]
     },
     "execution_count": 56,
     "metadata": {},
     "output_type": "execute_result"
    }
   ],
   "source": [
    "df.head(10)"
   ]
  },
  {
   "cell_type": "code",
   "execution_count": 61,
   "id": "19122386",
   "metadata": {},
   "outputs": [
    {
     "data": {
      "text/plain": [
       "(331, 12)"
      ]
     },
     "execution_count": 61,
     "metadata": {},
     "output_type": "execute_result"
    }
   ],
   "source": [
    "df.shape"
   ]
  },
  {
   "cell_type": "code",
   "execution_count": 59,
   "id": "1766359d",
   "metadata": {},
   "outputs": [],
   "source": [
    "df.to_csv('microlensing_data.csv', index=False)"
   ]
  },
  {
   "cell_type": "markdown",
   "id": "92b2bdd0",
   "metadata": {},
   "source": [
    "### Description"
   ]
  },
  {
   "cell_type": "code",
   "execution_count": 53,
   "id": "de715cf1",
   "metadata": {},
   "outputs": [
    {
     "data": {
      "text/plain": [
       "planet_name                0.000000\n",
       "ra_event                   0.000000\n",
       "dec_event                  0.000000\n",
       "earth_massses              0.096677\n",
       "jupyter_masses             0.096677\n",
       "planet_orbmax              0.105740\n",
       "lens_distance              0.102719\n",
       "source_distance            0.673716\n",
       "einstein_cross_time        0.045317\n",
       "source_mag                 0.051360\n",
       "planet_star_mass_ratio     0.259819\n",
       "angular_einstein_radius    0.187311\n",
       "dtype: float64"
      ]
     },
     "execution_count": 53,
     "metadata": {},
     "output_type": "execute_result"
    }
   ],
   "source": [
    "df.isnull().mean()"
   ]
  },
  {
   "cell_type": "code",
   "execution_count": null,
   "id": "775aa336",
   "metadata": {},
   "outputs": [],
   "source": []
  },
  {
   "cell_type": "code",
   "execution_count": null,
   "id": "a10f2cff",
   "metadata": {},
   "outputs": [],
   "source": []
  },
  {
   "cell_type": "markdown",
   "id": "efdc05b2",
   "metadata": {},
   "source": [
    "Quizas podrías expresar lens_distance y source_distance en kilometros o años luz - data enrichment"
   ]
  },
  {
   "cell_type": "markdown",
   "id": "e35b6abe",
   "metadata": {},
   "source": [
    "Obten la composite planet data para ver si puedes encontrar los missing values del datafrae de los planetas encontrados por microlensing **done**"
   ]
  },
  {
   "cell_type": "markdown",
   "id": "8d4d3a8a",
   "metadata": {},
   "source": [
    "Puedes ver cuantos han sido descubiertos por microlensing, transito o otros metodos"
   ]
  },
  {
   "cell_type": "markdown",
   "id": "76fed488",
   "metadata": {},
   "source": [
    "Categorical column base in mass"
   ]
  },
  {
   "cell_type": "markdown",
   "id": "be003339",
   "metadata": {},
   "source": [
    "Description about the planet from here \n",
    "https://exoplanets.nasa.gov/discovery/exoplanet-catalog/"
   ]
  },
  {
   "cell_type": "markdown",
   "id": "f99e39a5",
   "metadata": {},
   "source": [
    "Hacer un concat de las 452 tablas que tienes aquí (tienes que usar selenium para esto)\n",
    "https://exoplanets.nasa.gov/discovery/exoplanet-catalog/"
   ]
  },
  {
   "cell_type": "markdown",
   "id": "808b99b5",
   "metadata": {},
   "source": [
    "Quieres entrar en cada uno de estos y obtener el tipo de planeta y el metodo de deteción\n",
    "https://exoplanets.nasa.gov/exoplanet-catalog/7466/ogle-2016-blg-1067l-b/"
   ]
  },
  {
   "cell_type": "code",
   "execution_count": 55,
   "id": "855e8a16",
   "metadata": {},
   "outputs": [
    {
     "name": "stdout",
     "output_type": "stream",
     "text": [
      "<class 'pandas.core.frame.DataFrame'>\n",
      "RangeIndex: 331 entries, 0 to 330\n",
      "Data columns (total 12 columns):\n",
      " #   Column                   Non-Null Count  Dtype  \n",
      "---  ------                   --------------  -----  \n",
      " 0   planet_name              331 non-null    object \n",
      " 1   ra_event                 331 non-null    object \n",
      " 2   dec_event                331 non-null    object \n",
      " 3   earth_massses            299 non-null    float64\n",
      " 4   jupyter_masses           299 non-null    float64\n",
      " 5   planet_orbmax            296 non-null    float64\n",
      " 6   lens_distance            297 non-null    float64\n",
      " 7   source_distance          108 non-null    float64\n",
      " 8   einstein_cross_time      316 non-null    float64\n",
      " 9   source_mag               314 non-null    float64\n",
      " 10  planet_star_mass_ratio   245 non-null    float64\n",
      " 11  angular_einstein_radius  269 non-null    float64\n",
      "dtypes: float64(9), object(3)\n",
      "memory usage: 31.2+ KB\n"
     ]
    }
   ],
   "source": [
    "df.info()"
   ]
  },
  {
   "cell_type": "markdown",
   "id": "16e75f10",
   "metadata": {},
   "source": [
    "- sustituir valores nulos con la otra tabla\n",
    "- Data enrichment agregando como nuevas columnas lens_distance y source distance en años luz\n",
    "- Transformar la ascención recta de object a otro valor más representativo\n",
    "- Agregar al dataframe de microlensing la descripción de cada planeta que se detecto por está tecnica\n",
    "- Colacar una columna de valores categoricos basado gass giant...etc de acuerdo a la masa de cada planeta.\n",
    "- Agregar la descripción a la tabla más grande \n",
    "- Hacer un join con la de microlensing  de 300 con el filter de microlensing para tener un nuevo dataframe con valores mixtos y la descripción\n",
    "- Calcular el número de planetas que son de un tipo especifico gass giant...etc\n",
    "- Calcular el número de planetas por el metodo de detectión \n",
    "- sort value de manera descendente del periodo orbital (cuál es el más rápido) groupby (orbital period y tamaño de la orbita) leyes de kepler\n",
    "- Después puedes graficar en base a planet type column (puedes hacer uno dandole tamaño del punto con planet mass column y un histograma de frecuencias con la columna type)"
   ]
  },
  {
   "cell_type": "markdown",
   "id": "922eadca",
   "metadata": {},
   "source": [
    "#### How to make query\n",
    "\n",
    "https://exoplanetarchive.ipac.caltech.edu/docs/TAP/usingTAP.html"
   ]
  },
  {
   "cell_type": "markdown",
   "id": "d6b3b469",
   "metadata": {},
   "source": [
    "#### Planetary systems composite documentation\n",
    "\n",
    "https://exoplanetarchive.ipac.caltech.edu/docs/API_PS_columns.html"
   ]
  },
  {
   "cell_type": "code",
   "execution_count": 81,
   "id": "b3cc4697",
   "metadata": {},
   "outputs": [],
   "source": [
    "response = requests.get('https://exoplanetarchive.ipac.caltech.edu/TAP/sync?query=select+pl_name,hostname,sy_snum,sy_pnum,discoverymethod,disc_year,disc_telescope,pl_orbper,pl_orbsmax,pl_rade,pl_radj,pl_bmasse,pl_bmassj,pl_orbeccen,st_spectype,st_teff,st_rad,st_mass,sy_dist+from+pscomppars&format=json')"
   ]
  },
  {
   "cell_type": "code",
   "execution_count": 82,
   "id": "76ff7432",
   "metadata": {},
   "outputs": [
    {
     "data": {
      "text/plain": [
       "<Response [200]>"
      ]
     },
     "execution_count": 82,
     "metadata": {},
     "output_type": "execute_result"
    }
   ],
   "source": [
    "response"
   ]
  },
  {
   "cell_type": "code",
   "execution_count": 83,
   "id": "e62f8f9a",
   "metadata": {},
   "outputs": [],
   "source": [
    "ps_comp = pd.DataFrame(response.json())"
   ]
  },
  {
   "cell_type": "code",
   "execution_count": 84,
   "id": "918ccbfc",
   "metadata": {},
   "outputs": [
    {
     "data": {
      "text/html": [
       "<div>\n",
       "<style scoped>\n",
       "    .dataframe tbody tr th:only-of-type {\n",
       "        vertical-align: middle;\n",
       "    }\n",
       "\n",
       "    .dataframe tbody tr th {\n",
       "        vertical-align: top;\n",
       "    }\n",
       "\n",
       "    .dataframe thead th {\n",
       "        text-align: right;\n",
       "    }\n",
       "</style>\n",
       "<table border=\"1\" class=\"dataframe\">\n",
       "  <thead>\n",
       "    <tr style=\"text-align: right;\">\n",
       "      <th></th>\n",
       "      <th>pl_name</th>\n",
       "      <th>hostname</th>\n",
       "      <th>sy_snum</th>\n",
       "      <th>sy_pnum</th>\n",
       "      <th>discoverymethod</th>\n",
       "      <th>disc_year</th>\n",
       "      <th>disc_telescope</th>\n",
       "      <th>pl_orbper</th>\n",
       "      <th>pl_orbsmax</th>\n",
       "      <th>pl_rade</th>\n",
       "      <th>pl_radj</th>\n",
       "      <th>pl_bmasse</th>\n",
       "      <th>pl_bmassj</th>\n",
       "      <th>pl_orbeccen</th>\n",
       "      <th>st_spectype</th>\n",
       "      <th>st_teff</th>\n",
       "      <th>st_rad</th>\n",
       "      <th>st_mass</th>\n",
       "      <th>sy_dist</th>\n",
       "    </tr>\n",
       "  </thead>\n",
       "  <tbody>\n",
       "    <tr>\n",
       "      <th>0</th>\n",
       "      <td>OGLE-2016-BLG-1227L b</td>\n",
       "      <td>OGLE-2016-BLG-1227L</td>\n",
       "      <td>1</td>\n",
       "      <td>1</td>\n",
       "      <td>Microlensing</td>\n",
       "      <td>2020</td>\n",
       "      <td>1.3 m Warsaw University Telescope</td>\n",
       "      <td>NaN</td>\n",
       "      <td>3.4000</td>\n",
       "      <td>13.90</td>\n",
       "      <td>1.240</td>\n",
       "      <td>250.0</td>\n",
       "      <td>0.79000</td>\n",
       "      <td>NaN</td>\n",
       "      <td>None</td>\n",
       "      <td>NaN</td>\n",
       "      <td>NaN</td>\n",
       "      <td>0.10</td>\n",
       "      <td>NaN</td>\n",
       "    </tr>\n",
       "    <tr>\n",
       "      <th>1</th>\n",
       "      <td>GJ 480 b</td>\n",
       "      <td>GJ 480</td>\n",
       "      <td>1</td>\n",
       "      <td>1</td>\n",
       "      <td>Radial Velocity</td>\n",
       "      <td>2020</td>\n",
       "      <td>Multiple Telescopes</td>\n",
       "      <td>9.567000</td>\n",
       "      <td>0.0680</td>\n",
       "      <td>3.69</td>\n",
       "      <td>0.330</td>\n",
       "      <td>13.2</td>\n",
       "      <td>0.04153</td>\n",
       "      <td>0.1</td>\n",
       "      <td>M3.5 Ve</td>\n",
       "      <td>3381.0</td>\n",
       "      <td>0.46</td>\n",
       "      <td>0.45</td>\n",
       "      <td>14.2358</td>\n",
       "    </tr>\n",
       "    <tr>\n",
       "      <th>2</th>\n",
       "      <td>Kepler-276 c</td>\n",
       "      <td>Kepler-276</td>\n",
       "      <td>1</td>\n",
       "      <td>3</td>\n",
       "      <td>Transit</td>\n",
       "      <td>2013</td>\n",
       "      <td>0.95 m Kepler Telescope</td>\n",
       "      <td>31.884000</td>\n",
       "      <td>0.1994</td>\n",
       "      <td>2.90</td>\n",
       "      <td>0.259</td>\n",
       "      <td>16.6</td>\n",
       "      <td>0.05200</td>\n",
       "      <td>0.0</td>\n",
       "      <td>None</td>\n",
       "      <td>5779.0</td>\n",
       "      <td>1.03</td>\n",
       "      <td>1.10</td>\n",
       "      <td>1144.8600</td>\n",
       "    </tr>\n",
       "    <tr>\n",
       "      <th>3</th>\n",
       "      <td>Kepler-829 b</td>\n",
       "      <td>Kepler-829</td>\n",
       "      <td>1</td>\n",
       "      <td>1</td>\n",
       "      <td>Transit</td>\n",
       "      <td>2016</td>\n",
       "      <td>0.95 m Kepler Telescope</td>\n",
       "      <td>6.883376</td>\n",
       "      <td>0.0678</td>\n",
       "      <td>2.11</td>\n",
       "      <td>0.188</td>\n",
       "      <td>5.1</td>\n",
       "      <td>0.01600</td>\n",
       "      <td>0.0</td>\n",
       "      <td>None</td>\n",
       "      <td>5698.0</td>\n",
       "      <td>0.97</td>\n",
       "      <td>0.98</td>\n",
       "      <td>1073.7600</td>\n",
       "    </tr>\n",
       "    <tr>\n",
       "      <th>4</th>\n",
       "      <td>K2-283 b</td>\n",
       "      <td>K2-283</td>\n",
       "      <td>1</td>\n",
       "      <td>1</td>\n",
       "      <td>Transit</td>\n",
       "      <td>2018</td>\n",
       "      <td>0.95 m Kepler Telescope</td>\n",
       "      <td>1.921036</td>\n",
       "      <td>0.0291</td>\n",
       "      <td>3.52</td>\n",
       "      <td>0.314</td>\n",
       "      <td>12.2</td>\n",
       "      <td>0.03830</td>\n",
       "      <td>NaN</td>\n",
       "      <td>None</td>\n",
       "      <td>5060.0</td>\n",
       "      <td>0.82</td>\n",
       "      <td>0.89</td>\n",
       "      <td>402.9150</td>\n",
       "    </tr>\n",
       "  </tbody>\n",
       "</table>\n",
       "</div>"
      ],
      "text/plain": [
       "                 pl_name             hostname  sy_snum  sy_pnum  \\\n",
       "0  OGLE-2016-BLG-1227L b  OGLE-2016-BLG-1227L        1        1   \n",
       "1               GJ 480 b               GJ 480        1        1   \n",
       "2           Kepler-276 c           Kepler-276        1        3   \n",
       "3           Kepler-829 b           Kepler-829        1        1   \n",
       "4               K2-283 b               K2-283        1        1   \n",
       "\n",
       "   discoverymethod  disc_year                     disc_telescope  pl_orbper  \\\n",
       "0     Microlensing       2020  1.3 m Warsaw University Telescope        NaN   \n",
       "1  Radial Velocity       2020                Multiple Telescopes   9.567000   \n",
       "2          Transit       2013            0.95 m Kepler Telescope  31.884000   \n",
       "3          Transit       2016            0.95 m Kepler Telescope   6.883376   \n",
       "4          Transit       2018            0.95 m Kepler Telescope   1.921036   \n",
       "\n",
       "   pl_orbsmax  pl_rade  pl_radj  pl_bmasse  pl_bmassj  pl_orbeccen  \\\n",
       "0      3.4000    13.90    1.240      250.0    0.79000          NaN   \n",
       "1      0.0680     3.69    0.330       13.2    0.04153          0.1   \n",
       "2      0.1994     2.90    0.259       16.6    0.05200          0.0   \n",
       "3      0.0678     2.11    0.188        5.1    0.01600          0.0   \n",
       "4      0.0291     3.52    0.314       12.2    0.03830          NaN   \n",
       "\n",
       "  st_spectype  st_teff  st_rad  st_mass    sy_dist  \n",
       "0        None      NaN     NaN     0.10        NaN  \n",
       "1     M3.5 Ve   3381.0    0.46     0.45    14.2358  \n",
       "2        None   5779.0    1.03     1.10  1144.8600  \n",
       "3        None   5698.0    0.97     0.98  1073.7600  \n",
       "4        None   5060.0    0.82     0.89   402.9150  "
      ]
     },
     "execution_count": 84,
     "metadata": {},
     "output_type": "execute_result"
    }
   ],
   "source": [
    "ps_comp.head()"
   ]
  },
  {
   "cell_type": "code",
   "execution_count": 85,
   "id": "7179e220",
   "metadata": {},
   "outputs": [
    {
     "name": "stdout",
     "output_type": "stream",
     "text": [
      "<class 'pandas.core.frame.DataFrame'>\n",
      "RangeIndex: 4516 entries, 0 to 4515\n",
      "Data columns (total 19 columns):\n",
      " #   Column           Non-Null Count  Dtype  \n",
      "---  ------           --------------  -----  \n",
      " 0   pl_name          4516 non-null   object \n",
      " 1   hostname         4516 non-null   object \n",
      " 2   sy_snum          4516 non-null   int64  \n",
      " 3   sy_pnum          4516 non-null   int64  \n",
      " 4   discoverymethod  4516 non-null   object \n",
      " 5   disc_year        4516 non-null   int64  \n",
      " 6   disc_telescope   4516 non-null   object \n",
      " 7   pl_orbper        4365 non-null   float64\n",
      " 8   pl_orbsmax       4331 non-null   float64\n",
      " 9   pl_rade          4502 non-null   float64\n",
      " 10  pl_radj          4500 non-null   float64\n",
      " 11  pl_bmasse        4494 non-null   float64\n",
      " 12  pl_bmassj        4494 non-null   float64\n",
      " 13  pl_orbeccen      3981 non-null   float64\n",
      " 14  st_spectype      1638 non-null   object \n",
      " 15  st_teff          4394 non-null   float64\n",
      " 16  st_rad           4375 non-null   float64\n",
      " 17  st_mass          4512 non-null   float64\n",
      " 18  sy_dist          4510 non-null   float64\n",
      "dtypes: float64(11), int64(3), object(5)\n",
      "memory usage: 670.5+ KB\n"
     ]
    }
   ],
   "source": [
    "ps_comp.info()"
   ]
  },
  {
   "cell_type": "code",
   "execution_count": 87,
   "id": "c24d883d",
   "metadata": {},
   "outputs": [
    {
     "data": {
      "text/plain": [
       "pl_name            0.000000\n",
       "hostname           0.000000\n",
       "sy_snum            0.000000\n",
       "sy_pnum            0.000000\n",
       "discoverymethod    0.000000\n",
       "disc_year          0.000000\n",
       "disc_telescope     0.000000\n",
       "pl_orbper          0.033437\n",
       "pl_orbsmax         0.040965\n",
       "pl_rade            0.003100\n",
       "pl_radj            0.003543\n",
       "pl_bmasse          0.004872\n",
       "pl_bmassj          0.004872\n",
       "pl_orbeccen        0.118468\n",
       "st_spectype        0.637290\n",
       "st_teff            0.027015\n",
       "st_rad             0.031222\n",
       "st_mass            0.000886\n",
       "sy_dist            0.001329\n",
       "dtype: float64"
      ]
     },
     "execution_count": 87,
     "metadata": {},
     "output_type": "execute_result"
    }
   ],
   "source": [
    "ps_comp.isnull().mean()"
   ]
  },
  {
   "cell_type": "code",
   "execution_count": 92,
   "id": "c6cbe299",
   "metadata": {
    "collapsed": true
   },
   "outputs": [
    {
     "ename": "NameError",
     "evalue": "name 'bar' is not defined",
     "output_type": "error",
     "traceback": [
      "\u001b[0;31m---------------------------------------------------------------------------\u001b[0m",
      "\u001b[0;31mNameError\u001b[0m                                 Traceback (most recent call last)",
      "\u001b[0;32m<ipython-input-92-22818bb12500>\u001b[0m in \u001b[0;36m<module>\u001b[0;34m\u001b[0m\n\u001b[0;32m----> 1\u001b[0;31m \u001b[0mps_comp\u001b[0m\u001b[0;34m[\u001b[0m\u001b[0;34m'discoverymethod'\u001b[0m\u001b[0;34m]\u001b[0m\u001b[0;34m.\u001b[0m\u001b[0mvalue_counts\u001b[0m\u001b[0;34m(\u001b[0m\u001b[0;34m)\u001b[0m\u001b[0;34m.\u001b[0m\u001b[0mplot\u001b[0m\u001b[0;34m(\u001b[0m\u001b[0mkind\u001b[0m\u001b[0;34m=\u001b[0m\u001b[0mbar\u001b[0m\u001b[0;34m)\u001b[0m\u001b[0;34m\u001b[0m\u001b[0;34m\u001b[0m\u001b[0m\n\u001b[0m",
      "\u001b[0;31mNameError\u001b[0m: name 'bar' is not defined"
     ]
    }
   ],
   "source": [
    "ps_comp['discoverymethod'].value_counts().plot(kind=bar)"
   ]
  },
  {
   "cell_type": "code",
   "execution_count": 93,
   "id": "ae008da4",
   "metadata": {},
   "outputs": [],
   "source": [
    "ps_comp.to_csv('ps_comp_data.csv')"
   ]
  },
  {
   "cell_type": "code",
   "execution_count": null,
   "id": "bf887a4b",
   "metadata": {},
   "outputs": [],
   "source": []
  }
 ],
 "metadata": {
  "kernelspec": {
   "display_name": "Python 3",
   "language": "python",
   "name": "python3"
  },
  "language_info": {
   "codemirror_mode": {
    "name": "ipython",
    "version": 3
   },
   "file_extension": ".py",
   "mimetype": "text/x-python",
   "name": "python",
   "nbconvert_exporter": "python",
   "pygments_lexer": "ipython3",
   "version": "3.8.8"
  }
 },
 "nbformat": 4,
 "nbformat_minor": 5
}
