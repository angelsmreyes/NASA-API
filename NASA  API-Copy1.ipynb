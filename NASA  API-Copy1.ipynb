{
 "cells": [
  {
   "cell_type": "code",
   "execution_count": 2,
   "id": "161da7f6",
   "metadata": {},
   "outputs": [],
   "source": [
    "import pandas as pd\n",
    "import requests\n",
    "import numpy as np"
   ]
  },
  {
   "cell_type": "code",
   "execution_count": null,
   "id": "2f9126ee",
   "metadata": {},
   "outputs": [],
   "source": [
    "def request_api(url):\n",
    "    return response = requests.get(url)"
   ]
  },
  {
   "cell_type": "code",
   "execution_count": null,
   "id": "374e2edb",
   "metadata": {},
   "outputs": [],
   "source": [
    "def content_trans(x):\n",
    "    x = request_api()\n"
   ]
  },
  {
   "cell_type": "code",
   "execution_count": null,
   "id": "93d48632",
   "metadata": {},
   "outputs": [],
   "source": [
    "def dataframe_generator():\n",
    "    "
   ]
  },
  {
   "cell_type": "markdown",
   "id": "33e38dbb",
   "metadata": {},
   "source": [
    "### Primer dataframe"
   ]
  },
  {
   "cell_type": "markdown",
   "id": "d595942c",
   "metadata": {},
   "source": [
    "### Data acquisition"
   ]
  },
  {
   "cell_type": "code",
   "execution_count": 98,
   "id": "7fbcc977",
   "metadata": {},
   "outputs": [],
   "source": [
    "response = requests.get('https://exoplanetarchive.ipac.caltech.edu/cgi-bin/nstedAPI/nph-nstedAPI?table=ML&format=json')"
   ]
  },
  {
   "cell_type": "code",
   "execution_count": 99,
   "id": "4c16acd7",
   "metadata": {},
   "outputs": [
    {
     "data": {
      "text/plain": [
       "<Response [200]>"
      ]
     },
     "execution_count": 99,
     "metadata": {},
     "output_type": "execute_result"
    }
   ],
   "source": [
    "response"
   ]
  },
  {
   "cell_type": "code",
   "execution_count": 100,
   "id": "56c0820d",
   "metadata": {},
   "outputs": [],
   "source": [
    "mlen = pd.DataFrame(response.json())"
   ]
  },
  {
   "cell_type": "markdown",
   "id": "ca2c79ef",
   "metadata": {},
   "source": [
    "-------------------------------------------------"
   ]
  },
  {
   "cell_type": "markdown",
   "id": "6c1b46a3",
   "metadata": {},
   "source": [
    "### Evaluation"
   ]
  },
  {
   "cell_type": "code",
   "execution_count": 101,
   "id": "1096c1c8",
   "metadata": {},
   "outputs": [
    {
     "data": {
      "text/html": [
       "<div>\n",
       "<style scoped>\n",
       "    .dataframe tbody tr th:only-of-type {\n",
       "        vertical-align: middle;\n",
       "    }\n",
       "\n",
       "    .dataframe tbody tr th {\n",
       "        vertical-align: top;\n",
       "    }\n",
       "\n",
       "    .dataframe thead th {\n",
       "        text-align: right;\n",
       "    }\n",
       "</style>\n",
       "<table border=\"1\" class=\"dataframe\">\n",
       "  <thead>\n",
       "    <tr style=\"text-align: right;\">\n",
       "      <th></th>\n",
       "      <th>pl_name</th>\n",
       "      <th>rastr</th>\n",
       "      <th>decstr</th>\n",
       "      <th>pl_masse</th>\n",
       "      <th>pl_masseerr1</th>\n",
       "      <th>pl_masseerr2</th>\n",
       "      <th>pl_masselim</th>\n",
       "      <th>pl_massj</th>\n",
       "      <th>pl_massjerr1</th>\n",
       "      <th>pl_massjerr2</th>\n",
       "      <th>...</th>\n",
       "      <th>ml_radeinang</th>\n",
       "      <th>ml_radeinangerr1</th>\n",
       "      <th>ml_radeinangerr2</th>\n",
       "      <th>ml_radeinanglim</th>\n",
       "      <th>ml_pmrells</th>\n",
       "      <th>ml_pmrellserr1</th>\n",
       "      <th>ml_pmrellserr2</th>\n",
       "      <th>ml_pmrellslim</th>\n",
       "      <th>ml_modeldef</th>\n",
       "      <th>htmllink</th>\n",
       "    </tr>\n",
       "  </thead>\n",
       "  <tbody>\n",
       "    <tr>\n",
       "      <th>0</th>\n",
       "      <td>KMT-2019-BLG-1953L b</td>\n",
       "      <td>17h56m27.90s</td>\n",
       "      <td>-28d12m04.00s</td>\n",
       "      <td>NaN</td>\n",
       "      <td>NaN</td>\n",
       "      <td>NaN</td>\n",
       "      <td>0</td>\n",
       "      <td>NaN</td>\n",
       "      <td>NaN</td>\n",
       "      <td>NaN</td>\n",
       "      <td>...</td>\n",
       "      <td>0.250</td>\n",
       "      <td>0.020</td>\n",
       "      <td>-0.020</td>\n",
       "      <td>0.0</td>\n",
       "      <td>5.70</td>\n",
       "      <td>0.46</td>\n",
       "      <td>-0.46</td>\n",
       "      <td>0.0</td>\n",
       "      <td>0</td>\n",
       "      <td>&lt;a refstr=HAN_ET_AL__2020 href=https://ui.adsa...</td>\n",
       "    </tr>\n",
       "    <tr>\n",
       "      <th>1</th>\n",
       "      <td>MOA-2013-BLG-605L b</td>\n",
       "      <td>17h58m42.85s</td>\n",
       "      <td>-29d23m53.66s</td>\n",
       "      <td>20.58</td>\n",
       "      <td>0.56</td>\n",
       "      <td>-6.66</td>\n",
       "      <td>0</td>\n",
       "      <td>0.06475</td>\n",
       "      <td>0.0018</td>\n",
       "      <td>-0.021</td>\n",
       "      <td>...</td>\n",
       "      <td>0.503</td>\n",
       "      <td>0.034</td>\n",
       "      <td>-0.034</td>\n",
       "      <td>0.0</td>\n",
       "      <td>9.03</td>\n",
       "      <td>0.63</td>\n",
       "      <td>-0.63</td>\n",
       "      <td>0.0</td>\n",
       "      <td>0</td>\n",
       "      <td>&lt;a refstr=SUMI_ET_AL__2016 href=https://ui.ads...</td>\n",
       "    </tr>\n",
       "    <tr>\n",
       "      <th>2</th>\n",
       "      <td>KMT-2019-BLG-1953L b</td>\n",
       "      <td>17h56m27.90s</td>\n",
       "      <td>-28d12m04.00s</td>\n",
       "      <td>NaN</td>\n",
       "      <td>NaN</td>\n",
       "      <td>NaN</td>\n",
       "      <td>0</td>\n",
       "      <td>NaN</td>\n",
       "      <td>NaN</td>\n",
       "      <td>NaN</td>\n",
       "      <td>...</td>\n",
       "      <td>0.250</td>\n",
       "      <td>0.020</td>\n",
       "      <td>-0.020</td>\n",
       "      <td>0.0</td>\n",
       "      <td>5.70</td>\n",
       "      <td>0.46</td>\n",
       "      <td>-0.46</td>\n",
       "      <td>0.0</td>\n",
       "      <td>0</td>\n",
       "      <td>&lt;a refstr=HAN_ET_AL__2020 href=https://ui.adsa...</td>\n",
       "    </tr>\n",
       "    <tr>\n",
       "      <th>3</th>\n",
       "      <td>OGLE-2005-BLG-390L b</td>\n",
       "      <td>17h54m19.2s</td>\n",
       "      <td>-30d22m38s</td>\n",
       "      <td>5.50</td>\n",
       "      <td>5.50</td>\n",
       "      <td>-2.70</td>\n",
       "      <td>0</td>\n",
       "      <td>0.01700</td>\n",
       "      <td>0.0170</td>\n",
       "      <td>-0.009</td>\n",
       "      <td>...</td>\n",
       "      <td>NaN</td>\n",
       "      <td>NaN</td>\n",
       "      <td>NaN</td>\n",
       "      <td>NaN</td>\n",
       "      <td>NaN</td>\n",
       "      <td>NaN</td>\n",
       "      <td>NaN</td>\n",
       "      <td>NaN</td>\n",
       "      <td>1</td>\n",
       "      <td>&lt;a refstr=BEAULIEU_ET_AL__2006 href=https://ui...</td>\n",
       "    </tr>\n",
       "    <tr>\n",
       "      <th>4</th>\n",
       "      <td>OGLE-2012-BLG-0950L b</td>\n",
       "      <td>18h08m04.62s</td>\n",
       "      <td>-29d43m53.7s</td>\n",
       "      <td>36.00</td>\n",
       "      <td>8.00</td>\n",
       "      <td>-6.00</td>\n",
       "      <td>0</td>\n",
       "      <td>0.11000</td>\n",
       "      <td>0.0300</td>\n",
       "      <td>-0.020</td>\n",
       "      <td>...</td>\n",
       "      <td>0.860</td>\n",
       "      <td>0.150</td>\n",
       "      <td>-0.060</td>\n",
       "      <td>0.0</td>\n",
       "      <td>4.60</td>\n",
       "      <td>0.90</td>\n",
       "      <td>-0.30</td>\n",
       "      <td>0.0</td>\n",
       "      <td>0</td>\n",
       "      <td>&lt;a refstr=KOSHIMOTO_ET_AL__2017 href=https://u...</td>\n",
       "    </tr>\n",
       "  </tbody>\n",
       "</table>\n",
       "<p>5 rows × 73 columns</p>\n",
       "</div>"
      ],
      "text/plain": [
       "                 pl_name         rastr         decstr  pl_masse  pl_masseerr1  \\\n",
       "0   KMT-2019-BLG-1953L b  17h56m27.90s  -28d12m04.00s       NaN           NaN   \n",
       "1    MOA-2013-BLG-605L b  17h58m42.85s  -29d23m53.66s     20.58          0.56   \n",
       "2   KMT-2019-BLG-1953L b  17h56m27.90s  -28d12m04.00s       NaN           NaN   \n",
       "3   OGLE-2005-BLG-390L b   17h54m19.2s     -30d22m38s      5.50          5.50   \n",
       "4  OGLE-2012-BLG-0950L b  18h08m04.62s   -29d43m53.7s     36.00          8.00   \n",
       "\n",
       "   pl_masseerr2  pl_masselim  pl_massj  pl_massjerr1  pl_massjerr2  ...  \\\n",
       "0           NaN            0       NaN           NaN           NaN  ...   \n",
       "1         -6.66            0   0.06475        0.0018        -0.021  ...   \n",
       "2           NaN            0       NaN           NaN           NaN  ...   \n",
       "3         -2.70            0   0.01700        0.0170        -0.009  ...   \n",
       "4         -6.00            0   0.11000        0.0300        -0.020  ...   \n",
       "\n",
       "   ml_radeinang  ml_radeinangerr1  ml_radeinangerr2  ml_radeinanglim  \\\n",
       "0         0.250             0.020            -0.020              0.0   \n",
       "1         0.503             0.034            -0.034              0.0   \n",
       "2         0.250             0.020            -0.020              0.0   \n",
       "3           NaN               NaN               NaN              NaN   \n",
       "4         0.860             0.150            -0.060              0.0   \n",
       "\n",
       "   ml_pmrells  ml_pmrellserr1  ml_pmrellserr2  ml_pmrellslim  ml_modeldef  \\\n",
       "0        5.70            0.46           -0.46            0.0            0   \n",
       "1        9.03            0.63           -0.63            0.0            0   \n",
       "2        5.70            0.46           -0.46            0.0            0   \n",
       "3         NaN             NaN             NaN            NaN            1   \n",
       "4        4.60            0.90           -0.30            0.0            0   \n",
       "\n",
       "                                            htmllink  \n",
       "0  <a refstr=HAN_ET_AL__2020 href=https://ui.adsa...  \n",
       "1  <a refstr=SUMI_ET_AL__2016 href=https://ui.ads...  \n",
       "2  <a refstr=HAN_ET_AL__2020 href=https://ui.adsa...  \n",
       "3  <a refstr=BEAULIEU_ET_AL__2006 href=https://ui...  \n",
       "4  <a refstr=KOSHIMOTO_ET_AL__2017 href=https://u...  \n",
       "\n",
       "[5 rows x 73 columns]"
      ]
     },
     "execution_count": 101,
     "metadata": {},
     "output_type": "execute_result"
    }
   ],
   "source": [
    "mlen.head()"
   ]
  },
  {
   "cell_type": "code",
   "execution_count": 102,
   "id": "bc05709f",
   "metadata": {},
   "outputs": [
    {
     "data": {
      "text/plain": [
       "(331, 73)"
      ]
     },
     "execution_count": 102,
     "metadata": {},
     "output_type": "execute_result"
    }
   ],
   "source": [
    "mlen.shape"
   ]
  },
  {
   "cell_type": "code",
   "execution_count": 103,
   "id": "4ff23679",
   "metadata": {},
   "outputs": [
    {
     "name": "stdout",
     "output_type": "stream",
     "text": [
      "<class 'pandas.core.frame.DataFrame'>\n",
      "RangeIndex: 331 entries, 0 to 330\n",
      "Data columns (total 73 columns):\n",
      " #   Column             Non-Null Count  Dtype  \n",
      "---  ------             --------------  -----  \n",
      " 0   pl_name            331 non-null    object \n",
      " 1   rastr              331 non-null    object \n",
      " 2   decstr             331 non-null    object \n",
      " 3   pl_masse           299 non-null    float64\n",
      " 4   pl_masseerr1       296 non-null    float64\n",
      " 5   pl_masseerr2       296 non-null    float64\n",
      " 6   pl_masselim        331 non-null    int64  \n",
      " 7   pl_massj           299 non-null    float64\n",
      " 8   pl_massjerr1       296 non-null    float64\n",
      " 9   pl_massjerr2       296 non-null    float64\n",
      " 10  pl_massjlim        331 non-null    int64  \n",
      " 11  pl_orbsmax         296 non-null    float64\n",
      " 12  pl_orbsmaxerr1     271 non-null    float64\n",
      " 13  pl_orbsmaxerr2     271 non-null    float64\n",
      " 14  pl_orbsmaxlim      330 non-null    float64\n",
      " 15  st_mass            301 non-null    float64\n",
      " 16  st_masserr1        298 non-null    float64\n",
      " 17  st_masserr2        298 non-null    float64\n",
      " 18  st_masslim         301 non-null    float64\n",
      " 19  sy_dist            297 non-null    float64\n",
      " 20  sy_disterr1        274 non-null    float64\n",
      " 21  sy_disterr2        274 non-null    float64\n",
      " 22  sy_distlim         297 non-null    float64\n",
      " 23  ml_dists           108 non-null    float64\n",
      " 24  ml_distserr1       40 non-null     float64\n",
      " 25  ml_distserr2       39 non-null     float64\n",
      " 26  ml_distslim        108 non-null    float64\n",
      " 27  ml_tsepmin         312 non-null    float64\n",
      " 28  ml_tsepminerr1     304 non-null    float64\n",
      " 29  ml_tsepminerr2     304 non-null    float64\n",
      " 30  ml_tsepminlim      312 non-null    float64\n",
      " 31  ml_sepminnorm      311 non-null    float64\n",
      " 32  ml_sepminnormerr1  302 non-null    float64\n",
      " 33  ml_sepminnormerr2  302 non-null    float64\n",
      " 34  ml_sepminnormlim   311 non-null    float64\n",
      " 35  ml_xtimeein        316 non-null    float64\n",
      " 36  ml_xtimeeinerr1    306 non-null    float64\n",
      " 37  ml_xtimeeinerr2    306 non-null    float64\n",
      " 38  ml_xtimeeinlim     316 non-null    float64\n",
      " 39  ml_radsnorm        270 non-null    float64\n",
      " 40  ml_radsnormerr1    223 non-null    float64\n",
      " 41  ml_radsnormerr2    223 non-null    float64\n",
      " 42  ml_radsnormlim     270 non-null    float64\n",
      " 43  ml_sepinsnorp      312 non-null    float64\n",
      " 44  ml_sepinsnorperr1  306 non-null    float64\n",
      " 45  ml_sepinsnorperr2  306 non-null    float64\n",
      " 46  ml_sepinsnorplim   312 non-null    float64\n",
      " 47  ml_massratio       314 non-null    float64\n",
      " 48  ml_massratioerr1   308 non-null    float64\n",
      " 49  ml_massratioerr2   308 non-null    float64\n",
      " 50  ml_massratiolim    314 non-null    float64\n",
      " 51  ml_angstlax        311 non-null    float64\n",
      " 52  ml_angstlaxerr1    303 non-null    float64\n",
      " 53  ml_angstlaxerr2    303 non-null    float64\n",
      " 54  ml_angstlaxlim     311 non-null    float64\n",
      " 55  ml_magis           245 non-null    float64\n",
      " 56  ml_magiserr1       222 non-null    float64\n",
      " 57  ml_magiserr2       222 non-null    float64\n",
      " 58  ml_magislim        245 non-null    float64\n",
      " 59  ml_magibl          65 non-null     float64\n",
      " 60  ml_magiblerr1      39 non-null     float64\n",
      " 61  ml_magiblerr2      39 non-null     float64\n",
      " 62  ml_magibllim       65 non-null     float64\n",
      " 63  ml_radeinang       269 non-null    float64\n",
      " 64  ml_radeinangerr1   248 non-null    float64\n",
      " 65  ml_radeinangerr2   248 non-null    float64\n",
      " 66  ml_radeinanglim    269 non-null    float64\n",
      " 67  ml_pmrells         256 non-null    float64\n",
      " 68  ml_pmrellserr1     242 non-null    float64\n",
      " 69  ml_pmrellserr2     242 non-null    float64\n",
      " 70  ml_pmrellslim      256 non-null    float64\n",
      " 71  ml_modeldef        331 non-null    int64  \n",
      " 72  htmllink           331 non-null    object \n",
      "dtypes: float64(66), int64(3), object(4)\n",
      "memory usage: 188.9+ KB\n"
     ]
    }
   ],
   "source": [
    "mlen.info()"
   ]
  },
  {
   "cell_type": "code",
   "execution_count": 104,
   "id": "fa018f7e",
   "metadata": {},
   "outputs": [
    {
     "data": {
      "text/plain": [
       "pl_name            0\n",
       "rastr              0\n",
       "decstr             0\n",
       "pl_masse          32\n",
       "pl_masseerr1      35\n",
       "                  ..\n",
       "ml_pmrellserr1    89\n",
       "ml_pmrellserr2    89\n",
       "ml_pmrellslim     75\n",
       "ml_modeldef        0\n",
       "htmllink           0\n",
       "Length: 73, dtype: int64"
      ]
     },
     "execution_count": 104,
     "metadata": {},
     "output_type": "execute_result"
    }
   ],
   "source": [
    "mlen.isnull().sum()"
   ]
  },
  {
   "cell_type": "code",
   "execution_count": 105,
   "id": "68455010",
   "metadata": {
    "collapsed": true
   },
   "outputs": [
    {
     "data": {
      "text/plain": [
       "Index(['pl_name', 'rastr', 'decstr', 'pl_masse', 'pl_masseerr1',\n",
       "       'pl_masseerr2', 'pl_masselim', 'pl_massj', 'pl_massjerr1',\n",
       "       'pl_massjerr2', 'pl_massjlim', 'pl_orbsmax', 'pl_orbsmaxerr1',\n",
       "       'pl_orbsmaxerr2', 'pl_orbsmaxlim', 'st_mass', 'st_masserr1',\n",
       "       'st_masserr2', 'st_masslim', 'sy_dist', 'sy_disterr1', 'sy_disterr2',\n",
       "       'sy_distlim', 'ml_dists', 'ml_distserr1', 'ml_distserr2', 'ml_distslim',\n",
       "       'ml_tsepmin', 'ml_tsepminerr1', 'ml_tsepminerr2', 'ml_tsepminlim',\n",
       "       'ml_sepminnorm', 'ml_sepminnormerr1', 'ml_sepminnormerr2',\n",
       "       'ml_sepminnormlim', 'ml_xtimeein', 'ml_xtimeeinerr1', 'ml_xtimeeinerr2',\n",
       "       'ml_xtimeeinlim', 'ml_radsnorm', 'ml_radsnormerr1', 'ml_radsnormerr2',\n",
       "       'ml_radsnormlim', 'ml_sepinsnorp', 'ml_sepinsnorperr1',\n",
       "       'ml_sepinsnorperr2', 'ml_sepinsnorplim', 'ml_massratio',\n",
       "       'ml_massratioerr1', 'ml_massratioerr2', 'ml_massratiolim',\n",
       "       'ml_angstlax', 'ml_angstlaxerr1', 'ml_angstlaxerr2', 'ml_angstlaxlim',\n",
       "       'ml_magis', 'ml_magiserr1', 'ml_magiserr2', 'ml_magislim', 'ml_magibl',\n",
       "       'ml_magiblerr1', 'ml_magiblerr2', 'ml_magibllim', 'ml_radeinang',\n",
       "       'ml_radeinangerr1', 'ml_radeinangerr2', 'ml_radeinanglim', 'ml_pmrells',\n",
       "       'ml_pmrellserr1', 'ml_pmrellserr2', 'ml_pmrellslim', 'ml_modeldef',\n",
       "       'htmllink'],\n",
       "      dtype='object')"
      ]
     },
     "execution_count": 105,
     "metadata": {},
     "output_type": "execute_result"
    }
   ],
   "source": [
    "mlen.columns"
   ]
  },
  {
   "cell_type": "markdown",
   "id": "07c17d4e",
   "metadata": {},
   "source": [
    "### Documentation"
   ]
  },
  {
   "cell_type": "markdown",
   "id": "23f1d0ad",
   "metadata": {},
   "source": [
    "Como se puede observar los nombres de cada una de las columnas no son intuitivos. Se puede visitar la siguiente documentación para una explicación de el significado de cada una de las columnas y lo que representa:\n",
    "\n",
    "https://exoplanetarchive.ipac.caltech.edu/docs/API_ML.html\n",
    "https://exoplanetarchive.ipac.caltech.edu/docs/microlensing-column-mapping.pdf\n",
    "\n",
    "Sin embargo solo seran seleccionadas las listadas a continuación:\n",
    "\n",
    "- **pl_name:** Planet Name (Planet name)\n",
    "- **rastr:** RA (Right ascension of the microlensing event, in sexagesimal format\n",
    "- **decstr:** Declination of the microlensing event, in sexagesimal format\n",
    "- **pl_masse:** Mass of planet, in Earth masses\n",
    "- **pl_massj:** Planet Mass (Mass of planet, in Jupiter masses)\n",
    "- **pl_orbsmax** Planet-star Projected Semi-major Axis, unidad = Astronomical unit (au) \n",
    "- **sy_dist:** Lens Distance, unidad = Parsec (pc)\n",
    "- **ml_dists:** Source Distance, unidad = Parsec (pc)\n",
    "- **ml_xtimeein:**'  \n",
    "- **ml_massratio:** Planet-star Mass Ratio (10^-4)\n",
    "- **ml_magis:** Source I-band unidad = mag \n",
    "- **ml_radeinang:** Angular Einstein Radius, unidad = mas \n",
    " \n",
    " \n",
    " \n"
   ]
  },
  {
   "cell_type": "markdown",
   "id": "583d201d",
   "metadata": {},
   "source": [
    "De la siguiente manera se pueden seleccionar las columnas especificadas anteriormente."
   ]
  },
  {
   "cell_type": "markdown",
   "id": "a25ea8ec",
   "metadata": {},
   "source": [
    "### wrangling"
   ]
  },
  {
   "cell_type": "code",
   "execution_count": 106,
   "id": "81a9ffdd",
   "metadata": {},
   "outputs": [],
   "source": [
    "to_keep = ['pl_name', 'rastr', 'decstr', 'pl_masse', 'pl_massj', 'pl_orbsmax', 'sy_dist',\n",
    "           'ml_dists', 'ml_xtimeein', 'ml_massratio', 'ml_magis', 'ml_radeinang']"
   ]
  },
  {
   "cell_type": "markdown",
   "id": "bf3f555d",
   "metadata": {},
   "source": [
    "Nos aseguramos de que esten bien los nombres"
   ]
  },
  {
   "cell_type": "code",
   "execution_count": 107,
   "id": "c44341b3",
   "metadata": {},
   "outputs": [],
   "source": [
    "mlen = mlen[to_keep]"
   ]
  },
  {
   "cell_type": "code",
   "execution_count": 108,
   "id": "541c7136",
   "metadata": {
    "scrolled": false
   },
   "outputs": [
    {
     "data": {
      "text/html": [
       "<div>\n",
       "<style scoped>\n",
       "    .dataframe tbody tr th:only-of-type {\n",
       "        vertical-align: middle;\n",
       "    }\n",
       "\n",
       "    .dataframe tbody tr th {\n",
       "        vertical-align: top;\n",
       "    }\n",
       "\n",
       "    .dataframe thead th {\n",
       "        text-align: right;\n",
       "    }\n",
       "</style>\n",
       "<table border=\"1\" class=\"dataframe\">\n",
       "  <thead>\n",
       "    <tr style=\"text-align: right;\">\n",
       "      <th></th>\n",
       "      <th>pl_name</th>\n",
       "      <th>rastr</th>\n",
       "      <th>decstr</th>\n",
       "      <th>pl_masse</th>\n",
       "      <th>pl_massj</th>\n",
       "      <th>pl_orbsmax</th>\n",
       "      <th>sy_dist</th>\n",
       "      <th>ml_dists</th>\n",
       "      <th>ml_xtimeein</th>\n",
       "      <th>ml_massratio</th>\n",
       "      <th>ml_magis</th>\n",
       "      <th>ml_radeinang</th>\n",
       "    </tr>\n",
       "  </thead>\n",
       "  <tbody>\n",
       "    <tr>\n",
       "      <th>0</th>\n",
       "      <td>KMT-2019-BLG-1953L b</td>\n",
       "      <td>17h56m27.90s</td>\n",
       "      <td>-28d12m04.00s</td>\n",
       "      <td>NaN</td>\n",
       "      <td>NaN</td>\n",
       "      <td>NaN</td>\n",
       "      <td>NaN</td>\n",
       "      <td>8000.0</td>\n",
       "      <td>16.18</td>\n",
       "      <td>19.100</td>\n",
       "      <td>20.680</td>\n",
       "      <td>0.250</td>\n",
       "    </tr>\n",
       "    <tr>\n",
       "      <th>1</th>\n",
       "      <td>MOA-2013-BLG-605L b</td>\n",
       "      <td>17h58m42.85s</td>\n",
       "      <td>-29d23m53.66s</td>\n",
       "      <td>20.58</td>\n",
       "      <td>0.06475</td>\n",
       "      <td>4.18</td>\n",
       "      <td>3550.0</td>\n",
       "      <td>NaN</td>\n",
       "      <td>19.83</td>\n",
       "      <td>3.124</td>\n",
       "      <td>18.112</td>\n",
       "      <td>0.503</td>\n",
       "    </tr>\n",
       "    <tr>\n",
       "      <th>2</th>\n",
       "      <td>KMT-2019-BLG-1953L b</td>\n",
       "      <td>17h56m27.90s</td>\n",
       "      <td>-28d12m04.00s</td>\n",
       "      <td>NaN</td>\n",
       "      <td>NaN</td>\n",
       "      <td>NaN</td>\n",
       "      <td>NaN</td>\n",
       "      <td>8000.0</td>\n",
       "      <td>16.02</td>\n",
       "      <td>18.200</td>\n",
       "      <td>20.680</td>\n",
       "      <td>0.250</td>\n",
       "    </tr>\n",
       "  </tbody>\n",
       "</table>\n",
       "</div>"
      ],
      "text/plain": [
       "                pl_name         rastr         decstr  pl_masse  pl_massj  \\\n",
       "0  KMT-2019-BLG-1953L b  17h56m27.90s  -28d12m04.00s       NaN       NaN   \n",
       "1   MOA-2013-BLG-605L b  17h58m42.85s  -29d23m53.66s     20.58   0.06475   \n",
       "2  KMT-2019-BLG-1953L b  17h56m27.90s  -28d12m04.00s       NaN       NaN   \n",
       "\n",
       "   pl_orbsmax  sy_dist  ml_dists  ml_xtimeein  ml_massratio  ml_magis  \\\n",
       "0         NaN      NaN    8000.0        16.18        19.100    20.680   \n",
       "1        4.18   3550.0       NaN        19.83         3.124    18.112   \n",
       "2         NaN      NaN    8000.0        16.02        18.200    20.680   \n",
       "\n",
       "   ml_radeinang  \n",
       "0         0.250  \n",
       "1         0.503  \n",
       "2         0.250  "
      ]
     },
     "execution_count": 108,
     "metadata": {},
     "output_type": "execute_result"
    }
   ],
   "source": [
    "mlen.head(3)"
   ]
  },
  {
   "cell_type": "markdown",
   "id": "6f9bb43e",
   "metadata": {},
   "source": [
    "**Cambiando los nombres a las columnas por nombres más intuitivos**"
   ]
  },
  {
   "cell_type": "code",
   "execution_count": 109,
   "id": "a2958a4b",
   "metadata": {},
   "outputs": [
    {
     "data": {
      "text/plain": [
       "Index(['pl_name', 'rastr', 'decstr', 'pl_masse', 'pl_massj', 'pl_orbsmax',\n",
       "       'sy_dist', 'ml_dists', 'ml_xtimeein', 'ml_massratio', 'ml_magis',\n",
       "       'ml_radeinang'],\n",
       "      dtype='object')"
      ]
     },
     "execution_count": 109,
     "metadata": {},
     "output_type": "execute_result"
    }
   ],
   "source": [
    "mlen.columns"
   ]
  },
  {
   "cell_type": "code",
   "execution_count": 110,
   "id": "f7fc4ea6",
   "metadata": {},
   "outputs": [
    {
     "data": {
      "text/plain": [
       "12"
      ]
     },
     "execution_count": 110,
     "metadata": {},
     "output_type": "execute_result"
    }
   ],
   "source": [
    "len(mlen.columns)"
   ]
  },
  {
   "cell_type": "code",
   "execution_count": 111,
   "id": "22479198",
   "metadata": {},
   "outputs": [
    {
     "data": {
      "text/plain": [
       "Index(['pl_name', 'rastr', 'decstr', 'pl_masse', 'pl_massj', 'pl_orbsmax',\n",
       "       'sy_dist', 'ml_dists', 'ml_xtimeein', 'ml_massratio', 'ml_magis',\n",
       "       'ml_radeinang'],\n",
       "      dtype='object')"
      ]
     },
     "execution_count": 111,
     "metadata": {},
     "output_type": "execute_result"
    }
   ],
   "source": [
    "mlen.columns"
   ]
  },
  {
   "cell_type": "code",
   "execution_count": 112,
   "id": "2060e958",
   "metadata": {},
   "outputs": [],
   "source": [
    "new_names = ['planet_name',  'ra_event', 'dec_event', 'earth_massses', 'jupiter_masses', \n",
    "              'planet_orbmax', 'lens_distance', 'source_distance', 'einstein_cross_time', 'source_mag',\n",
    "             'planet_star_mass_ratio', 'angular_einstein_radius']"
   ]
  },
  {
   "cell_type": "code",
   "execution_count": 113,
   "id": "1e05684d",
   "metadata": {},
   "outputs": [
    {
     "data": {
      "text/plain": [
       "12"
      ]
     },
     "execution_count": 113,
     "metadata": {},
     "output_type": "execute_result"
    }
   ],
   "source": [
    "old_names = [name for name in mlen.columns]\n",
    "len(old_names)"
   ]
  },
  {
   "cell_type": "code",
   "execution_count": 114,
   "id": "fa78a949",
   "metadata": {},
   "outputs": [
    {
     "data": {
      "text/plain": [
       "12"
      ]
     },
     "execution_count": 114,
     "metadata": {},
     "output_type": "execute_result"
    }
   ],
   "source": [
    "len(new_names)"
   ]
  },
  {
   "cell_type": "code",
   "execution_count": 115,
   "id": "8f7cef8f",
   "metadata": {},
   "outputs": [],
   "source": [
    "dict_names = (dict(zip(old_names, new_names)))"
   ]
  },
  {
   "cell_type": "code",
   "execution_count": 116,
   "id": "258ef2f6",
   "metadata": {},
   "outputs": [],
   "source": [
    "mlen.rename(columns=dict_names, inplace=True)"
   ]
  },
  {
   "cell_type": "code",
   "execution_count": 117,
   "id": "1331ce9a",
   "metadata": {},
   "outputs": [
    {
     "data": {
      "text/html": [
       "<div>\n",
       "<style scoped>\n",
       "    .dataframe tbody tr th:only-of-type {\n",
       "        vertical-align: middle;\n",
       "    }\n",
       "\n",
       "    .dataframe tbody tr th {\n",
       "        vertical-align: top;\n",
       "    }\n",
       "\n",
       "    .dataframe thead th {\n",
       "        text-align: right;\n",
       "    }\n",
       "</style>\n",
       "<table border=\"1\" class=\"dataframe\">\n",
       "  <thead>\n",
       "    <tr style=\"text-align: right;\">\n",
       "      <th></th>\n",
       "      <th>planet_name</th>\n",
       "      <th>ra_event</th>\n",
       "      <th>dec_event</th>\n",
       "      <th>earth_massses</th>\n",
       "      <th>jupiter_masses</th>\n",
       "      <th>planet_orbmax</th>\n",
       "      <th>lens_distance</th>\n",
       "      <th>source_distance</th>\n",
       "      <th>einstein_cross_time</th>\n",
       "      <th>source_mag</th>\n",
       "      <th>planet_star_mass_ratio</th>\n",
       "      <th>angular_einstein_radius</th>\n",
       "    </tr>\n",
       "  </thead>\n",
       "  <tbody>\n",
       "    <tr>\n",
       "      <th>0</th>\n",
       "      <td>KMT-2019-BLG-1953L b</td>\n",
       "      <td>17h56m27.90s</td>\n",
       "      <td>-28d12m04.00s</td>\n",
       "      <td>NaN</td>\n",
       "      <td>NaN</td>\n",
       "      <td>NaN</td>\n",
       "      <td>NaN</td>\n",
       "      <td>8000.0</td>\n",
       "      <td>16.18</td>\n",
       "      <td>19.100</td>\n",
       "      <td>20.680</td>\n",
       "      <td>0.250</td>\n",
       "    </tr>\n",
       "    <tr>\n",
       "      <th>1</th>\n",
       "      <td>MOA-2013-BLG-605L b</td>\n",
       "      <td>17h58m42.85s</td>\n",
       "      <td>-29d23m53.66s</td>\n",
       "      <td>20.58</td>\n",
       "      <td>0.06475</td>\n",
       "      <td>4.18</td>\n",
       "      <td>3550.0</td>\n",
       "      <td>NaN</td>\n",
       "      <td>19.83</td>\n",
       "      <td>3.124</td>\n",
       "      <td>18.112</td>\n",
       "      <td>0.503</td>\n",
       "    </tr>\n",
       "  </tbody>\n",
       "</table>\n",
       "</div>"
      ],
      "text/plain": [
       "            planet_name      ra_event      dec_event  earth_massses  \\\n",
       "0  KMT-2019-BLG-1953L b  17h56m27.90s  -28d12m04.00s            NaN   \n",
       "1   MOA-2013-BLG-605L b  17h58m42.85s  -29d23m53.66s          20.58   \n",
       "\n",
       "   jupiter_masses  planet_orbmax  lens_distance  source_distance  \\\n",
       "0             NaN            NaN            NaN           8000.0   \n",
       "1         0.06475           4.18         3550.0              NaN   \n",
       "\n",
       "   einstein_cross_time  source_mag  planet_star_mass_ratio  \\\n",
       "0                16.18      19.100                  20.680   \n",
       "1                19.83       3.124                  18.112   \n",
       "\n",
       "   angular_einstein_radius  \n",
       "0                    0.250  \n",
       "1                    0.503  "
      ]
     },
     "execution_count": 117,
     "metadata": {},
     "output_type": "execute_result"
    }
   ],
   "source": [
    "mlen.head(2)"
   ]
  },
  {
   "cell_type": "markdown",
   "id": "6fd85782",
   "metadata": {},
   "source": [
    "#### Transformando lens_distance and source_distance de parsecs a años luz y agregandolos como nuevas columnas"
   ]
  },
  {
   "cell_type": "code",
   "execution_count": 118,
   "id": "7da5fad5",
   "metadata": {},
   "outputs": [],
   "source": [
    "mlen['lens_distance_ly'] = mlen['lens_distance'] * 3.262"
   ]
  },
  {
   "cell_type": "code",
   "execution_count": 119,
   "id": "dd5d1e9d",
   "metadata": {},
   "outputs": [],
   "source": [
    "mlen['source_distance_ly'] = mlen['source_distance'] * 3.262"
   ]
  },
  {
   "cell_type": "code",
   "execution_count": 127,
   "id": "d477efa4",
   "metadata": {
    "scrolled": false
   },
   "outputs": [
    {
     "data": {
      "text/html": [
       "<div>\n",
       "<style scoped>\n",
       "    .dataframe tbody tr th:only-of-type {\n",
       "        vertical-align: middle;\n",
       "    }\n",
       "\n",
       "    .dataframe tbody tr th {\n",
       "        vertical-align: top;\n",
       "    }\n",
       "\n",
       "    .dataframe thead th {\n",
       "        text-align: right;\n",
       "    }\n",
       "</style>\n",
       "<table border=\"1\" class=\"dataframe\">\n",
       "  <thead>\n",
       "    <tr style=\"text-align: right;\">\n",
       "      <th></th>\n",
       "      <th>planet_name</th>\n",
       "      <th>ra_event</th>\n",
       "      <th>dec_event</th>\n",
       "      <th>earth_massses</th>\n",
       "      <th>jupiter_masses</th>\n",
       "      <th>planet_orbmax</th>\n",
       "      <th>lens_distance</th>\n",
       "      <th>source_distance</th>\n",
       "      <th>einstein_cross_time</th>\n",
       "      <th>source_mag</th>\n",
       "      <th>planet_star_mass_ratio</th>\n",
       "      <th>angular_einstein_radius</th>\n",
       "      <th>lens_distance_ly</th>\n",
       "      <th>source_distance_ly</th>\n",
       "    </tr>\n",
       "  </thead>\n",
       "  <tbody>\n",
       "    <tr>\n",
       "      <th>0</th>\n",
       "      <td>KMT-2019-BLG-1953L b</td>\n",
       "      <td>17 56 27.90</td>\n",
       "      <td>-28 12 04.00</td>\n",
       "      <td>NaN</td>\n",
       "      <td>NaN</td>\n",
       "      <td>NaN</td>\n",
       "      <td>NaN</td>\n",
       "      <td>8000.0</td>\n",
       "      <td>16.18</td>\n",
       "      <td>19.100</td>\n",
       "      <td>20.680</td>\n",
       "      <td>0.250</td>\n",
       "      <td>NaN</td>\n",
       "      <td>26096.0</td>\n",
       "    </tr>\n",
       "    <tr>\n",
       "      <th>1</th>\n",
       "      <td>MOA-2013-BLG-605L b</td>\n",
       "      <td>17 58 42.85</td>\n",
       "      <td>-29 23 53.66</td>\n",
       "      <td>20.58</td>\n",
       "      <td>0.06475</td>\n",
       "      <td>4.18</td>\n",
       "      <td>3550.0</td>\n",
       "      <td>NaN</td>\n",
       "      <td>19.83</td>\n",
       "      <td>3.124</td>\n",
       "      <td>18.112</td>\n",
       "      <td>0.503</td>\n",
       "      <td>11580.1</td>\n",
       "      <td>NaN</td>\n",
       "    </tr>\n",
       "  </tbody>\n",
       "</table>\n",
       "</div>"
      ],
      "text/plain": [
       "            planet_name     ra_event     dec_event  earth_massses  \\\n",
       "0  KMT-2019-BLG-1953L b  17 56 27.90  -28 12 04.00            NaN   \n",
       "1   MOA-2013-BLG-605L b  17 58 42.85  -29 23 53.66          20.58   \n",
       "\n",
       "   jupiter_masses  planet_orbmax  lens_distance  source_distance  \\\n",
       "0             NaN            NaN            NaN           8000.0   \n",
       "1         0.06475           4.18         3550.0              NaN   \n",
       "\n",
       "   einstein_cross_time  source_mag  planet_star_mass_ratio  \\\n",
       "0                16.18      19.100                  20.680   \n",
       "1                19.83       3.124                  18.112   \n",
       "\n",
       "   angular_einstein_radius  lens_distance_ly  source_distance_ly  \n",
       "0                    0.250               NaN             26096.0  \n",
       "1                    0.503           11580.1                 NaN  "
      ]
     },
     "execution_count": 127,
     "metadata": {},
     "output_type": "execute_result"
    }
   ],
   "source": [
    "mlen.head(2)"
   ]
  },
  {
   "cell_type": "markdown",
   "id": "2817851c",
   "metadata": {},
   "source": [
    "Puede leer la siguiente documentación para entender porque se le da el siguiente formato a ra_event y dec_event\n",
    "\n",
    "https://www.ing.iac.es//Astronomy/telescopes/wht/catformat.html"
   ]
  },
  {
   "cell_type": "code",
   "execution_count": 121,
   "id": "a524c68d",
   "metadata": {},
   "outputs": [],
   "source": [
    "mlen['ra_event'] = mlen['ra_event'].str.replace(r'[hm]', ' ', regex=True).str.replace(r's', '', regex=True)"
   ]
  },
  {
   "cell_type": "code",
   "execution_count": 122,
   "id": "7ad2e93a",
   "metadata": {},
   "outputs": [],
   "source": [
    "mlen['ra_event'] = mlen['ra_event'].str.strip()"
   ]
  },
  {
   "cell_type": "code",
   "execution_count": 123,
   "id": "5942dc87",
   "metadata": {},
   "outputs": [],
   "source": [
    "mlen['dec_event'] = mlen['dec_event'].str.replace(r'[dm]', ' ', regex=True).str.replace(r's', '', regex=True)"
   ]
  },
  {
   "cell_type": "code",
   "execution_count": 125,
   "id": "87aa4073",
   "metadata": {
    "scrolled": false
   },
   "outputs": [
    {
     "data": {
      "text/html": [
       "<div>\n",
       "<style scoped>\n",
       "    .dataframe tbody tr th:only-of-type {\n",
       "        vertical-align: middle;\n",
       "    }\n",
       "\n",
       "    .dataframe tbody tr th {\n",
       "        vertical-align: top;\n",
       "    }\n",
       "\n",
       "    .dataframe thead th {\n",
       "        text-align: right;\n",
       "    }\n",
       "</style>\n",
       "<table border=\"1\" class=\"dataframe\">\n",
       "  <thead>\n",
       "    <tr style=\"text-align: right;\">\n",
       "      <th></th>\n",
       "      <th>planet_name</th>\n",
       "      <th>ra_event</th>\n",
       "      <th>dec_event</th>\n",
       "      <th>earth_massses</th>\n",
       "      <th>jupiter_masses</th>\n",
       "      <th>planet_orbmax</th>\n",
       "      <th>lens_distance</th>\n",
       "      <th>source_distance</th>\n",
       "      <th>einstein_cross_time</th>\n",
       "      <th>source_mag</th>\n",
       "      <th>planet_star_mass_ratio</th>\n",
       "      <th>angular_einstein_radius</th>\n",
       "      <th>lens_distance_ly</th>\n",
       "      <th>source_distance_ly</th>\n",
       "    </tr>\n",
       "  </thead>\n",
       "  <tbody>\n",
       "    <tr>\n",
       "      <th>0</th>\n",
       "      <td>KMT-2019-BLG-1953L b</td>\n",
       "      <td>17 56 27.90</td>\n",
       "      <td>-28 12 04.00</td>\n",
       "      <td>NaN</td>\n",
       "      <td>NaN</td>\n",
       "      <td>NaN</td>\n",
       "      <td>NaN</td>\n",
       "      <td>8000.0</td>\n",
       "      <td>16.18</td>\n",
       "      <td>19.100</td>\n",
       "      <td>20.680</td>\n",
       "      <td>0.250</td>\n",
       "      <td>NaN</td>\n",
       "      <td>26096.0</td>\n",
       "    </tr>\n",
       "    <tr>\n",
       "      <th>1</th>\n",
       "      <td>MOA-2013-BLG-605L b</td>\n",
       "      <td>17 58 42.85</td>\n",
       "      <td>-29 23 53.66</td>\n",
       "      <td>20.58</td>\n",
       "      <td>0.06475</td>\n",
       "      <td>4.18</td>\n",
       "      <td>3550.0</td>\n",
       "      <td>NaN</td>\n",
       "      <td>19.83</td>\n",
       "      <td>3.124</td>\n",
       "      <td>18.112</td>\n",
       "      <td>0.503</td>\n",
       "      <td>11580.1</td>\n",
       "      <td>NaN</td>\n",
       "    </tr>\n",
       "    <tr>\n",
       "      <th>2</th>\n",
       "      <td>KMT-2019-BLG-1953L b</td>\n",
       "      <td>17 56 27.90</td>\n",
       "      <td>-28 12 04.00</td>\n",
       "      <td>NaN</td>\n",
       "      <td>NaN</td>\n",
       "      <td>NaN</td>\n",
       "      <td>NaN</td>\n",
       "      <td>8000.0</td>\n",
       "      <td>16.02</td>\n",
       "      <td>18.200</td>\n",
       "      <td>20.680</td>\n",
       "      <td>0.250</td>\n",
       "      <td>NaN</td>\n",
       "      <td>26096.0</td>\n",
       "    </tr>\n",
       "    <tr>\n",
       "      <th>3</th>\n",
       "      <td>OGLE-2005-BLG-390L b</td>\n",
       "      <td>17 54 19.2</td>\n",
       "      <td>-30 22 38</td>\n",
       "      <td>5.50</td>\n",
       "      <td>0.01700</td>\n",
       "      <td>2.60</td>\n",
       "      <td>6600.0</td>\n",
       "      <td>8000.0</td>\n",
       "      <td>11.03</td>\n",
       "      <td>0.760</td>\n",
       "      <td>NaN</td>\n",
       "      <td>NaN</td>\n",
       "      <td>21529.2</td>\n",
       "      <td>26096.0</td>\n",
       "    </tr>\n",
       "    <tr>\n",
       "      <th>4</th>\n",
       "      <td>OGLE-2012-BLG-0950L b</td>\n",
       "      <td>18 08 04.62</td>\n",
       "      <td>-29 43 53.7</td>\n",
       "      <td>36.00</td>\n",
       "      <td>0.11000</td>\n",
       "      <td>2.70</td>\n",
       "      <td>3400.0</td>\n",
       "      <td>NaN</td>\n",
       "      <td>68.50</td>\n",
       "      <td>1.900</td>\n",
       "      <td>19.300</td>\n",
       "      <td>0.860</td>\n",
       "      <td>11090.8</td>\n",
       "      <td>NaN</td>\n",
       "    </tr>\n",
       "  </tbody>\n",
       "</table>\n",
       "</div>"
      ],
      "text/plain": [
       "             planet_name     ra_event     dec_event  earth_massses  \\\n",
       "0   KMT-2019-BLG-1953L b  17 56 27.90  -28 12 04.00            NaN   \n",
       "1    MOA-2013-BLG-605L b  17 58 42.85  -29 23 53.66          20.58   \n",
       "2   KMT-2019-BLG-1953L b  17 56 27.90  -28 12 04.00            NaN   \n",
       "3   OGLE-2005-BLG-390L b   17 54 19.2     -30 22 38           5.50   \n",
       "4  OGLE-2012-BLG-0950L b  18 08 04.62   -29 43 53.7          36.00   \n",
       "\n",
       "   jupiter_masses  planet_orbmax  lens_distance  source_distance  \\\n",
       "0             NaN            NaN            NaN           8000.0   \n",
       "1         0.06475           4.18         3550.0              NaN   \n",
       "2             NaN            NaN            NaN           8000.0   \n",
       "3         0.01700           2.60         6600.0           8000.0   \n",
       "4         0.11000           2.70         3400.0              NaN   \n",
       "\n",
       "   einstein_cross_time  source_mag  planet_star_mass_ratio  \\\n",
       "0                16.18      19.100                  20.680   \n",
       "1                19.83       3.124                  18.112   \n",
       "2                16.02      18.200                  20.680   \n",
       "3                11.03       0.760                     NaN   \n",
       "4                68.50       1.900                  19.300   \n",
       "\n",
       "   angular_einstein_radius  lens_distance_ly  source_distance_ly  \n",
       "0                    0.250               NaN             26096.0  \n",
       "1                    0.503           11580.1                 NaN  \n",
       "2                    0.250               NaN             26096.0  \n",
       "3                      NaN           21529.2             26096.0  \n",
       "4                    0.860           11090.8                 NaN  "
      ]
     },
     "execution_count": 125,
     "metadata": {},
     "output_type": "execute_result"
    }
   ],
   "source": [
    "mlen.head()"
   ]
  },
  {
   "cell_type": "markdown",
   "id": "98a9ff54",
   "metadata": {},
   "source": [
    "#### Saving microlensing data"
   ]
  },
  {
   "cell_type": "code",
   "execution_count": 130,
   "id": "1766359d",
   "metadata": {},
   "outputs": [],
   "source": [
    "mlen.to_csv('microlensing_data.csv', index=False)"
   ]
  },
  {
   "cell_type": "markdown",
   "id": "92b2bdd0",
   "metadata": {},
   "source": [
    "### Description"
   ]
  },
  {
   "cell_type": "code",
   "execution_count": 56,
   "id": "de715cf1",
   "metadata": {
    "collapsed": true
   },
   "outputs": [
    {
     "data": {
      "text/plain": [
       "planet_name                0.000000\n",
       "ra_event                   0.000000\n",
       "dec_event                  0.000000\n",
       "earth_massses              0.096677\n",
       "jupiter_masses             0.096677\n",
       "planet_orbmax              0.105740\n",
       "lens_distance              0.102719\n",
       "source_distance            0.673716\n",
       "einstein_cross_time        0.045317\n",
       "source_mag                 0.051360\n",
       "planet_star_mass_ratio     0.259819\n",
       "angular_einstein_radius    0.187311\n",
       "dtype: float64"
      ]
     },
     "execution_count": 56,
     "metadata": {},
     "output_type": "execute_result"
    }
   ],
   "source": [
    "mlen.isnull().mean()"
   ]
  },
  {
   "cell_type": "code",
   "execution_count": 78,
   "id": "eb3fca1b",
   "metadata": {
    "collapsed": true
   },
   "outputs": [
    {
     "name": "stdout",
     "output_type": "stream",
     "text": [
      "<class 'pandas.core.frame.DataFrame'>\n",
      "RangeIndex: 331 entries, 0 to 330\n",
      "Data columns (total 14 columns):\n",
      " #   Column                   Non-Null Count  Dtype  \n",
      "---  ------                   --------------  -----  \n",
      " 0   planet_name              331 non-null    object \n",
      " 1   ra_event                 331 non-null    object \n",
      " 2   dec_event                331 non-null    object \n",
      " 3   earth_massses            299 non-null    float64\n",
      " 4   jupiter_masses           299 non-null    float64\n",
      " 5   planet_orbmax            296 non-null    float64\n",
      " 6   lens_distance            297 non-null    float64\n",
      " 7   source_distance          108 non-null    float64\n",
      " 8   einstein_cross_time      316 non-null    float64\n",
      " 9   source_mag               314 non-null    float64\n",
      " 10  planet_star_mass_ratio   245 non-null    float64\n",
      " 11  angular_einstein_radius  269 non-null    float64\n",
      " 12  lens_distance_ly         297 non-null    float64\n",
      " 13  source_distance_ly       108 non-null    float64\n",
      "dtypes: float64(11), object(3)\n",
      "memory usage: 36.3+ KB\n"
     ]
    }
   ],
   "source": [
    "mlen.info()"
   ]
  },
  {
   "cell_type": "markdown",
   "id": "efdc05b2",
   "metadata": {},
   "source": [
    "Quizas podrías expresar lens_distance y source_distance en kilometros o años luz - data enrichment **done**"
   ]
  },
  {
   "cell_type": "markdown",
   "id": "e35b6abe",
   "metadata": {},
   "source": [
    "Obten la composite planet data para ver si puedes encontrar los missing values del datafrae de los planetas encontrados por microlensing **done**"
   ]
  },
  {
   "cell_type": "markdown",
   "id": "8d4d3a8a",
   "metadata": {},
   "source": [
    "Puedes ver cuantos han sido descubiertos por microlensing, transito o otros metodos"
   ]
  },
  {
   "cell_type": "markdown",
   "id": "76fed488",
   "metadata": {},
   "source": [
    "Categorical column base in mass"
   ]
  },
  {
   "cell_type": "markdown",
   "id": "be003339",
   "metadata": {},
   "source": [
    "Description about the planet from here \n",
    "https://exoplanets.nasa.gov/discovery/exoplanet-catalog/"
   ]
  },
  {
   "cell_type": "markdown",
   "id": "f99e39a5",
   "metadata": {},
   "source": [
    "Hacer un concat de las 452 tablas que tienes aquí (tienes que usar selenium para esto)\n",
    "https://exoplanets.nasa.gov/discovery/exoplanet-catalog/"
   ]
  },
  {
   "cell_type": "markdown",
   "id": "808b99b5",
   "metadata": {},
   "source": [
    "Quieres entrar en cada uno de estos y obtener el tipo de planeta y el metodo de deteción\n",
    "https://exoplanets.nasa.gov/exoplanet-catalog/7466/ogle-2016-blg-1067l-b/"
   ]
  },
  {
   "cell_type": "markdown",
   "id": "16e75f10",
   "metadata": {},
   "source": [
    "- sustituir valores nulos con la otra tabla\n",
    "- Data enrichment agregando como nuevas columnas lens_distance y source distance en años luz **done**\n",
    "- Agregar al dataframe de microlensing la descripción de cada planeta que se detecto por está tecnica\n",
    "- Colacar una columna de valores categoricos basado gass giant...etc de acuerdo a la masa de cada planeta.\n",
    "- Agregar la descripción a la tabla más grande \n",
    "- Hacer un join con la de microlensing  de 300 con el filter de microlensing para tener un nuevo dataframe con valores mixtos y la descripción\n",
    "- Calcular el número de planetas que son de un tipo especifico gass giant...etc\n",
    "- Calcular el número de planetas por el metodo de detectión \n",
    "- sort value de manera descendente del periodo orbital (cuál es el más rápido) groupby (orbital period y tamaño de la orbita) leyes de kepler\n",
    "- Después puedes graficar en base a planet type column (puedes hacer uno dandole tamaño del punto con planet mass column y un histograma de frecuencias con la columna type)"
   ]
  },
  {
   "cell_type": "markdown",
   "id": "922eadca",
   "metadata": {},
   "source": [
    "#### How to make query\n",
    "\n",
    "https://exoplanetarchive.ipac.caltech.edu/docs/TAP/usingTAP.html"
   ]
  },
  {
   "cell_type": "markdown",
   "id": "d6b3b469",
   "metadata": {},
   "source": [
    "#### Planetary systems composite documentation\n",
    "\n",
    "https://exoplanetarchive.ipac.caltech.edu/docs/API_PS_columns.html"
   ]
  },
  {
   "cell_type": "markdown",
   "id": "c28c8691",
   "metadata": {},
   "source": [
    "## Segundo DataFrame"
   ]
  },
  {
   "cell_type": "markdown",
   "id": "e5288ce7",
   "metadata": {},
   "source": [
    "Data column description:\n",
    "\n",
    "- **planet_name:** Planet Name\n",
    "- **hostname:** Stellar name \n",
    "- **sys_num_stars:** Number of Stars\n",
    "- **sys_num_planet:** Number of Planets \n",
    "- **discovery_method:** Discovery Method\n",
    "- **discovery_year:** Discovery Year\n",
    "- **discovery_telescope:** Discovery Telescope\n",
    "- **orbital_period:** Orbital Period, unit=days \n",
    "- **orbital_semi_major:** Orbit Semi-Major Axis, unit = au \n",
    "- **planet_radius_earth:** Planet Radius (Earth Radius)\n",
    "- **planet_radius_jupiter:** Planet Radius (Jupiter Radius) \n",
    "- **planet_mass_earth:** Planet Mass (Earth Mass)\n",
    "- **planet_mass_jupiter:** Planet Mass (Jupiter Mass) \n",
    "- **eccentricity:** Eccentricity\n",
    "- **stellar_eff_temp:** Stellar Effective Temperature unit=K \n",
    "- **stellar_radius:** Stellar Radius (Solar Radius) \n",
    "- **stellar_mass:** Stellar Mass\n",
    "- **dist_system:** Distance, unit = pc"
   ]
  },
  {
   "cell_type": "markdown",
   "id": "cbfb1100",
   "metadata": {},
   "source": [
    "### Data acqusition"
   ]
  },
  {
   "cell_type": "code",
   "execution_count": 35,
   "id": "b3cc4697",
   "metadata": {},
   "outputs": [],
   "source": [
    "response = requests.get('https://exoplanetarchive.ipac.caltech.edu/TAP/sync?query=select+pl_name,hostname,sy_snum,sy_pnum,discoverymethod,disc_year,disc_telescope,pl_orbper,pl_orbsmax,pl_rade,pl_radj,pl_bmasse,pl_bmassj,pl_orbeccen,st_spectype,st_teff,st_rad,st_mass,sy_dist+from+pscomppars&format=json')"
   ]
  },
  {
   "cell_type": "code",
   "execution_count": 36,
   "id": "76ff7432",
   "metadata": {},
   "outputs": [
    {
     "data": {
      "text/plain": [
       "<Response [200]>"
      ]
     },
     "execution_count": 36,
     "metadata": {},
     "output_type": "execute_result"
    }
   ],
   "source": [
    "response"
   ]
  },
  {
   "cell_type": "code",
   "execution_count": 39,
   "id": "e62f8f9a",
   "metadata": {},
   "outputs": [],
   "source": [
    "ps_comp = pd.DataFrame(response.json())"
   ]
  },
  {
   "cell_type": "code",
   "execution_count": 40,
   "id": "918ccbfc",
   "metadata": {},
   "outputs": [
    {
     "data": {
      "text/html": [
       "<div>\n",
       "<style scoped>\n",
       "    .dataframe tbody tr th:only-of-type {\n",
       "        vertical-align: middle;\n",
       "    }\n",
       "\n",
       "    .dataframe tbody tr th {\n",
       "        vertical-align: top;\n",
       "    }\n",
       "\n",
       "    .dataframe thead th {\n",
       "        text-align: right;\n",
       "    }\n",
       "</style>\n",
       "<table border=\"1\" class=\"dataframe\">\n",
       "  <thead>\n",
       "    <tr style=\"text-align: right;\">\n",
       "      <th></th>\n",
       "      <th>pl_name</th>\n",
       "      <th>hostname</th>\n",
       "      <th>sy_snum</th>\n",
       "      <th>sy_pnum</th>\n",
       "      <th>discoverymethod</th>\n",
       "      <th>disc_year</th>\n",
       "      <th>disc_telescope</th>\n",
       "      <th>pl_orbper</th>\n",
       "      <th>pl_orbsmax</th>\n",
       "      <th>pl_rade</th>\n",
       "      <th>pl_radj</th>\n",
       "      <th>pl_bmasse</th>\n",
       "      <th>pl_bmassj</th>\n",
       "      <th>pl_orbeccen</th>\n",
       "      <th>st_spectype</th>\n",
       "      <th>st_teff</th>\n",
       "      <th>st_rad</th>\n",
       "      <th>st_mass</th>\n",
       "      <th>sy_dist</th>\n",
       "    </tr>\n",
       "  </thead>\n",
       "  <tbody>\n",
       "    <tr>\n",
       "      <th>0</th>\n",
       "      <td>OGLE-2016-BLG-1227L b</td>\n",
       "      <td>OGLE-2016-BLG-1227L</td>\n",
       "      <td>1</td>\n",
       "      <td>1</td>\n",
       "      <td>Microlensing</td>\n",
       "      <td>2020</td>\n",
       "      <td>1.3 m Warsaw University Telescope</td>\n",
       "      <td>NaN</td>\n",
       "      <td>3.4000</td>\n",
       "      <td>13.90</td>\n",
       "      <td>1.240</td>\n",
       "      <td>250.0</td>\n",
       "      <td>0.79000</td>\n",
       "      <td>NaN</td>\n",
       "      <td>None</td>\n",
       "      <td>NaN</td>\n",
       "      <td>NaN</td>\n",
       "      <td>0.10</td>\n",
       "      <td>NaN</td>\n",
       "    </tr>\n",
       "    <tr>\n",
       "      <th>1</th>\n",
       "      <td>GJ 480 b</td>\n",
       "      <td>GJ 480</td>\n",
       "      <td>1</td>\n",
       "      <td>1</td>\n",
       "      <td>Radial Velocity</td>\n",
       "      <td>2020</td>\n",
       "      <td>Multiple Telescopes</td>\n",
       "      <td>9.567000</td>\n",
       "      <td>0.0680</td>\n",
       "      <td>3.69</td>\n",
       "      <td>0.330</td>\n",
       "      <td>13.2</td>\n",
       "      <td>0.04153</td>\n",
       "      <td>0.1</td>\n",
       "      <td>M3.5 Ve</td>\n",
       "      <td>3381.0</td>\n",
       "      <td>0.46</td>\n",
       "      <td>0.45</td>\n",
       "      <td>14.2358</td>\n",
       "    </tr>\n",
       "    <tr>\n",
       "      <th>2</th>\n",
       "      <td>Kepler-276 c</td>\n",
       "      <td>Kepler-276</td>\n",
       "      <td>1</td>\n",
       "      <td>3</td>\n",
       "      <td>Transit</td>\n",
       "      <td>2013</td>\n",
       "      <td>0.95 m Kepler Telescope</td>\n",
       "      <td>31.884000</td>\n",
       "      <td>0.1994</td>\n",
       "      <td>2.90</td>\n",
       "      <td>0.259</td>\n",
       "      <td>16.6</td>\n",
       "      <td>0.05200</td>\n",
       "      <td>0.0</td>\n",
       "      <td>None</td>\n",
       "      <td>5779.0</td>\n",
       "      <td>1.03</td>\n",
       "      <td>1.10</td>\n",
       "      <td>1144.8600</td>\n",
       "    </tr>\n",
       "    <tr>\n",
       "      <th>3</th>\n",
       "      <td>Kepler-829 b</td>\n",
       "      <td>Kepler-829</td>\n",
       "      <td>1</td>\n",
       "      <td>1</td>\n",
       "      <td>Transit</td>\n",
       "      <td>2016</td>\n",
       "      <td>0.95 m Kepler Telescope</td>\n",
       "      <td>6.883376</td>\n",
       "      <td>0.0678</td>\n",
       "      <td>2.11</td>\n",
       "      <td>0.188</td>\n",
       "      <td>5.1</td>\n",
       "      <td>0.01600</td>\n",
       "      <td>0.0</td>\n",
       "      <td>None</td>\n",
       "      <td>5698.0</td>\n",
       "      <td>0.97</td>\n",
       "      <td>0.98</td>\n",
       "      <td>1073.7600</td>\n",
       "    </tr>\n",
       "    <tr>\n",
       "      <th>4</th>\n",
       "      <td>K2-283 b</td>\n",
       "      <td>K2-283</td>\n",
       "      <td>1</td>\n",
       "      <td>1</td>\n",
       "      <td>Transit</td>\n",
       "      <td>2018</td>\n",
       "      <td>0.95 m Kepler Telescope</td>\n",
       "      <td>1.921036</td>\n",
       "      <td>0.0291</td>\n",
       "      <td>3.52</td>\n",
       "      <td>0.314</td>\n",
       "      <td>12.2</td>\n",
       "      <td>0.03830</td>\n",
       "      <td>NaN</td>\n",
       "      <td>None</td>\n",
       "      <td>5060.0</td>\n",
       "      <td>0.82</td>\n",
       "      <td>0.89</td>\n",
       "      <td>402.9150</td>\n",
       "    </tr>\n",
       "  </tbody>\n",
       "</table>\n",
       "</div>"
      ],
      "text/plain": [
       "                 pl_name             hostname  sy_snum  sy_pnum  \\\n",
       "0  OGLE-2016-BLG-1227L b  OGLE-2016-BLG-1227L        1        1   \n",
       "1               GJ 480 b               GJ 480        1        1   \n",
       "2           Kepler-276 c           Kepler-276        1        3   \n",
       "3           Kepler-829 b           Kepler-829        1        1   \n",
       "4               K2-283 b               K2-283        1        1   \n",
       "\n",
       "   discoverymethod  disc_year                     disc_telescope  pl_orbper  \\\n",
       "0     Microlensing       2020  1.3 m Warsaw University Telescope        NaN   \n",
       "1  Radial Velocity       2020                Multiple Telescopes   9.567000   \n",
       "2          Transit       2013            0.95 m Kepler Telescope  31.884000   \n",
       "3          Transit       2016            0.95 m Kepler Telescope   6.883376   \n",
       "4          Transit       2018            0.95 m Kepler Telescope   1.921036   \n",
       "\n",
       "   pl_orbsmax  pl_rade  pl_radj  pl_bmasse  pl_bmassj  pl_orbeccen  \\\n",
       "0      3.4000    13.90    1.240      250.0    0.79000          NaN   \n",
       "1      0.0680     3.69    0.330       13.2    0.04153          0.1   \n",
       "2      0.1994     2.90    0.259       16.6    0.05200          0.0   \n",
       "3      0.0678     2.11    0.188        5.1    0.01600          0.0   \n",
       "4      0.0291     3.52    0.314       12.2    0.03830          NaN   \n",
       "\n",
       "  st_spectype  st_teff  st_rad  st_mass    sy_dist  \n",
       "0        None      NaN     NaN     0.10        NaN  \n",
       "1     M3.5 Ve   3381.0    0.46     0.45    14.2358  \n",
       "2        None   5779.0    1.03     1.10  1144.8600  \n",
       "3        None   5698.0    0.97     0.98  1073.7600  \n",
       "4        None   5060.0    0.82     0.89   402.9150  "
      ]
     },
     "execution_count": 40,
     "metadata": {},
     "output_type": "execute_result"
    }
   ],
   "source": [
    "ps_comp.head()"
   ]
  },
  {
   "cell_type": "markdown",
   "id": "085b0f36",
   "metadata": {},
   "source": [
    "### Info"
   ]
  },
  {
   "cell_type": "code",
   "execution_count": 41,
   "id": "7179e220",
   "metadata": {
    "collapsed": true
   },
   "outputs": [
    {
     "name": "stdout",
     "output_type": "stream",
     "text": [
      "<class 'pandas.core.frame.DataFrame'>\n",
      "RangeIndex: 4516 entries, 0 to 4515\n",
      "Data columns (total 19 columns):\n",
      " #   Column           Non-Null Count  Dtype  \n",
      "---  ------           --------------  -----  \n",
      " 0   pl_name          4516 non-null   object \n",
      " 1   hostname         4516 non-null   object \n",
      " 2   sy_snum          4516 non-null   int64  \n",
      " 3   sy_pnum          4516 non-null   int64  \n",
      " 4   discoverymethod  4516 non-null   object \n",
      " 5   disc_year        4516 non-null   int64  \n",
      " 6   disc_telescope   4516 non-null   object \n",
      " 7   pl_orbper        4365 non-null   float64\n",
      " 8   pl_orbsmax       4331 non-null   float64\n",
      " 9   pl_rade          4502 non-null   float64\n",
      " 10  pl_radj          4500 non-null   float64\n",
      " 11  pl_bmasse        4494 non-null   float64\n",
      " 12  pl_bmassj        4494 non-null   float64\n",
      " 13  pl_orbeccen      3981 non-null   float64\n",
      " 14  st_spectype      1638 non-null   object \n",
      " 15  st_teff          4394 non-null   float64\n",
      " 16  st_rad           4375 non-null   float64\n",
      " 17  st_mass          4512 non-null   float64\n",
      " 18  sy_dist          4510 non-null   float64\n",
      "dtypes: float64(11), int64(3), object(5)\n",
      "memory usage: 670.5+ KB\n"
     ]
    }
   ],
   "source": [
    "ps_comp.info()"
   ]
  },
  {
   "cell_type": "code",
   "execution_count": 42,
   "id": "c24d883d",
   "metadata": {},
   "outputs": [
    {
     "data": {
      "text/plain": [
       "pl_name            0.000000\n",
       "hostname           0.000000\n",
       "sy_snum            0.000000\n",
       "sy_pnum            0.000000\n",
       "discoverymethod    0.000000\n",
       "disc_year          0.000000\n",
       "disc_telescope     0.000000\n",
       "pl_orbper          0.033437\n",
       "pl_orbsmax         0.040965\n",
       "pl_rade            0.003100\n",
       "pl_radj            0.003543\n",
       "pl_bmasse          0.004872\n",
       "pl_bmassj          0.004872\n",
       "pl_orbeccen        0.118468\n",
       "st_spectype        0.637290\n",
       "st_teff            0.027015\n",
       "st_rad             0.031222\n",
       "st_mass            0.000886\n",
       "sy_dist            0.001329\n",
       "dtype: float64"
      ]
     },
     "execution_count": 42,
     "metadata": {},
     "output_type": "execute_result"
    }
   ],
   "source": [
    "ps_comp.isnull().mean()"
   ]
  },
  {
   "cell_type": "markdown",
   "id": "3662f196",
   "metadata": {},
   "source": [
    "### Wrangling"
   ]
  },
  {
   "cell_type": "markdown",
   "id": "43232517",
   "metadata": {},
   "source": [
    "La columna st_spectype tiene un 63% de valores nulos, asi que se eliminara del dataframe ya que no es tan relevante para los fines de este proyecto. "
   ]
  },
  {
   "cell_type": "code",
   "execution_count": 45,
   "id": "a7cbe248",
   "metadata": {},
   "outputs": [],
   "source": [
    "ps_comp.drop(columns='st_spectype', inplace=True)"
   ]
  },
  {
   "cell_type": "code",
   "execution_count": 46,
   "id": "1a5565c4",
   "metadata": {},
   "outputs": [
    {
     "data": {
      "text/html": [
       "<div>\n",
       "<style scoped>\n",
       "    .dataframe tbody tr th:only-of-type {\n",
       "        vertical-align: middle;\n",
       "    }\n",
       "\n",
       "    .dataframe tbody tr th {\n",
       "        vertical-align: top;\n",
       "    }\n",
       "\n",
       "    .dataframe thead th {\n",
       "        text-align: right;\n",
       "    }\n",
       "</style>\n",
       "<table border=\"1\" class=\"dataframe\">\n",
       "  <thead>\n",
       "    <tr style=\"text-align: right;\">\n",
       "      <th></th>\n",
       "      <th>pl_name</th>\n",
       "      <th>hostname</th>\n",
       "      <th>sy_snum</th>\n",
       "      <th>sy_pnum</th>\n",
       "      <th>discoverymethod</th>\n",
       "      <th>disc_year</th>\n",
       "      <th>disc_telescope</th>\n",
       "      <th>pl_orbper</th>\n",
       "      <th>pl_orbsmax</th>\n",
       "      <th>pl_rade</th>\n",
       "      <th>pl_radj</th>\n",
       "      <th>pl_bmasse</th>\n",
       "      <th>pl_bmassj</th>\n",
       "      <th>pl_orbeccen</th>\n",
       "      <th>st_teff</th>\n",
       "      <th>st_rad</th>\n",
       "      <th>st_mass</th>\n",
       "      <th>sy_dist</th>\n",
       "    </tr>\n",
       "  </thead>\n",
       "  <tbody>\n",
       "    <tr>\n",
       "      <th>0</th>\n",
       "      <td>OGLE-2016-BLG-1227L b</td>\n",
       "      <td>OGLE-2016-BLG-1227L</td>\n",
       "      <td>1</td>\n",
       "      <td>1</td>\n",
       "      <td>Microlensing</td>\n",
       "      <td>2020</td>\n",
       "      <td>1.3 m Warsaw University Telescope</td>\n",
       "      <td>NaN</td>\n",
       "      <td>3.400</td>\n",
       "      <td>13.90</td>\n",
       "      <td>1.24</td>\n",
       "      <td>250.0</td>\n",
       "      <td>0.79000</td>\n",
       "      <td>NaN</td>\n",
       "      <td>NaN</td>\n",
       "      <td>NaN</td>\n",
       "      <td>0.10</td>\n",
       "      <td>NaN</td>\n",
       "    </tr>\n",
       "    <tr>\n",
       "      <th>1</th>\n",
       "      <td>GJ 480 b</td>\n",
       "      <td>GJ 480</td>\n",
       "      <td>1</td>\n",
       "      <td>1</td>\n",
       "      <td>Radial Velocity</td>\n",
       "      <td>2020</td>\n",
       "      <td>Multiple Telescopes</td>\n",
       "      <td>9.567</td>\n",
       "      <td>0.068</td>\n",
       "      <td>3.69</td>\n",
       "      <td>0.33</td>\n",
       "      <td>13.2</td>\n",
       "      <td>0.04153</td>\n",
       "      <td>0.1</td>\n",
       "      <td>3381.0</td>\n",
       "      <td>0.46</td>\n",
       "      <td>0.45</td>\n",
       "      <td>14.2358</td>\n",
       "    </tr>\n",
       "  </tbody>\n",
       "</table>\n",
       "</div>"
      ],
      "text/plain": [
       "                 pl_name             hostname  sy_snum  sy_pnum  \\\n",
       "0  OGLE-2016-BLG-1227L b  OGLE-2016-BLG-1227L        1        1   \n",
       "1               GJ 480 b               GJ 480        1        1   \n",
       "\n",
       "   discoverymethod  disc_year                     disc_telescope  pl_orbper  \\\n",
       "0     Microlensing       2020  1.3 m Warsaw University Telescope        NaN   \n",
       "1  Radial Velocity       2020                Multiple Telescopes      9.567   \n",
       "\n",
       "   pl_orbsmax  pl_rade  pl_radj  pl_bmasse  pl_bmassj  pl_orbeccen  st_teff  \\\n",
       "0       3.400    13.90     1.24      250.0    0.79000          NaN      NaN   \n",
       "1       0.068     3.69     0.33       13.2    0.04153          0.1   3381.0   \n",
       "\n",
       "   st_rad  st_mass  sy_dist  \n",
       "0     NaN     0.10      NaN  \n",
       "1    0.46     0.45  14.2358  "
      ]
     },
     "execution_count": 46,
     "metadata": {},
     "output_type": "execute_result"
    }
   ],
   "source": [
    "ps_comp.head(2)"
   ]
  },
  {
   "cell_type": "code",
   "execution_count": 93,
   "id": "ae008da4",
   "metadata": {},
   "outputs": [],
   "source": []
  },
  {
   "cell_type": "code",
   "execution_count": 57,
   "id": "d74296ae",
   "metadata": {},
   "outputs": [],
   "source": [
    "new_names_ps = ['planet_name', 'hostname', 'sys_num_stars', 'sys_num_planet', 'discovery_method', \n",
    "                'discovery_year', 'discovery_telescope', 'orbital_period', 'orbital_semi_major', 'planet_radius_earth',\n",
    "               'planet_radius_jupiter', 'planet_mass_earth', 'planet_mass_jupiter', 'eccentricity', 'stellar_eff_temp',\n",
    "               'stellar_radius', 'stellar_mass', 'dist_system']"
   ]
  },
  {
   "cell_type": "code",
   "execution_count": 60,
   "id": "93dca469",
   "metadata": {},
   "outputs": [],
   "source": [
    "old_names_ps = [colum for colum in ps_comp.columns]"
   ]
  },
  {
   "cell_type": "code",
   "execution_count": 62,
   "id": "6a808720",
   "metadata": {
    "collapsed": true
   },
   "outputs": [
    {
     "data": {
      "text/plain": [
       "{'pl_name': 'planet_name',\n",
       " 'hostname': 'hostname',\n",
       " 'sy_snum': 'sys_num_stars',\n",
       " 'sy_pnum': 'sys_num_planet',\n",
       " 'discoverymethod': 'discovery_method',\n",
       " 'disc_year': 'discovery_year',\n",
       " 'disc_telescope': 'discovery_telescope',\n",
       " 'pl_orbper': 'orbital_period',\n",
       " 'pl_orbsmax': 'orbital_semi_major',\n",
       " 'pl_rade': 'planet_radius_earth',\n",
       " 'pl_radj': 'planet_radius_jupiter',\n",
       " 'pl_bmasse': 'planet_mass_earth',\n",
       " 'pl_bmassj': 'planet_mass_jupiter',\n",
       " 'pl_orbeccen': 'eccentricity',\n",
       " 'st_teff': 'stellar_eff_temp',\n",
       " 'st_rad': 'stellar_radius',\n",
       " 'st_mass': 'stellar_mass',\n",
       " 'sy_dist': 'dist_system'}"
      ]
     },
     "execution_count": 62,
     "metadata": {},
     "output_type": "execute_result"
    }
   ],
   "source": [
    "dict_ps = dict(zip(old_names_ps, new_names_ps))"
   ]
  },
  {
   "cell_type": "code",
   "execution_count": 63,
   "id": "342d4f9a",
   "metadata": {},
   "outputs": [],
   "source": [
    "ps_comp.rename(columns=dict_ps, inplace=True)"
   ]
  },
  {
   "cell_type": "code",
   "execution_count": 65,
   "id": "ec5a7438",
   "metadata": {},
   "outputs": [
    {
     "data": {
      "text/plain": [
       "Index(['planet_name', 'hostname', 'sys_num_stars', 'sys_num_planet',\n",
       "       'discovery_method', 'discovery_year', 'discovery_telescope',\n",
       "       'orbital_period', 'orbital_semi_major', 'planet_radius_earth',\n",
       "       'planet_radius_jupiter', 'planet_mass_earth', 'planet_mass_jupiter',\n",
       "       'eccentricity', 'stellar_eff_temp', 'stellar_radius', 'stellar_mass',\n",
       "       'dist_system'],\n",
       "      dtype='object')"
      ]
     },
     "execution_count": 65,
     "metadata": {},
     "output_type": "execute_result"
    }
   ],
   "source": [
    "ps_comp.columns"
   ]
  },
  {
   "cell_type": "code",
   "execution_count": 132,
   "id": "551c05ae",
   "metadata": {},
   "outputs": [
    {
     "data": {
      "text/html": [
       "<div>\n",
       "<style scoped>\n",
       "    .dataframe tbody tr th:only-of-type {\n",
       "        vertical-align: middle;\n",
       "    }\n",
       "\n",
       "    .dataframe tbody tr th {\n",
       "        vertical-align: top;\n",
       "    }\n",
       "\n",
       "    .dataframe thead th {\n",
       "        text-align: right;\n",
       "    }\n",
       "</style>\n",
       "<table border=\"1\" class=\"dataframe\">\n",
       "  <thead>\n",
       "    <tr style=\"text-align: right;\">\n",
       "      <th></th>\n",
       "      <th>planet_name</th>\n",
       "      <th>hostname</th>\n",
       "      <th>sys_num_stars</th>\n",
       "      <th>sys_num_planet</th>\n",
       "      <th>discovery_method</th>\n",
       "      <th>discovery_year</th>\n",
       "      <th>discovery_telescope</th>\n",
       "      <th>orbital_period</th>\n",
       "      <th>orbital_semi_major</th>\n",
       "      <th>planet_radius_earth</th>\n",
       "      <th>planet_radius_jupiter</th>\n",
       "      <th>planet_mass_earth</th>\n",
       "      <th>planet_mass_jupiter</th>\n",
       "      <th>eccentricity</th>\n",
       "      <th>stellar_eff_temp</th>\n",
       "      <th>stellar_radius</th>\n",
       "      <th>stellar_mass</th>\n",
       "      <th>dist_system</th>\n",
       "    </tr>\n",
       "  </thead>\n",
       "  <tbody>\n",
       "    <tr>\n",
       "      <th>0</th>\n",
       "      <td>OGLE-2016-BLG-1227L b</td>\n",
       "      <td>OGLE-2016-BLG-1227L</td>\n",
       "      <td>1</td>\n",
       "      <td>1</td>\n",
       "      <td>Microlensing</td>\n",
       "      <td>2020</td>\n",
       "      <td>1.3 m Warsaw University Telescope</td>\n",
       "      <td>NaN</td>\n",
       "      <td>3.4000</td>\n",
       "      <td>13.90</td>\n",
       "      <td>1.240</td>\n",
       "      <td>250.0</td>\n",
       "      <td>0.79000</td>\n",
       "      <td>NaN</td>\n",
       "      <td>NaN</td>\n",
       "      <td>NaN</td>\n",
       "      <td>0.10</td>\n",
       "      <td>NaN</td>\n",
       "    </tr>\n",
       "    <tr>\n",
       "      <th>1</th>\n",
       "      <td>GJ 480 b</td>\n",
       "      <td>GJ 480</td>\n",
       "      <td>1</td>\n",
       "      <td>1</td>\n",
       "      <td>Radial Velocity</td>\n",
       "      <td>2020</td>\n",
       "      <td>Multiple Telescopes</td>\n",
       "      <td>9.567000</td>\n",
       "      <td>0.0680</td>\n",
       "      <td>3.69</td>\n",
       "      <td>0.330</td>\n",
       "      <td>13.2</td>\n",
       "      <td>0.04153</td>\n",
       "      <td>0.1</td>\n",
       "      <td>3381.0</td>\n",
       "      <td>0.46</td>\n",
       "      <td>0.45</td>\n",
       "      <td>14.2358</td>\n",
       "    </tr>\n",
       "    <tr>\n",
       "      <th>2</th>\n",
       "      <td>Kepler-276 c</td>\n",
       "      <td>Kepler-276</td>\n",
       "      <td>1</td>\n",
       "      <td>3</td>\n",
       "      <td>Transit</td>\n",
       "      <td>2013</td>\n",
       "      <td>0.95 m Kepler Telescope</td>\n",
       "      <td>31.884000</td>\n",
       "      <td>0.1994</td>\n",
       "      <td>2.90</td>\n",
       "      <td>0.259</td>\n",
       "      <td>16.6</td>\n",
       "      <td>0.05200</td>\n",
       "      <td>0.0</td>\n",
       "      <td>5779.0</td>\n",
       "      <td>1.03</td>\n",
       "      <td>1.10</td>\n",
       "      <td>1144.8600</td>\n",
       "    </tr>\n",
       "    <tr>\n",
       "      <th>3</th>\n",
       "      <td>Kepler-829 b</td>\n",
       "      <td>Kepler-829</td>\n",
       "      <td>1</td>\n",
       "      <td>1</td>\n",
       "      <td>Transit</td>\n",
       "      <td>2016</td>\n",
       "      <td>0.95 m Kepler Telescope</td>\n",
       "      <td>6.883376</td>\n",
       "      <td>0.0678</td>\n",
       "      <td>2.11</td>\n",
       "      <td>0.188</td>\n",
       "      <td>5.1</td>\n",
       "      <td>0.01600</td>\n",
       "      <td>0.0</td>\n",
       "      <td>5698.0</td>\n",
       "      <td>0.97</td>\n",
       "      <td>0.98</td>\n",
       "      <td>1073.7600</td>\n",
       "    </tr>\n",
       "    <tr>\n",
       "      <th>4</th>\n",
       "      <td>K2-283 b</td>\n",
       "      <td>K2-283</td>\n",
       "      <td>1</td>\n",
       "      <td>1</td>\n",
       "      <td>Transit</td>\n",
       "      <td>2018</td>\n",
       "      <td>0.95 m Kepler Telescope</td>\n",
       "      <td>1.921036</td>\n",
       "      <td>0.0291</td>\n",
       "      <td>3.52</td>\n",
       "      <td>0.314</td>\n",
       "      <td>12.2</td>\n",
       "      <td>0.03830</td>\n",
       "      <td>NaN</td>\n",
       "      <td>5060.0</td>\n",
       "      <td>0.82</td>\n",
       "      <td>0.89</td>\n",
       "      <td>402.9150</td>\n",
       "    </tr>\n",
       "  </tbody>\n",
       "</table>\n",
       "</div>"
      ],
      "text/plain": [
       "             planet_name             hostname  sys_num_stars  sys_num_planet  \\\n",
       "0  OGLE-2016-BLG-1227L b  OGLE-2016-BLG-1227L              1               1   \n",
       "1               GJ 480 b               GJ 480              1               1   \n",
       "2           Kepler-276 c           Kepler-276              1               3   \n",
       "3           Kepler-829 b           Kepler-829              1               1   \n",
       "4               K2-283 b               K2-283              1               1   \n",
       "\n",
       "  discovery_method  discovery_year                discovery_telescope  \\\n",
       "0     Microlensing            2020  1.3 m Warsaw University Telescope   \n",
       "1  Radial Velocity            2020                Multiple Telescopes   \n",
       "2          Transit            2013            0.95 m Kepler Telescope   \n",
       "3          Transit            2016            0.95 m Kepler Telescope   \n",
       "4          Transit            2018            0.95 m Kepler Telescope   \n",
       "\n",
       "   orbital_period  orbital_semi_major  planet_radius_earth  \\\n",
       "0             NaN              3.4000                13.90   \n",
       "1        9.567000              0.0680                 3.69   \n",
       "2       31.884000              0.1994                 2.90   \n",
       "3        6.883376              0.0678                 2.11   \n",
       "4        1.921036              0.0291                 3.52   \n",
       "\n",
       "   planet_radius_jupiter  planet_mass_earth  planet_mass_jupiter  \\\n",
       "0                  1.240              250.0              0.79000   \n",
       "1                  0.330               13.2              0.04153   \n",
       "2                  0.259               16.6              0.05200   \n",
       "3                  0.188                5.1              0.01600   \n",
       "4                  0.314               12.2              0.03830   \n",
       "\n",
       "   eccentricity  stellar_eff_temp  stellar_radius  stellar_mass  dist_system  \n",
       "0           NaN               NaN             NaN          0.10          NaN  \n",
       "1           0.1            3381.0            0.46          0.45      14.2358  \n",
       "2           0.0            5779.0            1.03          1.10    1144.8600  \n",
       "3           0.0            5698.0            0.97          0.98    1073.7600  \n",
       "4           NaN            5060.0            0.82          0.89     402.9150  "
      ]
     },
     "execution_count": 132,
     "metadata": {},
     "output_type": "execute_result"
    }
   ],
   "source": [
    "ps_comp.head()"
   ]
  },
  {
   "cell_type": "markdown",
   "id": "fb792373",
   "metadata": {},
   "source": [
    "#### Transformando la columna dist_system de pc a años luz y agrengandola como una nueva columna al dataframe"
   ]
  },
  {
   "cell_type": "code",
   "execution_count": 133,
   "id": "a1c8ec0c",
   "metadata": {},
   "outputs": [],
   "source": [
    "ps_comp['dist_system_ly'] = ps_comp['dist_system'] * 3.262"
   ]
  },
  {
   "cell_type": "code",
   "execution_count": 134,
   "id": "140c04f5",
   "metadata": {
    "scrolled": false
   },
   "outputs": [
    {
     "data": {
      "text/html": [
       "<div>\n",
       "<style scoped>\n",
       "    .dataframe tbody tr th:only-of-type {\n",
       "        vertical-align: middle;\n",
       "    }\n",
       "\n",
       "    .dataframe tbody tr th {\n",
       "        vertical-align: top;\n",
       "    }\n",
       "\n",
       "    .dataframe thead th {\n",
       "        text-align: right;\n",
       "    }\n",
       "</style>\n",
       "<table border=\"1\" class=\"dataframe\">\n",
       "  <thead>\n",
       "    <tr style=\"text-align: right;\">\n",
       "      <th></th>\n",
       "      <th>planet_name</th>\n",
       "      <th>hostname</th>\n",
       "      <th>sys_num_stars</th>\n",
       "      <th>sys_num_planet</th>\n",
       "      <th>discovery_method</th>\n",
       "      <th>discovery_year</th>\n",
       "      <th>discovery_telescope</th>\n",
       "      <th>orbital_period</th>\n",
       "      <th>orbital_semi_major</th>\n",
       "      <th>planet_radius_earth</th>\n",
       "      <th>planet_radius_jupiter</th>\n",
       "      <th>planet_mass_earth</th>\n",
       "      <th>planet_mass_jupiter</th>\n",
       "      <th>eccentricity</th>\n",
       "      <th>stellar_eff_temp</th>\n",
       "      <th>stellar_radius</th>\n",
       "      <th>stellar_mass</th>\n",
       "      <th>dist_system</th>\n",
       "      <th>dist_system_ly</th>\n",
       "    </tr>\n",
       "  </thead>\n",
       "  <tbody>\n",
       "    <tr>\n",
       "      <th>0</th>\n",
       "      <td>OGLE-2016-BLG-1227L b</td>\n",
       "      <td>OGLE-2016-BLG-1227L</td>\n",
       "      <td>1</td>\n",
       "      <td>1</td>\n",
       "      <td>Microlensing</td>\n",
       "      <td>2020</td>\n",
       "      <td>1.3 m Warsaw University Telescope</td>\n",
       "      <td>NaN</td>\n",
       "      <td>3.4000</td>\n",
       "      <td>13.90</td>\n",
       "      <td>1.240</td>\n",
       "      <td>250.0</td>\n",
       "      <td>0.79000</td>\n",
       "      <td>NaN</td>\n",
       "      <td>NaN</td>\n",
       "      <td>NaN</td>\n",
       "      <td>0.10</td>\n",
       "      <td>NaN</td>\n",
       "      <td>NaN</td>\n",
       "    </tr>\n",
       "    <tr>\n",
       "      <th>1</th>\n",
       "      <td>GJ 480 b</td>\n",
       "      <td>GJ 480</td>\n",
       "      <td>1</td>\n",
       "      <td>1</td>\n",
       "      <td>Radial Velocity</td>\n",
       "      <td>2020</td>\n",
       "      <td>Multiple Telescopes</td>\n",
       "      <td>9.567000</td>\n",
       "      <td>0.0680</td>\n",
       "      <td>3.69</td>\n",
       "      <td>0.330</td>\n",
       "      <td>13.2</td>\n",
       "      <td>0.04153</td>\n",
       "      <td>0.1</td>\n",
       "      <td>3381.0</td>\n",
       "      <td>0.46</td>\n",
       "      <td>0.45</td>\n",
       "      <td>14.2358</td>\n",
       "      <td>46.43718</td>\n",
       "    </tr>\n",
       "    <tr>\n",
       "      <th>2</th>\n",
       "      <td>Kepler-276 c</td>\n",
       "      <td>Kepler-276</td>\n",
       "      <td>1</td>\n",
       "      <td>3</td>\n",
       "      <td>Transit</td>\n",
       "      <td>2013</td>\n",
       "      <td>0.95 m Kepler Telescope</td>\n",
       "      <td>31.884000</td>\n",
       "      <td>0.1994</td>\n",
       "      <td>2.90</td>\n",
       "      <td>0.259</td>\n",
       "      <td>16.6</td>\n",
       "      <td>0.05200</td>\n",
       "      <td>0.0</td>\n",
       "      <td>5779.0</td>\n",
       "      <td>1.03</td>\n",
       "      <td>1.10</td>\n",
       "      <td>1144.8600</td>\n",
       "      <td>3734.53332</td>\n",
       "    </tr>\n",
       "    <tr>\n",
       "      <th>3</th>\n",
       "      <td>Kepler-829 b</td>\n",
       "      <td>Kepler-829</td>\n",
       "      <td>1</td>\n",
       "      <td>1</td>\n",
       "      <td>Transit</td>\n",
       "      <td>2016</td>\n",
       "      <td>0.95 m Kepler Telescope</td>\n",
       "      <td>6.883376</td>\n",
       "      <td>0.0678</td>\n",
       "      <td>2.11</td>\n",
       "      <td>0.188</td>\n",
       "      <td>5.1</td>\n",
       "      <td>0.01600</td>\n",
       "      <td>0.0</td>\n",
       "      <td>5698.0</td>\n",
       "      <td>0.97</td>\n",
       "      <td>0.98</td>\n",
       "      <td>1073.7600</td>\n",
       "      <td>3502.60512</td>\n",
       "    </tr>\n",
       "    <tr>\n",
       "      <th>4</th>\n",
       "      <td>K2-283 b</td>\n",
       "      <td>K2-283</td>\n",
       "      <td>1</td>\n",
       "      <td>1</td>\n",
       "      <td>Transit</td>\n",
       "      <td>2018</td>\n",
       "      <td>0.95 m Kepler Telescope</td>\n",
       "      <td>1.921036</td>\n",
       "      <td>0.0291</td>\n",
       "      <td>3.52</td>\n",
       "      <td>0.314</td>\n",
       "      <td>12.2</td>\n",
       "      <td>0.03830</td>\n",
       "      <td>NaN</td>\n",
       "      <td>5060.0</td>\n",
       "      <td>0.82</td>\n",
       "      <td>0.89</td>\n",
       "      <td>402.9150</td>\n",
       "      <td>1314.30873</td>\n",
       "    </tr>\n",
       "  </tbody>\n",
       "</table>\n",
       "</div>"
      ],
      "text/plain": [
       "             planet_name             hostname  sys_num_stars  sys_num_planet  \\\n",
       "0  OGLE-2016-BLG-1227L b  OGLE-2016-BLG-1227L              1               1   \n",
       "1               GJ 480 b               GJ 480              1               1   \n",
       "2           Kepler-276 c           Kepler-276              1               3   \n",
       "3           Kepler-829 b           Kepler-829              1               1   \n",
       "4               K2-283 b               K2-283              1               1   \n",
       "\n",
       "  discovery_method  discovery_year                discovery_telescope  \\\n",
       "0     Microlensing            2020  1.3 m Warsaw University Telescope   \n",
       "1  Radial Velocity            2020                Multiple Telescopes   \n",
       "2          Transit            2013            0.95 m Kepler Telescope   \n",
       "3          Transit            2016            0.95 m Kepler Telescope   \n",
       "4          Transit            2018            0.95 m Kepler Telescope   \n",
       "\n",
       "   orbital_period  orbital_semi_major  planet_radius_earth  \\\n",
       "0             NaN              3.4000                13.90   \n",
       "1        9.567000              0.0680                 3.69   \n",
       "2       31.884000              0.1994                 2.90   \n",
       "3        6.883376              0.0678                 2.11   \n",
       "4        1.921036              0.0291                 3.52   \n",
       "\n",
       "   planet_radius_jupiter  planet_mass_earth  planet_mass_jupiter  \\\n",
       "0                  1.240              250.0              0.79000   \n",
       "1                  0.330               13.2              0.04153   \n",
       "2                  0.259               16.6              0.05200   \n",
       "3                  0.188                5.1              0.01600   \n",
       "4                  0.314               12.2              0.03830   \n",
       "\n",
       "   eccentricity  stellar_eff_temp  stellar_radius  stellar_mass  dist_system  \\\n",
       "0           NaN               NaN             NaN          0.10          NaN   \n",
       "1           0.1            3381.0            0.46          0.45      14.2358   \n",
       "2           0.0            5779.0            1.03          1.10    1144.8600   \n",
       "3           0.0            5698.0            0.97          0.98    1073.7600   \n",
       "4           NaN            5060.0            0.82          0.89     402.9150   \n",
       "\n",
       "   dist_system_ly  \n",
       "0             NaN  \n",
       "1        46.43718  \n",
       "2      3734.53332  \n",
       "3      3502.60512  \n",
       "4      1314.30873  "
      ]
     },
     "execution_count": 134,
     "metadata": {},
     "output_type": "execute_result"
    }
   ],
   "source": [
    "ps_comp.head()"
   ]
  },
  {
   "cell_type": "code",
   "execution_count": 140,
   "id": "bcc3b5e5",
   "metadata": {},
   "outputs": [
    {
     "data": {
      "text/plain": [
       "(4516, 19)"
      ]
     },
     "execution_count": 140,
     "metadata": {},
     "output_type": "execute_result"
    }
   ],
   "source": [
    "ps_comp.shape"
   ]
  },
  {
   "cell_type": "markdown",
   "id": "e28b2c19",
   "metadata": {},
   "source": [
    "#### Saving Planetary systems composite data "
   ]
  },
  {
   "cell_type": "code",
   "execution_count": 138,
   "id": "f1ca0cc8",
   "metadata": {},
   "outputs": [],
   "source": [
    "ps_comp.to_csv('ps_comp_data.csv')"
   ]
  },
  {
   "cell_type": "markdown",
   "id": "439e7a7f",
   "metadata": {},
   "source": [
    "### Creando sub arreglo de microlensing"
   ]
  },
  {
   "cell_type": "code",
   "execution_count": 135,
   "id": "2f07fe57",
   "metadata": {},
   "outputs": [
    {
     "data": {
      "text/plain": [
       "array(['Microlensing', 'Radial Velocity', 'Transit',\n",
       "       'Eclipse Timing Variations', 'Astrometry', 'Imaging',\n",
       "       'Orbital Brightness Modulation', 'Transit Timing Variations',\n",
       "       'Pulsar Timing', 'Disk Kinematics', 'Pulsation Timing Variations'],\n",
       "      dtype=object)"
      ]
     },
     "execution_count": 135,
     "metadata": {},
     "output_type": "execute_result"
    }
   ],
   "source": [
    "ps_comp['discovery_method'].unique()"
   ]
  },
  {
   "cell_type": "markdown",
   "id": "247dc0fd",
   "metadata": {},
   "source": [
    "## Tercer DataFrame"
   ]
  },
  {
   "cell_type": "code",
   "execution_count": 136,
   "id": "64e84851",
   "metadata": {},
   "outputs": [],
   "source": [
    "ps_mlen = ps_comp.loc[ps_comp['discovery_method'] == 'Microlensing']"
   ]
  },
  {
   "cell_type": "code",
   "execution_count": 137,
   "id": "c128ac0f",
   "metadata": {},
   "outputs": [
    {
     "data": {
      "text/html": [
       "<div>\n",
       "<style scoped>\n",
       "    .dataframe tbody tr th:only-of-type {\n",
       "        vertical-align: middle;\n",
       "    }\n",
       "\n",
       "    .dataframe tbody tr th {\n",
       "        vertical-align: top;\n",
       "    }\n",
       "\n",
       "    .dataframe thead th {\n",
       "        text-align: right;\n",
       "    }\n",
       "</style>\n",
       "<table border=\"1\" class=\"dataframe\">\n",
       "  <thead>\n",
       "    <tr style=\"text-align: right;\">\n",
       "      <th></th>\n",
       "      <th>planet_name</th>\n",
       "      <th>hostname</th>\n",
       "      <th>sys_num_stars</th>\n",
       "      <th>sys_num_planet</th>\n",
       "      <th>discovery_method</th>\n",
       "      <th>discovery_year</th>\n",
       "      <th>discovery_telescope</th>\n",
       "      <th>orbital_period</th>\n",
       "      <th>orbital_semi_major</th>\n",
       "      <th>planet_radius_earth</th>\n",
       "      <th>planet_radius_jupiter</th>\n",
       "      <th>planet_mass_earth</th>\n",
       "      <th>planet_mass_jupiter</th>\n",
       "      <th>eccentricity</th>\n",
       "      <th>stellar_eff_temp</th>\n",
       "      <th>stellar_radius</th>\n",
       "      <th>stellar_mass</th>\n",
       "      <th>dist_system</th>\n",
       "      <th>dist_system_ly</th>\n",
       "    </tr>\n",
       "  </thead>\n",
       "  <tbody>\n",
       "    <tr>\n",
       "      <th>0</th>\n",
       "      <td>OGLE-2016-BLG-1227L b</td>\n",
       "      <td>OGLE-2016-BLG-1227L</td>\n",
       "      <td>1</td>\n",
       "      <td>1</td>\n",
       "      <td>Microlensing</td>\n",
       "      <td>2020</td>\n",
       "      <td>1.3 m Warsaw University Telescope</td>\n",
       "      <td>NaN</td>\n",
       "      <td>3.4</td>\n",
       "      <td>13.90</td>\n",
       "      <td>1.240</td>\n",
       "      <td>250.0</td>\n",
       "      <td>0.790</td>\n",
       "      <td>NaN</td>\n",
       "      <td>NaN</td>\n",
       "      <td>NaN</td>\n",
       "      <td>0.10</td>\n",
       "      <td>NaN</td>\n",
       "      <td>NaN</td>\n",
       "    </tr>\n",
       "    <tr>\n",
       "      <th>13</th>\n",
       "      <td>OGLE-2015-BLG-0966L b</td>\n",
       "      <td>OGLE-2015-BLG-0966L</td>\n",
       "      <td>1</td>\n",
       "      <td>1</td>\n",
       "      <td>Microlensing</td>\n",
       "      <td>2016</td>\n",
       "      <td>1.3 m Warsaw University Telescope</td>\n",
       "      <td>NaN</td>\n",
       "      <td>2.7</td>\n",
       "      <td>4.86</td>\n",
       "      <td>0.433</td>\n",
       "      <td>21.0</td>\n",
       "      <td>0.066</td>\n",
       "      <td>NaN</td>\n",
       "      <td>NaN</td>\n",
       "      <td>NaN</td>\n",
       "      <td>0.38</td>\n",
       "      <td>3300.0</td>\n",
       "      <td>10764.6</td>\n",
       "    </tr>\n",
       "  </tbody>\n",
       "</table>\n",
       "</div>"
      ],
      "text/plain": [
       "              planet_name             hostname  sys_num_stars  sys_num_planet  \\\n",
       "0   OGLE-2016-BLG-1227L b  OGLE-2016-BLG-1227L              1               1   \n",
       "13  OGLE-2015-BLG-0966L b  OGLE-2015-BLG-0966L              1               1   \n",
       "\n",
       "   discovery_method  discovery_year                discovery_telescope  \\\n",
       "0      Microlensing            2020  1.3 m Warsaw University Telescope   \n",
       "13     Microlensing            2016  1.3 m Warsaw University Telescope   \n",
       "\n",
       "    orbital_period  orbital_semi_major  planet_radius_earth  \\\n",
       "0              NaN                 3.4                13.90   \n",
       "13             NaN                 2.7                 4.86   \n",
       "\n",
       "    planet_radius_jupiter  planet_mass_earth  planet_mass_jupiter  \\\n",
       "0                   1.240              250.0                0.790   \n",
       "13                  0.433               21.0                0.066   \n",
       "\n",
       "    eccentricity  stellar_eff_temp  stellar_radius  stellar_mass  dist_system  \\\n",
       "0            NaN               NaN             NaN          0.10          NaN   \n",
       "13           NaN               NaN             NaN          0.38       3300.0   \n",
       "\n",
       "    dist_system_ly  \n",
       "0              NaN  \n",
       "13         10764.6  "
      ]
     },
     "execution_count": 137,
     "metadata": {},
     "output_type": "execute_result"
    }
   ],
   "source": [
    "ps_mlen.head(2)"
   ]
  },
  {
   "cell_type": "code",
   "execution_count": 141,
   "id": "383752dc",
   "metadata": {},
   "outputs": [
    {
     "data": {
      "text/plain": [
       "(114, 19)"
      ]
     },
     "execution_count": 141,
     "metadata": {},
     "output_type": "execute_result"
    }
   ],
   "source": [
    "ps_mlen.shape"
   ]
  },
  {
   "cell_type": "code",
   "execution_count": 143,
   "id": "d47f86f4",
   "metadata": {},
   "outputs": [
    {
     "data": {
      "text/html": [
       "<div>\n",
       "<style scoped>\n",
       "    .dataframe tbody tr th:only-of-type {\n",
       "        vertical-align: middle;\n",
       "    }\n",
       "\n",
       "    .dataframe tbody tr th {\n",
       "        vertical-align: top;\n",
       "    }\n",
       "\n",
       "    .dataframe thead th {\n",
       "        text-align: right;\n",
       "    }\n",
       "</style>\n",
       "<table border=\"1\" class=\"dataframe\">\n",
       "  <thead>\n",
       "    <tr style=\"text-align: right;\">\n",
       "      <th></th>\n",
       "      <th>planet_name</th>\n",
       "      <th>ra_event</th>\n",
       "      <th>dec_event</th>\n",
       "      <th>earth_massses</th>\n",
       "      <th>jupiter_masses</th>\n",
       "      <th>planet_orbmax</th>\n",
       "      <th>lens_distance</th>\n",
       "      <th>source_distance</th>\n",
       "      <th>einstein_cross_time</th>\n",
       "      <th>source_mag</th>\n",
       "      <th>planet_star_mass_ratio</th>\n",
       "      <th>angular_einstein_radius</th>\n",
       "      <th>lens_distance_ly</th>\n",
       "      <th>source_distance_ly</th>\n",
       "    </tr>\n",
       "  </thead>\n",
       "  <tbody>\n",
       "    <tr>\n",
       "      <th>0</th>\n",
       "      <td>KMT-2019-BLG-1953L b</td>\n",
       "      <td>17 56 27.90</td>\n",
       "      <td>-28 12 04.00</td>\n",
       "      <td>NaN</td>\n",
       "      <td>NaN</td>\n",
       "      <td>NaN</td>\n",
       "      <td>NaN</td>\n",
       "      <td>8000.0</td>\n",
       "      <td>16.18</td>\n",
       "      <td>19.100</td>\n",
       "      <td>20.680</td>\n",
       "      <td>0.250</td>\n",
       "      <td>NaN</td>\n",
       "      <td>26096.0</td>\n",
       "    </tr>\n",
       "    <tr>\n",
       "      <th>1</th>\n",
       "      <td>MOA-2013-BLG-605L b</td>\n",
       "      <td>17 58 42.85</td>\n",
       "      <td>-29 23 53.66</td>\n",
       "      <td>20.58</td>\n",
       "      <td>0.06475</td>\n",
       "      <td>4.18</td>\n",
       "      <td>3550.0</td>\n",
       "      <td>NaN</td>\n",
       "      <td>19.83</td>\n",
       "      <td>3.124</td>\n",
       "      <td>18.112</td>\n",
       "      <td>0.503</td>\n",
       "      <td>11580.1</td>\n",
       "      <td>NaN</td>\n",
       "    </tr>\n",
       "  </tbody>\n",
       "</table>\n",
       "</div>"
      ],
      "text/plain": [
       "            planet_name     ra_event     dec_event  earth_massses  \\\n",
       "0  KMT-2019-BLG-1953L b  17 56 27.90  -28 12 04.00            NaN   \n",
       "1   MOA-2013-BLG-605L b  17 58 42.85  -29 23 53.66          20.58   \n",
       "\n",
       "   jupiter_masses  planet_orbmax  lens_distance  source_distance  \\\n",
       "0             NaN            NaN            NaN           8000.0   \n",
       "1         0.06475           4.18         3550.0              NaN   \n",
       "\n",
       "   einstein_cross_time  source_mag  planet_star_mass_ratio  \\\n",
       "0                16.18      19.100                  20.680   \n",
       "1                19.83       3.124                  18.112   \n",
       "\n",
       "   angular_einstein_radius  lens_distance_ly  source_distance_ly  \n",
       "0                    0.250               NaN             26096.0  \n",
       "1                    0.503           11580.1                 NaN  "
      ]
     },
     "execution_count": 143,
     "metadata": {},
     "output_type": "execute_result"
    }
   ],
   "source": [
    "mlen.head(2)    "
   ]
  },
  {
   "cell_type": "code",
   "execution_count": 147,
   "id": "dae69605",
   "metadata": {},
   "outputs": [
    {
     "data": {
      "text/html": [
       "<div>\n",
       "<style scoped>\n",
       "    .dataframe tbody tr th:only-of-type {\n",
       "        vertical-align: middle;\n",
       "    }\n",
       "\n",
       "    .dataframe tbody tr th {\n",
       "        vertical-align: top;\n",
       "    }\n",
       "\n",
       "    .dataframe thead th {\n",
       "        text-align: right;\n",
       "    }\n",
       "</style>\n",
       "<table border=\"1\" class=\"dataframe\">\n",
       "  <thead>\n",
       "    <tr style=\"text-align: right;\">\n",
       "      <th></th>\n",
       "      <th>planet_name</th>\n",
       "      <th>hostname</th>\n",
       "      <th>sys_num_stars</th>\n",
       "      <th>sys_num_planet</th>\n",
       "      <th>discovery_method</th>\n",
       "      <th>discovery_year</th>\n",
       "      <th>discovery_telescope</th>\n",
       "      <th>orbital_period</th>\n",
       "      <th>orbital_semi_major</th>\n",
       "      <th>planet_radius_earth</th>\n",
       "      <th>planet_radius_jupiter</th>\n",
       "      <th>planet_mass_earth</th>\n",
       "      <th>planet_mass_jupiter</th>\n",
       "      <th>eccentricity</th>\n",
       "      <th>stellar_eff_temp</th>\n",
       "      <th>stellar_radius</th>\n",
       "      <th>stellar_mass</th>\n",
       "      <th>dist_system</th>\n",
       "      <th>dist_system_ly</th>\n",
       "    </tr>\n",
       "  </thead>\n",
       "  <tbody>\n",
       "    <tr>\n",
       "      <th>0</th>\n",
       "      <td>OGLE-2016-BLG-1227L b</td>\n",
       "      <td>OGLE-2016-BLG-1227L</td>\n",
       "      <td>1</td>\n",
       "      <td>1</td>\n",
       "      <td>Microlensing</td>\n",
       "      <td>2020</td>\n",
       "      <td>1.3 m Warsaw University Telescope</td>\n",
       "      <td>NaN</td>\n",
       "      <td>3.4</td>\n",
       "      <td>13.90</td>\n",
       "      <td>1.240</td>\n",
       "      <td>250.0</td>\n",
       "      <td>0.790</td>\n",
       "      <td>NaN</td>\n",
       "      <td>NaN</td>\n",
       "      <td>NaN</td>\n",
       "      <td>0.10</td>\n",
       "      <td>NaN</td>\n",
       "      <td>NaN</td>\n",
       "    </tr>\n",
       "    <tr>\n",
       "      <th>13</th>\n",
       "      <td>OGLE-2015-BLG-0966L b</td>\n",
       "      <td>OGLE-2015-BLG-0966L</td>\n",
       "      <td>1</td>\n",
       "      <td>1</td>\n",
       "      <td>Microlensing</td>\n",
       "      <td>2016</td>\n",
       "      <td>1.3 m Warsaw University Telescope</td>\n",
       "      <td>NaN</td>\n",
       "      <td>2.7</td>\n",
       "      <td>4.86</td>\n",
       "      <td>0.433</td>\n",
       "      <td>21.0</td>\n",
       "      <td>0.066</td>\n",
       "      <td>NaN</td>\n",
       "      <td>NaN</td>\n",
       "      <td>NaN</td>\n",
       "      <td>0.38</td>\n",
       "      <td>3300.0</td>\n",
       "      <td>10764.6</td>\n",
       "    </tr>\n",
       "  </tbody>\n",
       "</table>\n",
       "</div>"
      ],
      "text/plain": [
       "              planet_name             hostname  sys_num_stars  sys_num_planet  \\\n",
       "0   OGLE-2016-BLG-1227L b  OGLE-2016-BLG-1227L              1               1   \n",
       "13  OGLE-2015-BLG-0966L b  OGLE-2015-BLG-0966L              1               1   \n",
       "\n",
       "   discovery_method  discovery_year                discovery_telescope  \\\n",
       "0      Microlensing            2020  1.3 m Warsaw University Telescope   \n",
       "13     Microlensing            2016  1.3 m Warsaw University Telescope   \n",
       "\n",
       "    orbital_period  orbital_semi_major  planet_radius_earth  \\\n",
       "0              NaN                 3.4                13.90   \n",
       "13             NaN                 2.7                 4.86   \n",
       "\n",
       "    planet_radius_jupiter  planet_mass_earth  planet_mass_jupiter  \\\n",
       "0                   1.240              250.0                0.790   \n",
       "13                  0.433               21.0                0.066   \n",
       "\n",
       "    eccentricity  stellar_eff_temp  stellar_radius  stellar_mass  dist_system  \\\n",
       "0            NaN               NaN             NaN          0.10          NaN   \n",
       "13           NaN               NaN             NaN          0.38       3300.0   \n",
       "\n",
       "    dist_system_ly  \n",
       "0              NaN  \n",
       "13         10764.6  "
      ]
     },
     "execution_count": 147,
     "metadata": {},
     "output_type": "execute_result"
    }
   ],
   "source": [
    "ps_mlen.head(2)"
   ]
  },
  {
   "cell_type": "code",
   "execution_count": 150,
   "id": "9f7a98d9",
   "metadata": {},
   "outputs": [],
   "source": [
    "merged = pd.merge(mlen, ps_mlen, on='planet_name')"
   ]
  },
  {
   "cell_type": "code",
   "execution_count": 151,
   "id": "65bf5450",
   "metadata": {},
   "outputs": [
    {
     "data": {
      "text/html": [
       "<div>\n",
       "<style scoped>\n",
       "    .dataframe tbody tr th:only-of-type {\n",
       "        vertical-align: middle;\n",
       "    }\n",
       "\n",
       "    .dataframe tbody tr th {\n",
       "        vertical-align: top;\n",
       "    }\n",
       "\n",
       "    .dataframe thead th {\n",
       "        text-align: right;\n",
       "    }\n",
       "</style>\n",
       "<table border=\"1\" class=\"dataframe\">\n",
       "  <thead>\n",
       "    <tr style=\"text-align: right;\">\n",
       "      <th></th>\n",
       "      <th>planet_name</th>\n",
       "      <th>ra_event</th>\n",
       "      <th>dec_event</th>\n",
       "      <th>earth_massses</th>\n",
       "      <th>jupiter_masses</th>\n",
       "      <th>planet_orbmax</th>\n",
       "      <th>lens_distance</th>\n",
       "      <th>source_distance</th>\n",
       "      <th>einstein_cross_time</th>\n",
       "      <th>source_mag</th>\n",
       "      <th>...</th>\n",
       "      <th>planet_radius_earth</th>\n",
       "      <th>planet_radius_jupiter</th>\n",
       "      <th>planet_mass_earth</th>\n",
       "      <th>planet_mass_jupiter</th>\n",
       "      <th>eccentricity</th>\n",
       "      <th>stellar_eff_temp</th>\n",
       "      <th>stellar_radius</th>\n",
       "      <th>stellar_mass</th>\n",
       "      <th>dist_system</th>\n",
       "      <th>dist_system_ly</th>\n",
       "    </tr>\n",
       "  </thead>\n",
       "  <tbody>\n",
       "    <tr>\n",
       "      <th>0</th>\n",
       "      <td>KMT-2019-BLG-1953L b</td>\n",
       "      <td>17 56 27.90</td>\n",
       "      <td>-28 12 04.00</td>\n",
       "      <td>NaN</td>\n",
       "      <td>NaN</td>\n",
       "      <td>NaN</td>\n",
       "      <td>NaN</td>\n",
       "      <td>8000.0</td>\n",
       "      <td>16.18</td>\n",
       "      <td>19.1</td>\n",
       "      <td>...</td>\n",
       "      <td>14.1</td>\n",
       "      <td>1.26</td>\n",
       "      <td>200.0</td>\n",
       "      <td>0.64</td>\n",
       "      <td>NaN</td>\n",
       "      <td>NaN</td>\n",
       "      <td>NaN</td>\n",
       "      <td>0.31</td>\n",
       "      <td>7040.0</td>\n",
       "      <td>22964.48</td>\n",
       "    </tr>\n",
       "    <tr>\n",
       "      <th>1</th>\n",
       "      <td>KMT-2019-BLG-1953L b</td>\n",
       "      <td>17 56 27.90</td>\n",
       "      <td>-28 12 04.00</td>\n",
       "      <td>NaN</td>\n",
       "      <td>NaN</td>\n",
       "      <td>NaN</td>\n",
       "      <td>NaN</td>\n",
       "      <td>8000.0</td>\n",
       "      <td>16.02</td>\n",
       "      <td>18.2</td>\n",
       "      <td>...</td>\n",
       "      <td>14.1</td>\n",
       "      <td>1.26</td>\n",
       "      <td>200.0</td>\n",
       "      <td>0.64</td>\n",
       "      <td>NaN</td>\n",
       "      <td>NaN</td>\n",
       "      <td>NaN</td>\n",
       "      <td>0.31</td>\n",
       "      <td>7040.0</td>\n",
       "      <td>22964.48</td>\n",
       "    </tr>\n",
       "    <tr>\n",
       "      <th>2</th>\n",
       "      <td>KMT-2019-BLG-1953L b</td>\n",
       "      <td>17 56 27.90</td>\n",
       "      <td>-28 12 04.00</td>\n",
       "      <td>200.0</td>\n",
       "      <td>0.64</td>\n",
       "      <td>NaN</td>\n",
       "      <td>7040.0</td>\n",
       "      <td>8000.0</td>\n",
       "      <td>16.05</td>\n",
       "      <td>19.7</td>\n",
       "      <td>...</td>\n",
       "      <td>14.1</td>\n",
       "      <td>1.26</td>\n",
       "      <td>200.0</td>\n",
       "      <td>0.64</td>\n",
       "      <td>NaN</td>\n",
       "      <td>NaN</td>\n",
       "      <td>NaN</td>\n",
       "      <td>0.31</td>\n",
       "      <td>7040.0</td>\n",
       "      <td>22964.48</td>\n",
       "    </tr>\n",
       "    <tr>\n",
       "      <th>3</th>\n",
       "      <td>KMT-2019-BLG-1953L b</td>\n",
       "      <td>17 56 27.90</td>\n",
       "      <td>-28 12 04.00</td>\n",
       "      <td>NaN</td>\n",
       "      <td>NaN</td>\n",
       "      <td>NaN</td>\n",
       "      <td>NaN</td>\n",
       "      <td>8000.0</td>\n",
       "      <td>16.08</td>\n",
       "      <td>13.2</td>\n",
       "      <td>...</td>\n",
       "      <td>14.1</td>\n",
       "      <td>1.26</td>\n",
       "      <td>200.0</td>\n",
       "      <td>0.64</td>\n",
       "      <td>NaN</td>\n",
       "      <td>NaN</td>\n",
       "      <td>NaN</td>\n",
       "      <td>0.31</td>\n",
       "      <td>7040.0</td>\n",
       "      <td>22964.48</td>\n",
       "    </tr>\n",
       "    <tr>\n",
       "      <th>4</th>\n",
       "      <td>KMT-2019-BLG-1953L b</td>\n",
       "      <td>17 56 27.90</td>\n",
       "      <td>-28 12 04.00</td>\n",
       "      <td>NaN</td>\n",
       "      <td>NaN</td>\n",
       "      <td>NaN</td>\n",
       "      <td>NaN</td>\n",
       "      <td>8000.0</td>\n",
       "      <td>16.18</td>\n",
       "      <td>12.8</td>\n",
       "      <td>...</td>\n",
       "      <td>14.1</td>\n",
       "      <td>1.26</td>\n",
       "      <td>200.0</td>\n",
       "      <td>0.64</td>\n",
       "      <td>NaN</td>\n",
       "      <td>NaN</td>\n",
       "      <td>NaN</td>\n",
       "      <td>0.31</td>\n",
       "      <td>7040.0</td>\n",
       "      <td>22964.48</td>\n",
       "    </tr>\n",
       "  </tbody>\n",
       "</table>\n",
       "<p>5 rows × 32 columns</p>\n",
       "</div>"
      ],
      "text/plain": [
       "            planet_name     ra_event     dec_event  earth_massses  \\\n",
       "0  KMT-2019-BLG-1953L b  17 56 27.90  -28 12 04.00            NaN   \n",
       "1  KMT-2019-BLG-1953L b  17 56 27.90  -28 12 04.00            NaN   \n",
       "2  KMT-2019-BLG-1953L b  17 56 27.90  -28 12 04.00          200.0   \n",
       "3  KMT-2019-BLG-1953L b  17 56 27.90  -28 12 04.00            NaN   \n",
       "4  KMT-2019-BLG-1953L b  17 56 27.90  -28 12 04.00            NaN   \n",
       "\n",
       "   jupiter_masses  planet_orbmax  lens_distance  source_distance  \\\n",
       "0             NaN            NaN            NaN           8000.0   \n",
       "1             NaN            NaN            NaN           8000.0   \n",
       "2            0.64            NaN         7040.0           8000.0   \n",
       "3             NaN            NaN            NaN           8000.0   \n",
       "4             NaN            NaN            NaN           8000.0   \n",
       "\n",
       "   einstein_cross_time  source_mag  ...  planet_radius_earth  \\\n",
       "0                16.18        19.1  ...                 14.1   \n",
       "1                16.02        18.2  ...                 14.1   \n",
       "2                16.05        19.7  ...                 14.1   \n",
       "3                16.08        13.2  ...                 14.1   \n",
       "4                16.18        12.8  ...                 14.1   \n",
       "\n",
       "   planet_radius_jupiter  planet_mass_earth  planet_mass_jupiter eccentricity  \\\n",
       "0                   1.26              200.0                 0.64          NaN   \n",
       "1                   1.26              200.0                 0.64          NaN   \n",
       "2                   1.26              200.0                 0.64          NaN   \n",
       "3                   1.26              200.0                 0.64          NaN   \n",
       "4                   1.26              200.0                 0.64          NaN   \n",
       "\n",
       "   stellar_eff_temp  stellar_radius stellar_mass  dist_system dist_system_ly  \n",
       "0               NaN             NaN         0.31       7040.0       22964.48  \n",
       "1               NaN             NaN         0.31       7040.0       22964.48  \n",
       "2               NaN             NaN         0.31       7040.0       22964.48  \n",
       "3               NaN             NaN         0.31       7040.0       22964.48  \n",
       "4               NaN             NaN         0.31       7040.0       22964.48  \n",
       "\n",
       "[5 rows x 32 columns]"
      ]
     },
     "execution_count": 151,
     "metadata": {},
     "output_type": "execute_result"
    }
   ],
   "source": [
    "merged.head()"
   ]
  },
  {
   "cell_type": "code",
   "execution_count": 153,
   "id": "ad407791",
   "metadata": {},
   "outputs": [
    {
     "data": {
      "text/plain": [
       "(331, 32)"
      ]
     },
     "execution_count": 153,
     "metadata": {},
     "output_type": "execute_result"
    }
   ],
   "source": [
    "merged.shape"
   ]
  },
  {
   "cell_type": "markdown",
   "id": "90152d12",
   "metadata": {},
   "source": [
    "Las columnas earth_masses y jupiter_massses seran remplazadas por planet_mass_earth y planet_mass_jupiter.\n",
    "\n",
    "Mientras que las columnas orbital_period, stellar_eff_temp, stellar_radius y eccentricity seran eliminadas del dataframe debido a la gran cantidad de valores nulos que tienen para planetas detectatos por microlensing. "
   ]
  },
  {
   "cell_type": "code",
   "execution_count": 161,
   "id": "99d779eb",
   "metadata": {},
   "outputs": [
    {
     "data": {
      "text/plain": [
       "planet_name                0.000000\n",
       "ra_event                   0.000000\n",
       "dec_event                  0.000000\n",
       "earth_massses              0.096677\n",
       "jupiter_masses             0.096677\n",
       "planet_orbmax              0.105740\n",
       "lens_distance              0.102719\n",
       "source_distance            0.673716\n",
       "einstein_cross_time        0.045317\n",
       "source_mag                 0.051360\n",
       "planet_star_mass_ratio     0.259819\n",
       "angular_einstein_radius    0.187311\n",
       "lens_distance_ly           0.102719\n",
       "source_distance_ly         0.673716\n",
       "hostname                   0.000000\n",
       "sys_num_stars              0.000000\n",
       "sys_num_planet             0.000000\n",
       "discovery_method           0.000000\n",
       "discovery_year             0.000000\n",
       "discovery_telescope        0.000000\n",
       "orbital_period             0.930514\n",
       "orbital_semi_major         0.018127\n",
       "planet_radius_earth        0.000000\n",
       "planet_radius_jupiter      0.000000\n",
       "planet_mass_earth          0.000000\n",
       "planet_mass_jupiter        0.000000\n",
       "eccentricity               0.975831\n",
       "stellar_eff_temp           0.969789\n",
       "stellar_radius             0.993958\n",
       "stellar_mass               0.000000\n",
       "dist_system                0.015106\n",
       "dist_system_ly             0.015106\n",
       "dtype: float64"
      ]
     },
     "execution_count": 161,
     "metadata": {},
     "output_type": "execute_result"
    }
   ],
   "source": [
    "merged.isnull().mean()"
   ]
  },
  {
   "cell_type": "code",
   "execution_count": 166,
   "id": "42dbc076",
   "metadata": {},
   "outputs": [],
   "source": [
    "merged.drop(columns=['earth_massses', 'jupiter_masses', 'orbital_period', 'stellar_eff_temp', 'stellar_radius', 'eccentricity'], inplace=True)"
   ]
  },
  {
   "cell_type": "code",
   "execution_count": 168,
   "id": "bc33d7e2",
   "metadata": {},
   "outputs": [
    {
     "data": {
      "text/html": [
       "<div>\n",
       "<style scoped>\n",
       "    .dataframe tbody tr th:only-of-type {\n",
       "        vertical-align: middle;\n",
       "    }\n",
       "\n",
       "    .dataframe tbody tr th {\n",
       "        vertical-align: top;\n",
       "    }\n",
       "\n",
       "    .dataframe thead th {\n",
       "        text-align: right;\n",
       "    }\n",
       "</style>\n",
       "<table border=\"1\" class=\"dataframe\">\n",
       "  <thead>\n",
       "    <tr style=\"text-align: right;\">\n",
       "      <th></th>\n",
       "      <th>planet_name</th>\n",
       "      <th>ra_event</th>\n",
       "      <th>dec_event</th>\n",
       "      <th>planet_orbmax</th>\n",
       "      <th>lens_distance</th>\n",
       "      <th>source_distance</th>\n",
       "      <th>einstein_cross_time</th>\n",
       "      <th>source_mag</th>\n",
       "      <th>planet_star_mass_ratio</th>\n",
       "      <th>angular_einstein_radius</th>\n",
       "      <th>...</th>\n",
       "      <th>discovery_year</th>\n",
       "      <th>discovery_telescope</th>\n",
       "      <th>orbital_semi_major</th>\n",
       "      <th>planet_radius_earth</th>\n",
       "      <th>planet_radius_jupiter</th>\n",
       "      <th>planet_mass_earth</th>\n",
       "      <th>planet_mass_jupiter</th>\n",
       "      <th>stellar_mass</th>\n",
       "      <th>dist_system</th>\n",
       "      <th>dist_system_ly</th>\n",
       "    </tr>\n",
       "  </thead>\n",
       "  <tbody>\n",
       "    <tr>\n",
       "      <th>0</th>\n",
       "      <td>KMT-2019-BLG-1953L b</td>\n",
       "      <td>17 56 27.90</td>\n",
       "      <td>-28 12 04.00</td>\n",
       "      <td>NaN</td>\n",
       "      <td>NaN</td>\n",
       "      <td>8000.0</td>\n",
       "      <td>16.18</td>\n",
       "      <td>19.1</td>\n",
       "      <td>20.68</td>\n",
       "      <td>0.25</td>\n",
       "      <td>...</td>\n",
       "      <td>2020</td>\n",
       "      <td>1.6 m wide-field telescope</td>\n",
       "      <td>NaN</td>\n",
       "      <td>14.1</td>\n",
       "      <td>1.26</td>\n",
       "      <td>200.0</td>\n",
       "      <td>0.64</td>\n",
       "      <td>0.31</td>\n",
       "      <td>7040.0</td>\n",
       "      <td>22964.48</td>\n",
       "    </tr>\n",
       "    <tr>\n",
       "      <th>1</th>\n",
       "      <td>KMT-2019-BLG-1953L b</td>\n",
       "      <td>17 56 27.90</td>\n",
       "      <td>-28 12 04.00</td>\n",
       "      <td>NaN</td>\n",
       "      <td>NaN</td>\n",
       "      <td>8000.0</td>\n",
       "      <td>16.02</td>\n",
       "      <td>18.2</td>\n",
       "      <td>20.68</td>\n",
       "      <td>0.25</td>\n",
       "      <td>...</td>\n",
       "      <td>2020</td>\n",
       "      <td>1.6 m wide-field telescope</td>\n",
       "      <td>NaN</td>\n",
       "      <td>14.1</td>\n",
       "      <td>1.26</td>\n",
       "      <td>200.0</td>\n",
       "      <td>0.64</td>\n",
       "      <td>0.31</td>\n",
       "      <td>7040.0</td>\n",
       "      <td>22964.48</td>\n",
       "    </tr>\n",
       "    <tr>\n",
       "      <th>2</th>\n",
       "      <td>KMT-2019-BLG-1953L b</td>\n",
       "      <td>17 56 27.90</td>\n",
       "      <td>-28 12 04.00</td>\n",
       "      <td>NaN</td>\n",
       "      <td>7040.0</td>\n",
       "      <td>8000.0</td>\n",
       "      <td>16.05</td>\n",
       "      <td>19.7</td>\n",
       "      <td>20.68</td>\n",
       "      <td>0.25</td>\n",
       "      <td>...</td>\n",
       "      <td>2020</td>\n",
       "      <td>1.6 m wide-field telescope</td>\n",
       "      <td>NaN</td>\n",
       "      <td>14.1</td>\n",
       "      <td>1.26</td>\n",
       "      <td>200.0</td>\n",
       "      <td>0.64</td>\n",
       "      <td>0.31</td>\n",
       "      <td>7040.0</td>\n",
       "      <td>22964.48</td>\n",
       "    </tr>\n",
       "    <tr>\n",
       "      <th>3</th>\n",
       "      <td>KMT-2019-BLG-1953L b</td>\n",
       "      <td>17 56 27.90</td>\n",
       "      <td>-28 12 04.00</td>\n",
       "      <td>NaN</td>\n",
       "      <td>NaN</td>\n",
       "      <td>8000.0</td>\n",
       "      <td>16.08</td>\n",
       "      <td>13.2</td>\n",
       "      <td>20.68</td>\n",
       "      <td>0.25</td>\n",
       "      <td>...</td>\n",
       "      <td>2020</td>\n",
       "      <td>1.6 m wide-field telescope</td>\n",
       "      <td>NaN</td>\n",
       "      <td>14.1</td>\n",
       "      <td>1.26</td>\n",
       "      <td>200.0</td>\n",
       "      <td>0.64</td>\n",
       "      <td>0.31</td>\n",
       "      <td>7040.0</td>\n",
       "      <td>22964.48</td>\n",
       "    </tr>\n",
       "    <tr>\n",
       "      <th>4</th>\n",
       "      <td>KMT-2019-BLG-1953L b</td>\n",
       "      <td>17 56 27.90</td>\n",
       "      <td>-28 12 04.00</td>\n",
       "      <td>NaN</td>\n",
       "      <td>NaN</td>\n",
       "      <td>8000.0</td>\n",
       "      <td>16.18</td>\n",
       "      <td>12.8</td>\n",
       "      <td>20.68</td>\n",
       "      <td>0.25</td>\n",
       "      <td>...</td>\n",
       "      <td>2020</td>\n",
       "      <td>1.6 m wide-field telescope</td>\n",
       "      <td>NaN</td>\n",
       "      <td>14.1</td>\n",
       "      <td>1.26</td>\n",
       "      <td>200.0</td>\n",
       "      <td>0.64</td>\n",
       "      <td>0.31</td>\n",
       "      <td>7040.0</td>\n",
       "      <td>22964.48</td>\n",
       "    </tr>\n",
       "  </tbody>\n",
       "</table>\n",
       "<p>5 rows × 26 columns</p>\n",
       "</div>"
      ],
      "text/plain": [
       "            planet_name     ra_event     dec_event  planet_orbmax  \\\n",
       "0  KMT-2019-BLG-1953L b  17 56 27.90  -28 12 04.00            NaN   \n",
       "1  KMT-2019-BLG-1953L b  17 56 27.90  -28 12 04.00            NaN   \n",
       "2  KMT-2019-BLG-1953L b  17 56 27.90  -28 12 04.00            NaN   \n",
       "3  KMT-2019-BLG-1953L b  17 56 27.90  -28 12 04.00            NaN   \n",
       "4  KMT-2019-BLG-1953L b  17 56 27.90  -28 12 04.00            NaN   \n",
       "\n",
       "   lens_distance  source_distance  einstein_cross_time  source_mag  \\\n",
       "0            NaN           8000.0                16.18        19.1   \n",
       "1            NaN           8000.0                16.02        18.2   \n",
       "2         7040.0           8000.0                16.05        19.7   \n",
       "3            NaN           8000.0                16.08        13.2   \n",
       "4            NaN           8000.0                16.18        12.8   \n",
       "\n",
       "   planet_star_mass_ratio  angular_einstein_radius  ...  discovery_year  \\\n",
       "0                   20.68                     0.25  ...            2020   \n",
       "1                   20.68                     0.25  ...            2020   \n",
       "2                   20.68                     0.25  ...            2020   \n",
       "3                   20.68                     0.25  ...            2020   \n",
       "4                   20.68                     0.25  ...            2020   \n",
       "\n",
       "          discovery_telescope orbital_semi_major  planet_radius_earth  \\\n",
       "0  1.6 m wide-field telescope                NaN                 14.1   \n",
       "1  1.6 m wide-field telescope                NaN                 14.1   \n",
       "2  1.6 m wide-field telescope                NaN                 14.1   \n",
       "3  1.6 m wide-field telescope                NaN                 14.1   \n",
       "4  1.6 m wide-field telescope                NaN                 14.1   \n",
       "\n",
       "   planet_radius_jupiter planet_mass_earth  planet_mass_jupiter stellar_mass  \\\n",
       "0                   1.26             200.0                 0.64         0.31   \n",
       "1                   1.26             200.0                 0.64         0.31   \n",
       "2                   1.26             200.0                 0.64         0.31   \n",
       "3                   1.26             200.0                 0.64         0.31   \n",
       "4                   1.26             200.0                 0.64         0.31   \n",
       "\n",
       "   dist_system  dist_system_ly  \n",
       "0       7040.0        22964.48  \n",
       "1       7040.0        22964.48  \n",
       "2       7040.0        22964.48  \n",
       "3       7040.0        22964.48  \n",
       "4       7040.0        22964.48  \n",
       "\n",
       "[5 rows x 26 columns]"
      ]
     },
     "execution_count": 168,
     "metadata": {},
     "output_type": "execute_result"
    }
   ],
   "source": [
    "merged.head()"
   ]
  },
  {
   "cell_type": "code",
   "execution_count": 171,
   "id": "1ab78791",
   "metadata": {},
   "outputs": [
    {
     "data": {
      "text/plain": [
       "OGLE-2015-BLG-0966L b    16\n",
       "OGLE-2012-BLG-0950L b    12\n",
       "KMT-2018-BLG-1990L b     11\n",
       "OGLE-2016-BLG-1195L b    10\n",
       "KMT-2016-BLG-1836L b      7\n",
       "                         ..\n",
       "MOA-bin-1L b              1\n",
       "MOA-2007-BLG-192L b       1\n",
       "OGLE-2018-BLG-1428L b     1\n",
       "UKIRT-2017-BLG-001L b     1\n",
       "OGLE-2008-BLG-355L b      1\n",
       "Name: planet_name, Length: 114, dtype: int64"
      ]
     },
     "execution_count": 171,
     "metadata": {},
     "output_type": "execute_result"
    }
   ],
   "source": [
    "merged['planet_name'].value_counts()"
   ]
  },
  {
   "cell_type": "code",
   "execution_count": null,
   "id": "36d85c53",
   "metadata": {},
   "outputs": [],
   "source": []
  }
 ],
 "metadata": {
  "kernelspec": {
   "display_name": "Python 3",
   "language": "python",
   "name": "python3"
  },
  "language_info": {
   "codemirror_mode": {
    "name": "ipython",
    "version": 3
   },
   "file_extension": ".py",
   "mimetype": "text/x-python",
   "name": "python",
   "nbconvert_exporter": "python",
   "pygments_lexer": "ipython3",
   "version": "3.8.8"
  }
 },
 "nbformat": 4,
 "nbformat_minor": 5
}
