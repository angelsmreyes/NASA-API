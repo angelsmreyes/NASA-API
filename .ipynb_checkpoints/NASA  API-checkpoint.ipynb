{
 "cells": [
  {
   "cell_type": "code",
   "execution_count": 4,
   "id": "161da7f6",
   "metadata": {},
   "outputs": [],
   "source": [
    "import pandas as pd\n",
    "import requests\n",
    "import numpy as np\n",
    "import matplotlib.pyplot as plt\n",
    "import seaborn as sns"
   ]
  },
  {
   "cell_type": "markdown",
   "id": "69276fe2",
   "metadata": {},
   "source": [
    "### Primer dataframe"
   ]
  },
  {
   "cell_type": "markdown",
   "id": "d595942c",
   "metadata": {},
   "source": [
    "### Adquisición de Datos"
   ]
  },
  {
   "cell_type": "code",
   "execution_count": 5,
   "id": "7fbcc977",
   "metadata": {},
   "outputs": [],
   "source": [
    "response = requests.get('https://exoplanetarchive.ipac.caltech.edu/cgi-bin/nstedAPI/nph-nstedAPI?table=ML&format=json')"
   ]
  },
  {
   "cell_type": "code",
   "execution_count": 6,
   "id": "4c16acd7",
   "metadata": {},
   "outputs": [
    {
     "data": {
      "text/plain": [
       "<Response [200]>"
      ]
     },
     "execution_count": 6,
     "metadata": {},
     "output_type": "execute_result"
    }
   ],
   "source": [
    "response"
   ]
  },
  {
   "cell_type": "code",
   "execution_count": 7,
   "id": "56c0820d",
   "metadata": {},
   "outputs": [],
   "source": [
    "mlen = pd.DataFrame(response.json())"
   ]
  },
  {
   "cell_type": "markdown",
   "id": "ca2c79ef",
   "metadata": {},
   "source": [
    "-------------------------------------------------"
   ]
  },
  {
   "cell_type": "markdown",
   "id": "6c1b46a3",
   "metadata": {},
   "source": [
    "### Evaluación"
   ]
  },
  {
   "cell_type": "code",
   "execution_count": 8,
   "id": "1096c1c8",
   "metadata": {},
   "outputs": [
    {
     "data": {
      "text/html": [
       "<div>\n",
       "<style scoped>\n",
       "    .dataframe tbody tr th:only-of-type {\n",
       "        vertical-align: middle;\n",
       "    }\n",
       "\n",
       "    .dataframe tbody tr th {\n",
       "        vertical-align: top;\n",
       "    }\n",
       "\n",
       "    .dataframe thead th {\n",
       "        text-align: right;\n",
       "    }\n",
       "</style>\n",
       "<table border=\"1\" class=\"dataframe\">\n",
       "  <thead>\n",
       "    <tr style=\"text-align: right;\">\n",
       "      <th></th>\n",
       "      <th>pl_name</th>\n",
       "      <th>rastr</th>\n",
       "      <th>decstr</th>\n",
       "      <th>pl_masse</th>\n",
       "      <th>pl_masseerr1</th>\n",
       "      <th>pl_masseerr2</th>\n",
       "      <th>pl_masselim</th>\n",
       "      <th>pl_massj</th>\n",
       "      <th>pl_massjerr1</th>\n",
       "      <th>pl_massjerr2</th>\n",
       "      <th>...</th>\n",
       "      <th>ml_radeinang</th>\n",
       "      <th>ml_radeinangerr1</th>\n",
       "      <th>ml_radeinangerr2</th>\n",
       "      <th>ml_radeinanglim</th>\n",
       "      <th>ml_pmrells</th>\n",
       "      <th>ml_pmrellserr1</th>\n",
       "      <th>ml_pmrellserr2</th>\n",
       "      <th>ml_pmrellslim</th>\n",
       "      <th>ml_modeldef</th>\n",
       "      <th>htmllink</th>\n",
       "    </tr>\n",
       "  </thead>\n",
       "  <tbody>\n",
       "    <tr>\n",
       "      <th>0</th>\n",
       "      <td>KMT-2019-BLG-1953L b</td>\n",
       "      <td>17h56m27.90s</td>\n",
       "      <td>-28d12m04.00s</td>\n",
       "      <td>NaN</td>\n",
       "      <td>NaN</td>\n",
       "      <td>NaN</td>\n",
       "      <td>0</td>\n",
       "      <td>NaN</td>\n",
       "      <td>NaN</td>\n",
       "      <td>NaN</td>\n",
       "      <td>...</td>\n",
       "      <td>0.250</td>\n",
       "      <td>0.020</td>\n",
       "      <td>-0.020</td>\n",
       "      <td>0.0</td>\n",
       "      <td>5.70</td>\n",
       "      <td>0.46</td>\n",
       "      <td>-0.46</td>\n",
       "      <td>0.0</td>\n",
       "      <td>0</td>\n",
       "      <td>&lt;a refstr=HAN_ET_AL__2020 href=https://ui.adsa...</td>\n",
       "    </tr>\n",
       "    <tr>\n",
       "      <th>1</th>\n",
       "      <td>MOA-2013-BLG-605L b</td>\n",
       "      <td>17h58m42.85s</td>\n",
       "      <td>-29d23m53.66s</td>\n",
       "      <td>20.58</td>\n",
       "      <td>0.56</td>\n",
       "      <td>-6.66</td>\n",
       "      <td>0</td>\n",
       "      <td>0.06475</td>\n",
       "      <td>0.0018</td>\n",
       "      <td>-0.021</td>\n",
       "      <td>...</td>\n",
       "      <td>0.503</td>\n",
       "      <td>0.034</td>\n",
       "      <td>-0.034</td>\n",
       "      <td>0.0</td>\n",
       "      <td>9.03</td>\n",
       "      <td>0.63</td>\n",
       "      <td>-0.63</td>\n",
       "      <td>0.0</td>\n",
       "      <td>0</td>\n",
       "      <td>&lt;a refstr=SUMI_ET_AL__2016 href=https://ui.ads...</td>\n",
       "    </tr>\n",
       "    <tr>\n",
       "      <th>2</th>\n",
       "      <td>KMT-2019-BLG-1953L b</td>\n",
       "      <td>17h56m27.90s</td>\n",
       "      <td>-28d12m04.00s</td>\n",
       "      <td>NaN</td>\n",
       "      <td>NaN</td>\n",
       "      <td>NaN</td>\n",
       "      <td>0</td>\n",
       "      <td>NaN</td>\n",
       "      <td>NaN</td>\n",
       "      <td>NaN</td>\n",
       "      <td>...</td>\n",
       "      <td>0.250</td>\n",
       "      <td>0.020</td>\n",
       "      <td>-0.020</td>\n",
       "      <td>0.0</td>\n",
       "      <td>5.70</td>\n",
       "      <td>0.46</td>\n",
       "      <td>-0.46</td>\n",
       "      <td>0.0</td>\n",
       "      <td>0</td>\n",
       "      <td>&lt;a refstr=HAN_ET_AL__2020 href=https://ui.adsa...</td>\n",
       "    </tr>\n",
       "    <tr>\n",
       "      <th>3</th>\n",
       "      <td>OGLE-2005-BLG-390L b</td>\n",
       "      <td>17h54m19.2s</td>\n",
       "      <td>-30d22m38s</td>\n",
       "      <td>5.50</td>\n",
       "      <td>5.50</td>\n",
       "      <td>-2.70</td>\n",
       "      <td>0</td>\n",
       "      <td>0.01700</td>\n",
       "      <td>0.0170</td>\n",
       "      <td>-0.009</td>\n",
       "      <td>...</td>\n",
       "      <td>NaN</td>\n",
       "      <td>NaN</td>\n",
       "      <td>NaN</td>\n",
       "      <td>NaN</td>\n",
       "      <td>NaN</td>\n",
       "      <td>NaN</td>\n",
       "      <td>NaN</td>\n",
       "      <td>NaN</td>\n",
       "      <td>1</td>\n",
       "      <td>&lt;a refstr=BEAULIEU_ET_AL__2006 href=https://ui...</td>\n",
       "    </tr>\n",
       "    <tr>\n",
       "      <th>4</th>\n",
       "      <td>OGLE-2012-BLG-0950L b</td>\n",
       "      <td>18h08m04.62s</td>\n",
       "      <td>-29d43m53.7s</td>\n",
       "      <td>36.00</td>\n",
       "      <td>8.00</td>\n",
       "      <td>-6.00</td>\n",
       "      <td>0</td>\n",
       "      <td>0.11000</td>\n",
       "      <td>0.0300</td>\n",
       "      <td>-0.020</td>\n",
       "      <td>...</td>\n",
       "      <td>0.860</td>\n",
       "      <td>0.150</td>\n",
       "      <td>-0.060</td>\n",
       "      <td>0.0</td>\n",
       "      <td>4.60</td>\n",
       "      <td>0.90</td>\n",
       "      <td>-0.30</td>\n",
       "      <td>0.0</td>\n",
       "      <td>0</td>\n",
       "      <td>&lt;a refstr=KOSHIMOTO_ET_AL__2017 href=https://u...</td>\n",
       "    </tr>\n",
       "  </tbody>\n",
       "</table>\n",
       "<p>5 rows × 73 columns</p>\n",
       "</div>"
      ],
      "text/plain": [
       "                 pl_name         rastr         decstr  pl_masse  pl_masseerr1  \\\n",
       "0   KMT-2019-BLG-1953L b  17h56m27.90s  -28d12m04.00s       NaN           NaN   \n",
       "1    MOA-2013-BLG-605L b  17h58m42.85s  -29d23m53.66s     20.58          0.56   \n",
       "2   KMT-2019-BLG-1953L b  17h56m27.90s  -28d12m04.00s       NaN           NaN   \n",
       "3   OGLE-2005-BLG-390L b   17h54m19.2s     -30d22m38s      5.50          5.50   \n",
       "4  OGLE-2012-BLG-0950L b  18h08m04.62s   -29d43m53.7s     36.00          8.00   \n",
       "\n",
       "   pl_masseerr2  pl_masselim  pl_massj  pl_massjerr1  pl_massjerr2  ...  \\\n",
       "0           NaN            0       NaN           NaN           NaN  ...   \n",
       "1         -6.66            0   0.06475        0.0018        -0.021  ...   \n",
       "2           NaN            0       NaN           NaN           NaN  ...   \n",
       "3         -2.70            0   0.01700        0.0170        -0.009  ...   \n",
       "4         -6.00            0   0.11000        0.0300        -0.020  ...   \n",
       "\n",
       "   ml_radeinang  ml_radeinangerr1  ml_radeinangerr2  ml_radeinanglim  \\\n",
       "0         0.250             0.020            -0.020              0.0   \n",
       "1         0.503             0.034            -0.034              0.0   \n",
       "2         0.250             0.020            -0.020              0.0   \n",
       "3           NaN               NaN               NaN              NaN   \n",
       "4         0.860             0.150            -0.060              0.0   \n",
       "\n",
       "   ml_pmrells  ml_pmrellserr1  ml_pmrellserr2  ml_pmrellslim  ml_modeldef  \\\n",
       "0        5.70            0.46           -0.46            0.0            0   \n",
       "1        9.03            0.63           -0.63            0.0            0   \n",
       "2        5.70            0.46           -0.46            0.0            0   \n",
       "3         NaN             NaN             NaN            NaN            1   \n",
       "4        4.60            0.90           -0.30            0.0            0   \n",
       "\n",
       "                                            htmllink  \n",
       "0  <a refstr=HAN_ET_AL__2020 href=https://ui.adsa...  \n",
       "1  <a refstr=SUMI_ET_AL__2016 href=https://ui.ads...  \n",
       "2  <a refstr=HAN_ET_AL__2020 href=https://ui.adsa...  \n",
       "3  <a refstr=BEAULIEU_ET_AL__2006 href=https://ui...  \n",
       "4  <a refstr=KOSHIMOTO_ET_AL__2017 href=https://u...  \n",
       "\n",
       "[5 rows x 73 columns]"
      ]
     },
     "execution_count": 8,
     "metadata": {},
     "output_type": "execute_result"
    }
   ],
   "source": [
    "mlen.head()"
   ]
  },
  {
   "cell_type": "code",
   "execution_count": 9,
   "id": "bc05709f",
   "metadata": {},
   "outputs": [
    {
     "data": {
      "text/plain": [
       "(331, 73)"
      ]
     },
     "execution_count": 9,
     "metadata": {},
     "output_type": "execute_result"
    }
   ],
   "source": [
    "mlen.shape"
   ]
  },
  {
   "cell_type": "code",
   "execution_count": 10,
   "id": "4ff23679",
   "metadata": {},
   "outputs": [
    {
     "name": "stdout",
     "output_type": "stream",
     "text": [
      "<class 'pandas.core.frame.DataFrame'>\n",
      "RangeIndex: 331 entries, 0 to 330\n",
      "Data columns (total 73 columns):\n",
      " #   Column             Non-Null Count  Dtype  \n",
      "---  ------             --------------  -----  \n",
      " 0   pl_name            331 non-null    object \n",
      " 1   rastr              331 non-null    object \n",
      " 2   decstr             331 non-null    object \n",
      " 3   pl_masse           299 non-null    float64\n",
      " 4   pl_masseerr1       296 non-null    float64\n",
      " 5   pl_masseerr2       296 non-null    float64\n",
      " 6   pl_masselim        331 non-null    int64  \n",
      " 7   pl_massj           299 non-null    float64\n",
      " 8   pl_massjerr1       296 non-null    float64\n",
      " 9   pl_massjerr2       296 non-null    float64\n",
      " 10  pl_massjlim        331 non-null    int64  \n",
      " 11  pl_orbsmax         296 non-null    float64\n",
      " 12  pl_orbsmaxerr1     271 non-null    float64\n",
      " 13  pl_orbsmaxerr2     271 non-null    float64\n",
      " 14  pl_orbsmaxlim      330 non-null    float64\n",
      " 15  st_mass            301 non-null    float64\n",
      " 16  st_masserr1        298 non-null    float64\n",
      " 17  st_masserr2        298 non-null    float64\n",
      " 18  st_masslim         301 non-null    float64\n",
      " 19  sy_dist            297 non-null    float64\n",
      " 20  sy_disterr1        274 non-null    float64\n",
      " 21  sy_disterr2        274 non-null    float64\n",
      " 22  sy_distlim         297 non-null    float64\n",
      " 23  ml_dists           108 non-null    float64\n",
      " 24  ml_distserr1       40 non-null     float64\n",
      " 25  ml_distserr2       39 non-null     float64\n",
      " 26  ml_distslim        108 non-null    float64\n",
      " 27  ml_tsepmin         312 non-null    float64\n",
      " 28  ml_tsepminerr1     304 non-null    float64\n",
      " 29  ml_tsepminerr2     304 non-null    float64\n",
      " 30  ml_tsepminlim      312 non-null    float64\n",
      " 31  ml_sepminnorm      311 non-null    float64\n",
      " 32  ml_sepminnormerr1  302 non-null    float64\n",
      " 33  ml_sepminnormerr2  302 non-null    float64\n",
      " 34  ml_sepminnormlim   311 non-null    float64\n",
      " 35  ml_xtimeein        316 non-null    float64\n",
      " 36  ml_xtimeeinerr1    306 non-null    float64\n",
      " 37  ml_xtimeeinerr2    306 non-null    float64\n",
      " 38  ml_xtimeeinlim     316 non-null    float64\n",
      " 39  ml_radsnorm        270 non-null    float64\n",
      " 40  ml_radsnormerr1    223 non-null    float64\n",
      " 41  ml_radsnormerr2    223 non-null    float64\n",
      " 42  ml_radsnormlim     270 non-null    float64\n",
      " 43  ml_sepinsnorp      312 non-null    float64\n",
      " 44  ml_sepinsnorperr1  306 non-null    float64\n",
      " 45  ml_sepinsnorperr2  306 non-null    float64\n",
      " 46  ml_sepinsnorplim   312 non-null    float64\n",
      " 47  ml_massratio       314 non-null    float64\n",
      " 48  ml_massratioerr1   308 non-null    float64\n",
      " 49  ml_massratioerr2   308 non-null    float64\n",
      " 50  ml_massratiolim    314 non-null    float64\n",
      " 51  ml_angstlax        311 non-null    float64\n",
      " 52  ml_angstlaxerr1    303 non-null    float64\n",
      " 53  ml_angstlaxerr2    303 non-null    float64\n",
      " 54  ml_angstlaxlim     311 non-null    float64\n",
      " 55  ml_magis           245 non-null    float64\n",
      " 56  ml_magiserr1       222 non-null    float64\n",
      " 57  ml_magiserr2       222 non-null    float64\n",
      " 58  ml_magislim        245 non-null    float64\n",
      " 59  ml_magibl          65 non-null     float64\n",
      " 60  ml_magiblerr1      39 non-null     float64\n",
      " 61  ml_magiblerr2      39 non-null     float64\n",
      " 62  ml_magibllim       65 non-null     float64\n",
      " 63  ml_radeinang       269 non-null    float64\n",
      " 64  ml_radeinangerr1   248 non-null    float64\n",
      " 65  ml_radeinangerr2   248 non-null    float64\n",
      " 66  ml_radeinanglim    269 non-null    float64\n",
      " 67  ml_pmrells         256 non-null    float64\n",
      " 68  ml_pmrellserr1     242 non-null    float64\n",
      " 69  ml_pmrellserr2     242 non-null    float64\n",
      " 70  ml_pmrellslim      256 non-null    float64\n",
      " 71  ml_modeldef        331 non-null    int64  \n",
      " 72  htmllink           331 non-null    object \n",
      "dtypes: float64(66), int64(3), object(4)\n",
      "memory usage: 188.9+ KB\n"
     ]
    }
   ],
   "source": [
    "mlen.info()"
   ]
  },
  {
   "cell_type": "code",
   "execution_count": 11,
   "id": "fa018f7e",
   "metadata": {},
   "outputs": [
    {
     "data": {
      "text/plain": [
       "pl_name            0\n",
       "rastr              0\n",
       "decstr             0\n",
       "pl_masse          32\n",
       "pl_masseerr1      35\n",
       "                  ..\n",
       "ml_pmrellserr1    89\n",
       "ml_pmrellserr2    89\n",
       "ml_pmrellslim     75\n",
       "ml_modeldef        0\n",
       "htmllink           0\n",
       "Length: 73, dtype: int64"
      ]
     },
     "execution_count": 11,
     "metadata": {},
     "output_type": "execute_result"
    }
   ],
   "source": [
    "mlen.isnull().sum()"
   ]
  },
  {
   "cell_type": "code",
   "execution_count": 12,
   "id": "68455010",
   "metadata": {},
   "outputs": [
    {
     "data": {
      "text/plain": [
       "Index(['pl_name', 'rastr', 'decstr', 'pl_masse', 'pl_masseerr1',\n",
       "       'pl_masseerr2', 'pl_masselim', 'pl_massj', 'pl_massjerr1',\n",
       "       'pl_massjerr2', 'pl_massjlim', 'pl_orbsmax', 'pl_orbsmaxerr1',\n",
       "       'pl_orbsmaxerr2', 'pl_orbsmaxlim', 'st_mass', 'st_masserr1',\n",
       "       'st_masserr2', 'st_masslim', 'sy_dist', 'sy_disterr1', 'sy_disterr2',\n",
       "       'sy_distlim', 'ml_dists', 'ml_distserr1', 'ml_distserr2', 'ml_distslim',\n",
       "       'ml_tsepmin', 'ml_tsepminerr1', 'ml_tsepminerr2', 'ml_tsepminlim',\n",
       "       'ml_sepminnorm', 'ml_sepminnormerr1', 'ml_sepminnormerr2',\n",
       "       'ml_sepminnormlim', 'ml_xtimeein', 'ml_xtimeeinerr1', 'ml_xtimeeinerr2',\n",
       "       'ml_xtimeeinlim', 'ml_radsnorm', 'ml_radsnormerr1', 'ml_radsnormerr2',\n",
       "       'ml_radsnormlim', 'ml_sepinsnorp', 'ml_sepinsnorperr1',\n",
       "       'ml_sepinsnorperr2', 'ml_sepinsnorplim', 'ml_massratio',\n",
       "       'ml_massratioerr1', 'ml_massratioerr2', 'ml_massratiolim',\n",
       "       'ml_angstlax', 'ml_angstlaxerr1', 'ml_angstlaxerr2', 'ml_angstlaxlim',\n",
       "       'ml_magis', 'ml_magiserr1', 'ml_magiserr2', 'ml_magislim', 'ml_magibl',\n",
       "       'ml_magiblerr1', 'ml_magiblerr2', 'ml_magibllim', 'ml_radeinang',\n",
       "       'ml_radeinangerr1', 'ml_radeinangerr2', 'ml_radeinanglim', 'ml_pmrells',\n",
       "       'ml_pmrellserr1', 'ml_pmrellserr2', 'ml_pmrellslim', 'ml_modeldef',\n",
       "       'htmllink'],\n",
       "      dtype='object')"
      ]
     },
     "execution_count": 12,
     "metadata": {},
     "output_type": "execute_result"
    }
   ],
   "source": [
    "mlen.columns"
   ]
  },
  {
   "cell_type": "markdown",
   "id": "07c17d4e",
   "metadata": {},
   "source": [
    "### Documentación"
   ]
  },
  {
   "cell_type": "markdown",
   "id": "23f1d0ad",
   "metadata": {},
   "source": [
    "Como se puede observar los nombres de cada una de las columnas no son intuitivos. Se puede visitar la siguiente documentación para una explicación de el significado de cada una de las columnas y lo que representa:\n",
    "\n",
    "https://exoplanetarchive.ipac.caltech.edu/docs/API_ML.html\n",
    "https://exoplanetarchive.ipac.caltech.edu/docs/microlensing-column-mapping.pdf\n",
    "\n",
    "Sin embargo solo seran seleccionadas las listadas a continuación:\n",
    "\n",
    "- **pl_name:** Planet Name (Planet name)\n",
    "- **rastr:** RA (Right ascension of the microlensing event, in sexagesimal format\n",
    "- **decstr:** Declination of the microlensing event, in sexagesimal format\n",
    "- **pl_masse:** Mass of planet, in Earth masses\n",
    "- **pl_massj:** Planet Mass (Mass of planet, in Jupiter masses)\n",
    "- **pl_orbsmax** Planet-star Projected Semi-major Axis, unidad = Astronomical unit (au) \n",
    "- **sy_dist:** Lens Distance, unit = Parsec (pc)\n",
    "- **ml_dists:** Source Distance, unit = Parsec (pc)\n",
    "- **ml_xtimeein:** Einstein Crossing Time [days]  \n",
    "- **ml_massratio:** Planet-star Mass Ratio (10^-4)\n",
    "- **ml_magis:** Source I-band unit = mag \n",
    "- **ml_radeinang:** Angular Einstein Radius, unit = mas \n",
    " \n",
    " \n",
    " \n"
   ]
  },
  {
   "cell_type": "markdown",
   "id": "583d201d",
   "metadata": {},
   "source": [
    "De la siguiente manera se pueden seleccionar las columnas especificadas anteriormente."
   ]
  },
  {
   "cell_type": "markdown",
   "id": "a25ea8ec",
   "metadata": {},
   "source": [
    "### Wrangling"
   ]
  },
  {
   "cell_type": "code",
   "execution_count": 13,
   "id": "81a9ffdd",
   "metadata": {},
   "outputs": [],
   "source": [
    "to_keep = ['pl_name', 'rastr', 'decstr', 'pl_masse', 'pl_massj', 'pl_orbsmax', 'sy_dist',\n",
    "           'ml_dists', 'ml_xtimeein', 'ml_massratio', 'ml_magis', 'ml_radeinang']"
   ]
  },
  {
   "cell_type": "markdown",
   "id": "bf3f555d",
   "metadata": {},
   "source": [
    "Nos aseguramos de que esten bien los nombres"
   ]
  },
  {
   "cell_type": "code",
   "execution_count": 14,
   "id": "c44341b3",
   "metadata": {},
   "outputs": [],
   "source": [
    "mlen = mlen[to_keep]"
   ]
  },
  {
   "cell_type": "code",
   "execution_count": 15,
   "id": "541c7136",
   "metadata": {
    "scrolled": false
   },
   "outputs": [
    {
     "data": {
      "text/html": [
       "<div>\n",
       "<style scoped>\n",
       "    .dataframe tbody tr th:only-of-type {\n",
       "        vertical-align: middle;\n",
       "    }\n",
       "\n",
       "    .dataframe tbody tr th {\n",
       "        vertical-align: top;\n",
       "    }\n",
       "\n",
       "    .dataframe thead th {\n",
       "        text-align: right;\n",
       "    }\n",
       "</style>\n",
       "<table border=\"1\" class=\"dataframe\">\n",
       "  <thead>\n",
       "    <tr style=\"text-align: right;\">\n",
       "      <th></th>\n",
       "      <th>pl_name</th>\n",
       "      <th>rastr</th>\n",
       "      <th>decstr</th>\n",
       "      <th>pl_masse</th>\n",
       "      <th>pl_massj</th>\n",
       "      <th>pl_orbsmax</th>\n",
       "      <th>sy_dist</th>\n",
       "      <th>ml_dists</th>\n",
       "      <th>ml_xtimeein</th>\n",
       "      <th>ml_massratio</th>\n",
       "      <th>ml_magis</th>\n",
       "      <th>ml_radeinang</th>\n",
       "    </tr>\n",
       "  </thead>\n",
       "  <tbody>\n",
       "    <tr>\n",
       "      <th>0</th>\n",
       "      <td>KMT-2019-BLG-1953L b</td>\n",
       "      <td>17h56m27.90s</td>\n",
       "      <td>-28d12m04.00s</td>\n",
       "      <td>NaN</td>\n",
       "      <td>NaN</td>\n",
       "      <td>NaN</td>\n",
       "      <td>NaN</td>\n",
       "      <td>8000.0</td>\n",
       "      <td>16.18</td>\n",
       "      <td>19.100</td>\n",
       "      <td>20.680</td>\n",
       "      <td>0.250</td>\n",
       "    </tr>\n",
       "    <tr>\n",
       "      <th>1</th>\n",
       "      <td>MOA-2013-BLG-605L b</td>\n",
       "      <td>17h58m42.85s</td>\n",
       "      <td>-29d23m53.66s</td>\n",
       "      <td>20.58</td>\n",
       "      <td>0.06475</td>\n",
       "      <td>4.18</td>\n",
       "      <td>3550.0</td>\n",
       "      <td>NaN</td>\n",
       "      <td>19.83</td>\n",
       "      <td>3.124</td>\n",
       "      <td>18.112</td>\n",
       "      <td>0.503</td>\n",
       "    </tr>\n",
       "    <tr>\n",
       "      <th>2</th>\n",
       "      <td>KMT-2019-BLG-1953L b</td>\n",
       "      <td>17h56m27.90s</td>\n",
       "      <td>-28d12m04.00s</td>\n",
       "      <td>NaN</td>\n",
       "      <td>NaN</td>\n",
       "      <td>NaN</td>\n",
       "      <td>NaN</td>\n",
       "      <td>8000.0</td>\n",
       "      <td>16.02</td>\n",
       "      <td>18.200</td>\n",
       "      <td>20.680</td>\n",
       "      <td>0.250</td>\n",
       "    </tr>\n",
       "  </tbody>\n",
       "</table>\n",
       "</div>"
      ],
      "text/plain": [
       "                pl_name         rastr         decstr  pl_masse  pl_massj  \\\n",
       "0  KMT-2019-BLG-1953L b  17h56m27.90s  -28d12m04.00s       NaN       NaN   \n",
       "1   MOA-2013-BLG-605L b  17h58m42.85s  -29d23m53.66s     20.58   0.06475   \n",
       "2  KMT-2019-BLG-1953L b  17h56m27.90s  -28d12m04.00s       NaN       NaN   \n",
       "\n",
       "   pl_orbsmax  sy_dist  ml_dists  ml_xtimeein  ml_massratio  ml_magis  \\\n",
       "0         NaN      NaN    8000.0        16.18        19.100    20.680   \n",
       "1        4.18   3550.0       NaN        19.83         3.124    18.112   \n",
       "2         NaN      NaN    8000.0        16.02        18.200    20.680   \n",
       "\n",
       "   ml_radeinang  \n",
       "0         0.250  \n",
       "1         0.503  \n",
       "2         0.250  "
      ]
     },
     "execution_count": 15,
     "metadata": {},
     "output_type": "execute_result"
    }
   ],
   "source": [
    "mlen.head(3)"
   ]
  },
  {
   "cell_type": "markdown",
   "id": "6f9bb43e",
   "metadata": {},
   "source": [
    "**Cambiando los nombres a las columnas por nombres más intuitivos**"
   ]
  },
  {
   "cell_type": "code",
   "execution_count": 16,
   "id": "a2958a4b",
   "metadata": {},
   "outputs": [
    {
     "data": {
      "text/plain": [
       "Index(['pl_name', 'rastr', 'decstr', 'pl_masse', 'pl_massj', 'pl_orbsmax',\n",
       "       'sy_dist', 'ml_dists', 'ml_xtimeein', 'ml_massratio', 'ml_magis',\n",
       "       'ml_radeinang'],\n",
       "      dtype='object')"
      ]
     },
     "execution_count": 16,
     "metadata": {},
     "output_type": "execute_result"
    }
   ],
   "source": [
    "mlen.columns"
   ]
  },
  {
   "cell_type": "code",
   "execution_count": 17,
   "id": "f7fc4ea6",
   "metadata": {},
   "outputs": [
    {
     "data": {
      "text/plain": [
       "12"
      ]
     },
     "execution_count": 17,
     "metadata": {},
     "output_type": "execute_result"
    }
   ],
   "source": [
    "len(mlen.columns)"
   ]
  },
  {
   "cell_type": "code",
   "execution_count": 18,
   "id": "22479198",
   "metadata": {},
   "outputs": [
    {
     "data": {
      "text/plain": [
       "Index(['pl_name', 'rastr', 'decstr', 'pl_masse', 'pl_massj', 'pl_orbsmax',\n",
       "       'sy_dist', 'ml_dists', 'ml_xtimeein', 'ml_massratio', 'ml_magis',\n",
       "       'ml_radeinang'],\n",
       "      dtype='object')"
      ]
     },
     "execution_count": 18,
     "metadata": {},
     "output_type": "execute_result"
    }
   ],
   "source": [
    "mlen.columns"
   ]
  },
  {
   "cell_type": "code",
   "execution_count": 19,
   "id": "2060e958",
   "metadata": {},
   "outputs": [],
   "source": [
    "new_names = ['planet_name',  'ra_event', 'dec_event', 'earth_massses', 'jupiter_masses', \n",
    "              'planet_orbmax', 'lens_distance', 'source_distance', 'einstein_cross_time', 'source_mag',\n",
    "             'planet_star_mass_ratio', 'angular_einstein_radius']"
   ]
  },
  {
   "cell_type": "code",
   "execution_count": 20,
   "id": "1e05684d",
   "metadata": {},
   "outputs": [
    {
     "data": {
      "text/plain": [
       "12"
      ]
     },
     "execution_count": 20,
     "metadata": {},
     "output_type": "execute_result"
    }
   ],
   "source": [
    "old_names = [name for name in mlen.columns]\n",
    "len(old_names)"
   ]
  },
  {
   "cell_type": "code",
   "execution_count": 21,
   "id": "fa78a949",
   "metadata": {},
   "outputs": [
    {
     "data": {
      "text/plain": [
       "12"
      ]
     },
     "execution_count": 21,
     "metadata": {},
     "output_type": "execute_result"
    }
   ],
   "source": [
    "len(new_names)"
   ]
  },
  {
   "cell_type": "code",
   "execution_count": 22,
   "id": "8f7cef8f",
   "metadata": {},
   "outputs": [],
   "source": [
    "dict_names = (dict(zip(old_names, new_names)))"
   ]
  },
  {
   "cell_type": "code",
   "execution_count": 23,
   "id": "258ef2f6",
   "metadata": {},
   "outputs": [],
   "source": [
    "mlen.rename(columns=dict_names, inplace=True)"
   ]
  },
  {
   "cell_type": "code",
   "execution_count": 24,
   "id": "1331ce9a",
   "metadata": {},
   "outputs": [
    {
     "data": {
      "text/html": [
       "<div>\n",
       "<style scoped>\n",
       "    .dataframe tbody tr th:only-of-type {\n",
       "        vertical-align: middle;\n",
       "    }\n",
       "\n",
       "    .dataframe tbody tr th {\n",
       "        vertical-align: top;\n",
       "    }\n",
       "\n",
       "    .dataframe thead th {\n",
       "        text-align: right;\n",
       "    }\n",
       "</style>\n",
       "<table border=\"1\" class=\"dataframe\">\n",
       "  <thead>\n",
       "    <tr style=\"text-align: right;\">\n",
       "      <th></th>\n",
       "      <th>planet_name</th>\n",
       "      <th>ra_event</th>\n",
       "      <th>dec_event</th>\n",
       "      <th>earth_massses</th>\n",
       "      <th>jupiter_masses</th>\n",
       "      <th>planet_orbmax</th>\n",
       "      <th>lens_distance</th>\n",
       "      <th>source_distance</th>\n",
       "      <th>einstein_cross_time</th>\n",
       "      <th>source_mag</th>\n",
       "      <th>planet_star_mass_ratio</th>\n",
       "      <th>angular_einstein_radius</th>\n",
       "    </tr>\n",
       "  </thead>\n",
       "  <tbody>\n",
       "    <tr>\n",
       "      <th>0</th>\n",
       "      <td>KMT-2019-BLG-1953L b</td>\n",
       "      <td>17h56m27.90s</td>\n",
       "      <td>-28d12m04.00s</td>\n",
       "      <td>NaN</td>\n",
       "      <td>NaN</td>\n",
       "      <td>NaN</td>\n",
       "      <td>NaN</td>\n",
       "      <td>8000.0</td>\n",
       "      <td>16.18</td>\n",
       "      <td>19.100</td>\n",
       "      <td>20.680</td>\n",
       "      <td>0.250</td>\n",
       "    </tr>\n",
       "    <tr>\n",
       "      <th>1</th>\n",
       "      <td>MOA-2013-BLG-605L b</td>\n",
       "      <td>17h58m42.85s</td>\n",
       "      <td>-29d23m53.66s</td>\n",
       "      <td>20.58</td>\n",
       "      <td>0.06475</td>\n",
       "      <td>4.18</td>\n",
       "      <td>3550.0</td>\n",
       "      <td>NaN</td>\n",
       "      <td>19.83</td>\n",
       "      <td>3.124</td>\n",
       "      <td>18.112</td>\n",
       "      <td>0.503</td>\n",
       "    </tr>\n",
       "  </tbody>\n",
       "</table>\n",
       "</div>"
      ],
      "text/plain": [
       "            planet_name      ra_event      dec_event  earth_massses  \\\n",
       "0  KMT-2019-BLG-1953L b  17h56m27.90s  -28d12m04.00s            NaN   \n",
       "1   MOA-2013-BLG-605L b  17h58m42.85s  -29d23m53.66s          20.58   \n",
       "\n",
       "   jupiter_masses  planet_orbmax  lens_distance  source_distance  \\\n",
       "0             NaN            NaN            NaN           8000.0   \n",
       "1         0.06475           4.18         3550.0              NaN   \n",
       "\n",
       "   einstein_cross_time  source_mag  planet_star_mass_ratio  \\\n",
       "0                16.18      19.100                  20.680   \n",
       "1                19.83       3.124                  18.112   \n",
       "\n",
       "   angular_einstein_radius  \n",
       "0                    0.250  \n",
       "1                    0.503  "
      ]
     },
     "execution_count": 24,
     "metadata": {},
     "output_type": "execute_result"
    }
   ],
   "source": [
    "mlen.head(2)"
   ]
  },
  {
   "cell_type": "markdown",
   "id": "73842e5c",
   "metadata": {},
   "source": [
    "#### Transformando lens_distance and source_distance de parsecs a años luz y agregandolos como nuevas columnas"
   ]
  },
  {
   "cell_type": "code",
   "execution_count": 25,
   "id": "5a74ad09",
   "metadata": {},
   "outputs": [],
   "source": [
    "mlen['lens_distance_ly'] = mlen['lens_distance'] * 3.262"
   ]
  },
  {
   "cell_type": "code",
   "execution_count": 26,
   "id": "0bd4aa7b",
   "metadata": {},
   "outputs": [],
   "source": [
    "mlen['source_distance_ly'] = mlen['source_distance'] * 3.262"
   ]
  },
  {
   "cell_type": "code",
   "execution_count": 27,
   "id": "7ff3846d",
   "metadata": {
    "scrolled": true
   },
   "outputs": [
    {
     "data": {
      "text/html": [
       "<div>\n",
       "<style scoped>\n",
       "    .dataframe tbody tr th:only-of-type {\n",
       "        vertical-align: middle;\n",
       "    }\n",
       "\n",
       "    .dataframe tbody tr th {\n",
       "        vertical-align: top;\n",
       "    }\n",
       "\n",
       "    .dataframe thead th {\n",
       "        text-align: right;\n",
       "    }\n",
       "</style>\n",
       "<table border=\"1\" class=\"dataframe\">\n",
       "  <thead>\n",
       "    <tr style=\"text-align: right;\">\n",
       "      <th></th>\n",
       "      <th>planet_name</th>\n",
       "      <th>ra_event</th>\n",
       "      <th>dec_event</th>\n",
       "      <th>earth_massses</th>\n",
       "      <th>jupiter_masses</th>\n",
       "      <th>planet_orbmax</th>\n",
       "      <th>lens_distance</th>\n",
       "      <th>source_distance</th>\n",
       "      <th>einstein_cross_time</th>\n",
       "      <th>source_mag</th>\n",
       "      <th>planet_star_mass_ratio</th>\n",
       "      <th>angular_einstein_radius</th>\n",
       "      <th>lens_distance_ly</th>\n",
       "      <th>source_distance_ly</th>\n",
       "    </tr>\n",
       "  </thead>\n",
       "  <tbody>\n",
       "    <tr>\n",
       "      <th>0</th>\n",
       "      <td>KMT-2019-BLG-1953L b</td>\n",
       "      <td>17h56m27.90s</td>\n",
       "      <td>-28d12m04.00s</td>\n",
       "      <td>NaN</td>\n",
       "      <td>NaN</td>\n",
       "      <td>NaN</td>\n",
       "      <td>NaN</td>\n",
       "      <td>8000.0</td>\n",
       "      <td>16.18</td>\n",
       "      <td>19.100</td>\n",
       "      <td>20.680</td>\n",
       "      <td>0.250</td>\n",
       "      <td>NaN</td>\n",
       "      <td>26096.0</td>\n",
       "    </tr>\n",
       "    <tr>\n",
       "      <th>1</th>\n",
       "      <td>MOA-2013-BLG-605L b</td>\n",
       "      <td>17h58m42.85s</td>\n",
       "      <td>-29d23m53.66s</td>\n",
       "      <td>20.58</td>\n",
       "      <td>0.06475</td>\n",
       "      <td>4.18</td>\n",
       "      <td>3550.0</td>\n",
       "      <td>NaN</td>\n",
       "      <td>19.83</td>\n",
       "      <td>3.124</td>\n",
       "      <td>18.112</td>\n",
       "      <td>0.503</td>\n",
       "      <td>11580.1</td>\n",
       "      <td>NaN</td>\n",
       "    </tr>\n",
       "  </tbody>\n",
       "</table>\n",
       "</div>"
      ],
      "text/plain": [
       "            planet_name      ra_event      dec_event  earth_massses  \\\n",
       "0  KMT-2019-BLG-1953L b  17h56m27.90s  -28d12m04.00s            NaN   \n",
       "1   MOA-2013-BLG-605L b  17h58m42.85s  -29d23m53.66s          20.58   \n",
       "\n",
       "   jupiter_masses  planet_orbmax  lens_distance  source_distance  \\\n",
       "0             NaN            NaN            NaN           8000.0   \n",
       "1         0.06475           4.18         3550.0              NaN   \n",
       "\n",
       "   einstein_cross_time  source_mag  planet_star_mass_ratio  \\\n",
       "0                16.18      19.100                  20.680   \n",
       "1                19.83       3.124                  18.112   \n",
       "\n",
       "   angular_einstein_radius  lens_distance_ly  source_distance_ly  \n",
       "0                    0.250               NaN             26096.0  \n",
       "1                    0.503           11580.1                 NaN  "
      ]
     },
     "execution_count": 27,
     "metadata": {},
     "output_type": "execute_result"
    }
   ],
   "source": [
    "mlen.head(2)"
   ]
  },
  {
   "cell_type": "markdown",
   "id": "293588a7",
   "metadata": {},
   "source": [
    "### Revisando valores duplicados"
   ]
  },
  {
   "cell_type": "code",
   "execution_count": 28,
   "id": "2210563d",
   "metadata": {
    "scrolled": true
   },
   "outputs": [
    {
     "data": {
      "text/plain": [
       "OGLE-2015-BLG-0966L b    16\n",
       "OGLE-2012-BLG-0950L b    12\n",
       "KMT-2018-BLG-1990L b     11\n",
       "OGLE-2016-BLG-1195L b    10\n",
       "KMT-2016-BLG-1836L b      7\n",
       "                         ..\n",
       "OGLE-2014-BLG-1760L b     1\n",
       "OGLE-2017-BLG-0604L b     1\n",
       "OGLE-2007-BLG-368L b      1\n",
       "OGLE-2008-BLG-355L b      1\n",
       "KMT-2016-BLG-1820L b      1\n",
       "Name: planet_name, Length: 114, dtype: int64"
      ]
     },
     "execution_count": 28,
     "metadata": {},
     "output_type": "execute_result"
    }
   ],
   "source": [
    "mlen['planet_name'].value_counts()"
   ]
  },
  {
   "cell_type": "code",
   "execution_count": 29,
   "id": "f66083f8",
   "metadata": {
    "scrolled": true
   },
   "outputs": [
    {
     "data": {
      "text/html": [
       "<div>\n",
       "<style scoped>\n",
       "    .dataframe tbody tr th:only-of-type {\n",
       "        vertical-align: middle;\n",
       "    }\n",
       "\n",
       "    .dataframe tbody tr th {\n",
       "        vertical-align: top;\n",
       "    }\n",
       "\n",
       "    .dataframe thead th {\n",
       "        text-align: right;\n",
       "    }\n",
       "</style>\n",
       "<table border=\"1\" class=\"dataframe\">\n",
       "  <thead>\n",
       "    <tr style=\"text-align: right;\">\n",
       "      <th></th>\n",
       "      <th>planet_name</th>\n",
       "      <th>ra_event</th>\n",
       "      <th>dec_event</th>\n",
       "      <th>earth_massses</th>\n",
       "      <th>jupiter_masses</th>\n",
       "      <th>planet_orbmax</th>\n",
       "      <th>lens_distance</th>\n",
       "      <th>source_distance</th>\n",
       "      <th>einstein_cross_time</th>\n",
       "      <th>source_mag</th>\n",
       "      <th>planet_star_mass_ratio</th>\n",
       "      <th>angular_einstein_radius</th>\n",
       "      <th>lens_distance_ly</th>\n",
       "      <th>source_distance_ly</th>\n",
       "    </tr>\n",
       "  </thead>\n",
       "  <tbody>\n",
       "    <tr>\n",
       "      <th>39</th>\n",
       "      <td>OGLE-2015-BLG-0966L b</td>\n",
       "      <td>17h55m01.02s</td>\n",
       "      <td>-29d02m49.6s</td>\n",
       "      <td>21.0</td>\n",
       "      <td>0.066</td>\n",
       "      <td>2.7</td>\n",
       "      <td>3300.0</td>\n",
       "      <td>8000.0</td>\n",
       "      <td>57.7</td>\n",
       "      <td>1.67</td>\n",
       "      <td>NaN</td>\n",
       "      <td>0.76</td>\n",
       "      <td>10764.6</td>\n",
       "      <td>26096.0</td>\n",
       "    </tr>\n",
       "    <tr>\n",
       "      <th>41</th>\n",
       "      <td>OGLE-2015-BLG-0966L b</td>\n",
       "      <td>17h55m01.02s</td>\n",
       "      <td>-29d02m49.6s</td>\n",
       "      <td>21.0</td>\n",
       "      <td>0.066</td>\n",
       "      <td>2.1</td>\n",
       "      <td>2500.0</td>\n",
       "      <td>4500.0</td>\n",
       "      <td>57.7</td>\n",
       "      <td>1.67</td>\n",
       "      <td>NaN</td>\n",
       "      <td>0.76</td>\n",
       "      <td>8155.0</td>\n",
       "      <td>14679.0</td>\n",
       "    </tr>\n",
       "    <tr>\n",
       "      <th>48</th>\n",
       "      <td>OGLE-2015-BLG-0966L b</td>\n",
       "      <td>17h55m01.02s</td>\n",
       "      <td>-29d02m49.6s</td>\n",
       "      <td>21.0</td>\n",
       "      <td>0.066</td>\n",
       "      <td>2.1</td>\n",
       "      <td>2500.0</td>\n",
       "      <td>4500.0</td>\n",
       "      <td>57.7</td>\n",
       "      <td>1.68</td>\n",
       "      <td>NaN</td>\n",
       "      <td>0.76</td>\n",
       "      <td>8155.0</td>\n",
       "      <td>14679.0</td>\n",
       "    </tr>\n",
       "    <tr>\n",
       "      <th>78</th>\n",
       "      <td>OGLE-2015-BLG-0966L b</td>\n",
       "      <td>17h55m01.02s</td>\n",
       "      <td>-29d02m49.6s</td>\n",
       "      <td>21.0</td>\n",
       "      <td>0.066</td>\n",
       "      <td>2.1</td>\n",
       "      <td>2500.0</td>\n",
       "      <td>4500.0</td>\n",
       "      <td>57.7</td>\n",
       "      <td>1.70</td>\n",
       "      <td>NaN</td>\n",
       "      <td>0.76</td>\n",
       "      <td>8155.0</td>\n",
       "      <td>14679.0</td>\n",
       "    </tr>\n",
       "    <tr>\n",
       "      <th>102</th>\n",
       "      <td>OGLE-2015-BLG-0966L b</td>\n",
       "      <td>17h55m01.02s</td>\n",
       "      <td>-29d02m49.6s</td>\n",
       "      <td>21.0</td>\n",
       "      <td>0.066</td>\n",
       "      <td>2.1</td>\n",
       "      <td>2500.0</td>\n",
       "      <td>4500.0</td>\n",
       "      <td>57.8</td>\n",
       "      <td>1.70</td>\n",
       "      <td>NaN</td>\n",
       "      <td>0.76</td>\n",
       "      <td>8155.0</td>\n",
       "      <td>14679.0</td>\n",
       "    </tr>\n",
       "    <tr>\n",
       "      <th>110</th>\n",
       "      <td>OGLE-2015-BLG-0966L b</td>\n",
       "      <td>17h55m01.02s</td>\n",
       "      <td>-29d02m49.6s</td>\n",
       "      <td>21.0</td>\n",
       "      <td>0.066</td>\n",
       "      <td>2.7</td>\n",
       "      <td>3300.0</td>\n",
       "      <td>8000.0</td>\n",
       "      <td>57.7</td>\n",
       "      <td>1.70</td>\n",
       "      <td>NaN</td>\n",
       "      <td>0.76</td>\n",
       "      <td>10764.6</td>\n",
       "      <td>26096.0</td>\n",
       "    </tr>\n",
       "    <tr>\n",
       "      <th>140</th>\n",
       "      <td>OGLE-2015-BLG-0966L b</td>\n",
       "      <td>17h55m01.02s</td>\n",
       "      <td>-29d02m49.6s</td>\n",
       "      <td>21.0</td>\n",
       "      <td>0.066</td>\n",
       "      <td>2.7</td>\n",
       "      <td>3300.0</td>\n",
       "      <td>8000.0</td>\n",
       "      <td>57.7</td>\n",
       "      <td>1.68</td>\n",
       "      <td>NaN</td>\n",
       "      <td>0.76</td>\n",
       "      <td>10764.6</td>\n",
       "      <td>26096.0</td>\n",
       "    </tr>\n",
       "    <tr>\n",
       "      <th>145</th>\n",
       "      <td>OGLE-2015-BLG-0966L b</td>\n",
       "      <td>17h55m01.02s</td>\n",
       "      <td>-29d02m49.6s</td>\n",
       "      <td>21.0</td>\n",
       "      <td>0.066</td>\n",
       "      <td>2.7</td>\n",
       "      <td>3300.0</td>\n",
       "      <td>8000.0</td>\n",
       "      <td>57.7</td>\n",
       "      <td>1.70</td>\n",
       "      <td>NaN</td>\n",
       "      <td>0.76</td>\n",
       "      <td>10764.6</td>\n",
       "      <td>26096.0</td>\n",
       "    </tr>\n",
       "    <tr>\n",
       "      <th>146</th>\n",
       "      <td>OGLE-2015-BLG-0966L b</td>\n",
       "      <td>17h55m01.02s</td>\n",
       "      <td>-29d02m49.6s</td>\n",
       "      <td>21.0</td>\n",
       "      <td>0.066</td>\n",
       "      <td>2.1</td>\n",
       "      <td>2500.0</td>\n",
       "      <td>4500.0</td>\n",
       "      <td>57.7</td>\n",
       "      <td>1.70</td>\n",
       "      <td>NaN</td>\n",
       "      <td>0.76</td>\n",
       "      <td>8155.0</td>\n",
       "      <td>14679.0</td>\n",
       "    </tr>\n",
       "    <tr>\n",
       "      <th>184</th>\n",
       "      <td>OGLE-2015-BLG-0966L b</td>\n",
       "      <td>17h55m01.02s</td>\n",
       "      <td>-29d02m49.6s</td>\n",
       "      <td>21.0</td>\n",
       "      <td>0.066</td>\n",
       "      <td>2.7</td>\n",
       "      <td>3300.0</td>\n",
       "      <td>8000.0</td>\n",
       "      <td>57.8</td>\n",
       "      <td>1.67</td>\n",
       "      <td>NaN</td>\n",
       "      <td>0.76</td>\n",
       "      <td>10764.6</td>\n",
       "      <td>26096.0</td>\n",
       "    </tr>\n",
       "    <tr>\n",
       "      <th>190</th>\n",
       "      <td>OGLE-2015-BLG-0966L b</td>\n",
       "      <td>17h55m01.02s</td>\n",
       "      <td>-29d02m49.6s</td>\n",
       "      <td>21.0</td>\n",
       "      <td>0.066</td>\n",
       "      <td>2.7</td>\n",
       "      <td>3300.0</td>\n",
       "      <td>8000.0</td>\n",
       "      <td>57.7</td>\n",
       "      <td>1.68</td>\n",
       "      <td>NaN</td>\n",
       "      <td>0.76</td>\n",
       "      <td>10764.6</td>\n",
       "      <td>26096.0</td>\n",
       "    </tr>\n",
       "    <tr>\n",
       "      <th>228</th>\n",
       "      <td>OGLE-2015-BLG-0966L b</td>\n",
       "      <td>17h55m01.02s</td>\n",
       "      <td>-29d02m49.6s</td>\n",
       "      <td>21.0</td>\n",
       "      <td>0.066</td>\n",
       "      <td>2.7</td>\n",
       "      <td>3300.0</td>\n",
       "      <td>8000.0</td>\n",
       "      <td>57.8</td>\n",
       "      <td>1.70</td>\n",
       "      <td>NaN</td>\n",
       "      <td>0.76</td>\n",
       "      <td>10764.6</td>\n",
       "      <td>26096.0</td>\n",
       "    </tr>\n",
       "    <tr>\n",
       "      <th>231</th>\n",
       "      <td>OGLE-2015-BLG-0966L b</td>\n",
       "      <td>17h55m01.02s</td>\n",
       "      <td>-29d02m49.6s</td>\n",
       "      <td>21.0</td>\n",
       "      <td>0.066</td>\n",
       "      <td>2.7</td>\n",
       "      <td>3300.0</td>\n",
       "      <td>8000.0</td>\n",
       "      <td>57.5</td>\n",
       "      <td>1.71</td>\n",
       "      <td>NaN</td>\n",
       "      <td>0.76</td>\n",
       "      <td>10764.6</td>\n",
       "      <td>26096.0</td>\n",
       "    </tr>\n",
       "    <tr>\n",
       "      <th>245</th>\n",
       "      <td>OGLE-2015-BLG-0966L b</td>\n",
       "      <td>17h55m01.02s</td>\n",
       "      <td>-29d02m49.6s</td>\n",
       "      <td>21.0</td>\n",
       "      <td>0.066</td>\n",
       "      <td>2.1</td>\n",
       "      <td>2500.0</td>\n",
       "      <td>4500.0</td>\n",
       "      <td>57.8</td>\n",
       "      <td>1.67</td>\n",
       "      <td>NaN</td>\n",
       "      <td>0.76</td>\n",
       "      <td>8155.0</td>\n",
       "      <td>14679.0</td>\n",
       "    </tr>\n",
       "    <tr>\n",
       "      <th>262</th>\n",
       "      <td>OGLE-2015-BLG-0966L b</td>\n",
       "      <td>17h55m01.02s</td>\n",
       "      <td>-29d02m49.6s</td>\n",
       "      <td>21.0</td>\n",
       "      <td>0.066</td>\n",
       "      <td>2.1</td>\n",
       "      <td>2500.0</td>\n",
       "      <td>4500.0</td>\n",
       "      <td>57.7</td>\n",
       "      <td>1.68</td>\n",
       "      <td>NaN</td>\n",
       "      <td>0.76</td>\n",
       "      <td>8155.0</td>\n",
       "      <td>14679.0</td>\n",
       "    </tr>\n",
       "    <tr>\n",
       "      <th>299</th>\n",
       "      <td>OGLE-2015-BLG-0966L b</td>\n",
       "      <td>17h55m01.02s</td>\n",
       "      <td>-29d02m49.6s</td>\n",
       "      <td>21.0</td>\n",
       "      <td>0.066</td>\n",
       "      <td>2.1</td>\n",
       "      <td>2500.0</td>\n",
       "      <td>4500.0</td>\n",
       "      <td>57.5</td>\n",
       "      <td>1.71</td>\n",
       "      <td>NaN</td>\n",
       "      <td>0.76</td>\n",
       "      <td>8155.0</td>\n",
       "      <td>14679.0</td>\n",
       "    </tr>\n",
       "  </tbody>\n",
       "</table>\n",
       "</div>"
      ],
      "text/plain": [
       "               planet_name      ra_event     dec_event  earth_massses  \\\n",
       "39   OGLE-2015-BLG-0966L b  17h55m01.02s  -29d02m49.6s           21.0   \n",
       "41   OGLE-2015-BLG-0966L b  17h55m01.02s  -29d02m49.6s           21.0   \n",
       "48   OGLE-2015-BLG-0966L b  17h55m01.02s  -29d02m49.6s           21.0   \n",
       "78   OGLE-2015-BLG-0966L b  17h55m01.02s  -29d02m49.6s           21.0   \n",
       "102  OGLE-2015-BLG-0966L b  17h55m01.02s  -29d02m49.6s           21.0   \n",
       "110  OGLE-2015-BLG-0966L b  17h55m01.02s  -29d02m49.6s           21.0   \n",
       "140  OGLE-2015-BLG-0966L b  17h55m01.02s  -29d02m49.6s           21.0   \n",
       "145  OGLE-2015-BLG-0966L b  17h55m01.02s  -29d02m49.6s           21.0   \n",
       "146  OGLE-2015-BLG-0966L b  17h55m01.02s  -29d02m49.6s           21.0   \n",
       "184  OGLE-2015-BLG-0966L b  17h55m01.02s  -29d02m49.6s           21.0   \n",
       "190  OGLE-2015-BLG-0966L b  17h55m01.02s  -29d02m49.6s           21.0   \n",
       "228  OGLE-2015-BLG-0966L b  17h55m01.02s  -29d02m49.6s           21.0   \n",
       "231  OGLE-2015-BLG-0966L b  17h55m01.02s  -29d02m49.6s           21.0   \n",
       "245  OGLE-2015-BLG-0966L b  17h55m01.02s  -29d02m49.6s           21.0   \n",
       "262  OGLE-2015-BLG-0966L b  17h55m01.02s  -29d02m49.6s           21.0   \n",
       "299  OGLE-2015-BLG-0966L b  17h55m01.02s  -29d02m49.6s           21.0   \n",
       "\n",
       "     jupiter_masses  planet_orbmax  lens_distance  source_distance  \\\n",
       "39            0.066            2.7         3300.0           8000.0   \n",
       "41            0.066            2.1         2500.0           4500.0   \n",
       "48            0.066            2.1         2500.0           4500.0   \n",
       "78            0.066            2.1         2500.0           4500.0   \n",
       "102           0.066            2.1         2500.0           4500.0   \n",
       "110           0.066            2.7         3300.0           8000.0   \n",
       "140           0.066            2.7         3300.0           8000.0   \n",
       "145           0.066            2.7         3300.0           8000.0   \n",
       "146           0.066            2.1         2500.0           4500.0   \n",
       "184           0.066            2.7         3300.0           8000.0   \n",
       "190           0.066            2.7         3300.0           8000.0   \n",
       "228           0.066            2.7         3300.0           8000.0   \n",
       "231           0.066            2.7         3300.0           8000.0   \n",
       "245           0.066            2.1         2500.0           4500.0   \n",
       "262           0.066            2.1         2500.0           4500.0   \n",
       "299           0.066            2.1         2500.0           4500.0   \n",
       "\n",
       "     einstein_cross_time  source_mag  planet_star_mass_ratio  \\\n",
       "39                  57.7        1.67                     NaN   \n",
       "41                  57.7        1.67                     NaN   \n",
       "48                  57.7        1.68                     NaN   \n",
       "78                  57.7        1.70                     NaN   \n",
       "102                 57.8        1.70                     NaN   \n",
       "110                 57.7        1.70                     NaN   \n",
       "140                 57.7        1.68                     NaN   \n",
       "145                 57.7        1.70                     NaN   \n",
       "146                 57.7        1.70                     NaN   \n",
       "184                 57.8        1.67                     NaN   \n",
       "190                 57.7        1.68                     NaN   \n",
       "228                 57.8        1.70                     NaN   \n",
       "231                 57.5        1.71                     NaN   \n",
       "245                 57.8        1.67                     NaN   \n",
       "262                 57.7        1.68                     NaN   \n",
       "299                 57.5        1.71                     NaN   \n",
       "\n",
       "     angular_einstein_radius  lens_distance_ly  source_distance_ly  \n",
       "39                      0.76           10764.6             26096.0  \n",
       "41                      0.76            8155.0             14679.0  \n",
       "48                      0.76            8155.0             14679.0  \n",
       "78                      0.76            8155.0             14679.0  \n",
       "102                     0.76            8155.0             14679.0  \n",
       "110                     0.76           10764.6             26096.0  \n",
       "140                     0.76           10764.6             26096.0  \n",
       "145                     0.76           10764.6             26096.0  \n",
       "146                     0.76            8155.0             14679.0  \n",
       "184                     0.76           10764.6             26096.0  \n",
       "190                     0.76           10764.6             26096.0  \n",
       "228                     0.76           10764.6             26096.0  \n",
       "231                     0.76           10764.6             26096.0  \n",
       "245                     0.76            8155.0             14679.0  \n",
       "262                     0.76            8155.0             14679.0  \n",
       "299                     0.76            8155.0             14679.0  "
      ]
     },
     "execution_count": 29,
     "metadata": {},
     "output_type": "execute_result"
    }
   ],
   "source": [
    "mlen.loc[mlen['planet_name'] == 'OGLE-2015-BLG-0966L b']"
   ]
  },
  {
   "cell_type": "code",
   "execution_count": 30,
   "id": "82a0bc4a",
   "metadata": {},
   "outputs": [],
   "source": [
    "mlen.drop_duplicates('planet_name', inplace=True)"
   ]
  },
  {
   "cell_type": "code",
   "execution_count": 31,
   "id": "86548a48",
   "metadata": {
    "scrolled": true
   },
   "outputs": [
    {
     "data": {
      "text/html": [
       "<div>\n",
       "<style scoped>\n",
       "    .dataframe tbody tr th:only-of-type {\n",
       "        vertical-align: middle;\n",
       "    }\n",
       "\n",
       "    .dataframe tbody tr th {\n",
       "        vertical-align: top;\n",
       "    }\n",
       "\n",
       "    .dataframe thead th {\n",
       "        text-align: right;\n",
       "    }\n",
       "</style>\n",
       "<table border=\"1\" class=\"dataframe\">\n",
       "  <thead>\n",
       "    <tr style=\"text-align: right;\">\n",
       "      <th></th>\n",
       "      <th>planet_name</th>\n",
       "      <th>ra_event</th>\n",
       "      <th>dec_event</th>\n",
       "      <th>earth_massses</th>\n",
       "      <th>jupiter_masses</th>\n",
       "      <th>planet_orbmax</th>\n",
       "      <th>lens_distance</th>\n",
       "      <th>source_distance</th>\n",
       "      <th>einstein_cross_time</th>\n",
       "      <th>source_mag</th>\n",
       "      <th>planet_star_mass_ratio</th>\n",
       "      <th>angular_einstein_radius</th>\n",
       "      <th>lens_distance_ly</th>\n",
       "      <th>source_distance_ly</th>\n",
       "    </tr>\n",
       "  </thead>\n",
       "  <tbody>\n",
       "    <tr>\n",
       "      <th>39</th>\n",
       "      <td>OGLE-2015-BLG-0966L b</td>\n",
       "      <td>17h55m01.02s</td>\n",
       "      <td>-29d02m49.6s</td>\n",
       "      <td>21.0</td>\n",
       "      <td>0.066</td>\n",
       "      <td>2.7</td>\n",
       "      <td>3300.0</td>\n",
       "      <td>8000.0</td>\n",
       "      <td>57.7</td>\n",
       "      <td>1.67</td>\n",
       "      <td>NaN</td>\n",
       "      <td>0.76</td>\n",
       "      <td>10764.6</td>\n",
       "      <td>26096.0</td>\n",
       "    </tr>\n",
       "  </tbody>\n",
       "</table>\n",
       "</div>"
      ],
      "text/plain": [
       "              planet_name      ra_event     dec_event  earth_massses  \\\n",
       "39  OGLE-2015-BLG-0966L b  17h55m01.02s  -29d02m49.6s           21.0   \n",
       "\n",
       "    jupiter_masses  planet_orbmax  lens_distance  source_distance  \\\n",
       "39           0.066            2.7         3300.0           8000.0   \n",
       "\n",
       "    einstein_cross_time  source_mag  planet_star_mass_ratio  \\\n",
       "39                 57.7        1.67                     NaN   \n",
       "\n",
       "    angular_einstein_radius  lens_distance_ly  source_distance_ly  \n",
       "39                     0.76           10764.6             26096.0  "
      ]
     },
     "execution_count": 31,
     "metadata": {},
     "output_type": "execute_result"
    }
   ],
   "source": [
    "mlen.loc[mlen['planet_name'] == 'OGLE-2015-BLG-0966L b']"
   ]
  },
  {
   "cell_type": "code",
   "execution_count": 32,
   "id": "75ea044b",
   "metadata": {},
   "outputs": [
    {
     "data": {
      "text/plain": [
       "MOA-2010-BLG-328L b        1\n",
       "OGLE-2007-BLG-349L AB c    1\n",
       "OGLE-2013-BLG-0102L b      1\n",
       "OGLE-2006-BLG-109L c       1\n",
       "OGLE-2015-BLG-1670L b      1\n",
       "                          ..\n",
       "UKIRT-2017-BLG-001L b      1\n",
       "OGLE-2012-BLG-0724L b      1\n",
       "OGLE-2017-BLG-1140L b      1\n",
       "OGLE-2013-BLG-0341L B b    1\n",
       "KMT-2018-BLG-1990L b       1\n",
       "Name: planet_name, Length: 114, dtype: int64"
      ]
     },
     "execution_count": 32,
     "metadata": {},
     "output_type": "execute_result"
    }
   ],
   "source": [
    "mlen['planet_name'].value_counts()"
   ]
  },
  {
   "cell_type": "markdown",
   "id": "b02f1836",
   "metadata": {},
   "source": [
    "Puede leer la siguiente documentación para entender porque se le da el siguiente formato a ra_event y dec_event\n",
    "\n",
    "https://www.ing.iac.es//Astronomy/telescopes/wht/catformat.html"
   ]
  },
  {
   "cell_type": "code",
   "execution_count": 33,
   "id": "73ad2632",
   "metadata": {},
   "outputs": [],
   "source": [
    "mlen['ra_event'] = mlen['ra_event'].str.replace(r'[hm]', ' ', regex=True).str.replace(r's', '', regex=True)"
   ]
  },
  {
   "cell_type": "code",
   "execution_count": 34,
   "id": "c1e96f32",
   "metadata": {},
   "outputs": [],
   "source": [
    "mlen['ra_event'] = mlen['ra_event'].str.strip()"
   ]
  },
  {
   "cell_type": "code",
   "execution_count": 35,
   "id": "37e3f079",
   "metadata": {},
   "outputs": [],
   "source": [
    "mlen['dec_event'] = mlen['dec_event'].str.replace(r'[dm]', ' ', regex=True).str.replace(r's', '', regex=True)"
   ]
  },
  {
   "cell_type": "code",
   "execution_count": 36,
   "id": "2056ae3e",
   "metadata": {
    "scrolled": true
   },
   "outputs": [
    {
     "data": {
      "text/html": [
       "<div>\n",
       "<style scoped>\n",
       "    .dataframe tbody tr th:only-of-type {\n",
       "        vertical-align: middle;\n",
       "    }\n",
       "\n",
       "    .dataframe tbody tr th {\n",
       "        vertical-align: top;\n",
       "    }\n",
       "\n",
       "    .dataframe thead th {\n",
       "        text-align: right;\n",
       "    }\n",
       "</style>\n",
       "<table border=\"1\" class=\"dataframe\">\n",
       "  <thead>\n",
       "    <tr style=\"text-align: right;\">\n",
       "      <th></th>\n",
       "      <th>planet_name</th>\n",
       "      <th>ra_event</th>\n",
       "      <th>dec_event</th>\n",
       "      <th>earth_massses</th>\n",
       "      <th>jupiter_masses</th>\n",
       "      <th>planet_orbmax</th>\n",
       "      <th>lens_distance</th>\n",
       "      <th>source_distance</th>\n",
       "      <th>einstein_cross_time</th>\n",
       "      <th>source_mag</th>\n",
       "      <th>planet_star_mass_ratio</th>\n",
       "      <th>angular_einstein_radius</th>\n",
       "      <th>lens_distance_ly</th>\n",
       "      <th>source_distance_ly</th>\n",
       "    </tr>\n",
       "  </thead>\n",
       "  <tbody>\n",
       "    <tr>\n",
       "      <th>0</th>\n",
       "      <td>KMT-2019-BLG-1953L b</td>\n",
       "      <td>17 56 27.90</td>\n",
       "      <td>-28 12 04.00</td>\n",
       "      <td>NaN</td>\n",
       "      <td>NaN</td>\n",
       "      <td>NaN</td>\n",
       "      <td>NaN</td>\n",
       "      <td>8000.0</td>\n",
       "      <td>16.18</td>\n",
       "      <td>19.100</td>\n",
       "      <td>20.680</td>\n",
       "      <td>0.250</td>\n",
       "      <td>NaN</td>\n",
       "      <td>26096.00</td>\n",
       "    </tr>\n",
       "    <tr>\n",
       "      <th>1</th>\n",
       "      <td>MOA-2013-BLG-605L b</td>\n",
       "      <td>17 58 42.85</td>\n",
       "      <td>-29 23 53.66</td>\n",
       "      <td>20.58</td>\n",
       "      <td>0.06475</td>\n",
       "      <td>4.18</td>\n",
       "      <td>3550.0</td>\n",
       "      <td>NaN</td>\n",
       "      <td>19.83</td>\n",
       "      <td>3.124</td>\n",
       "      <td>18.112</td>\n",
       "      <td>0.503</td>\n",
       "      <td>11580.10</td>\n",
       "      <td>NaN</td>\n",
       "    </tr>\n",
       "    <tr>\n",
       "      <th>3</th>\n",
       "      <td>OGLE-2005-BLG-390L b</td>\n",
       "      <td>17 54 19.2</td>\n",
       "      <td>-30 22 38</td>\n",
       "      <td>5.50</td>\n",
       "      <td>0.01700</td>\n",
       "      <td>2.60</td>\n",
       "      <td>6600.0</td>\n",
       "      <td>8000.0</td>\n",
       "      <td>11.03</td>\n",
       "      <td>0.760</td>\n",
       "      <td>NaN</td>\n",
       "      <td>NaN</td>\n",
       "      <td>21529.20</td>\n",
       "      <td>26096.00</td>\n",
       "    </tr>\n",
       "    <tr>\n",
       "      <th>4</th>\n",
       "      <td>OGLE-2012-BLG-0950L b</td>\n",
       "      <td>18 08 04.62</td>\n",
       "      <td>-29 43 53.7</td>\n",
       "      <td>36.00</td>\n",
       "      <td>0.11000</td>\n",
       "      <td>2.70</td>\n",
       "      <td>3400.0</td>\n",
       "      <td>NaN</td>\n",
       "      <td>68.50</td>\n",
       "      <td>1.900</td>\n",
       "      <td>19.300</td>\n",
       "      <td>0.860</td>\n",
       "      <td>11090.80</td>\n",
       "      <td>NaN</td>\n",
       "    </tr>\n",
       "    <tr>\n",
       "      <th>5</th>\n",
       "      <td>OGLE-2016-BLG-1067L b</td>\n",
       "      <td>18 12 49.08</td>\n",
       "      <td>-27 00 45.5</td>\n",
       "      <td>140.00</td>\n",
       "      <td>0.43000</td>\n",
       "      <td>1.71</td>\n",
       "      <td>3780.0</td>\n",
       "      <td>7660.0</td>\n",
       "      <td>27.60</td>\n",
       "      <td>13.170</td>\n",
       "      <td>18.800</td>\n",
       "      <td>NaN</td>\n",
       "      <td>12330.36</td>\n",
       "      <td>24986.92</td>\n",
       "    </tr>\n",
       "  </tbody>\n",
       "</table>\n",
       "</div>"
      ],
      "text/plain": [
       "             planet_name     ra_event     dec_event  earth_massses  \\\n",
       "0   KMT-2019-BLG-1953L b  17 56 27.90  -28 12 04.00            NaN   \n",
       "1    MOA-2013-BLG-605L b  17 58 42.85  -29 23 53.66          20.58   \n",
       "3   OGLE-2005-BLG-390L b   17 54 19.2     -30 22 38           5.50   \n",
       "4  OGLE-2012-BLG-0950L b  18 08 04.62   -29 43 53.7          36.00   \n",
       "5  OGLE-2016-BLG-1067L b  18 12 49.08   -27 00 45.5         140.00   \n",
       "\n",
       "   jupiter_masses  planet_orbmax  lens_distance  source_distance  \\\n",
       "0             NaN            NaN            NaN           8000.0   \n",
       "1         0.06475           4.18         3550.0              NaN   \n",
       "3         0.01700           2.60         6600.0           8000.0   \n",
       "4         0.11000           2.70         3400.0              NaN   \n",
       "5         0.43000           1.71         3780.0           7660.0   \n",
       "\n",
       "   einstein_cross_time  source_mag  planet_star_mass_ratio  \\\n",
       "0                16.18      19.100                  20.680   \n",
       "1                19.83       3.124                  18.112   \n",
       "3                11.03       0.760                     NaN   \n",
       "4                68.50       1.900                  19.300   \n",
       "5                27.60      13.170                  18.800   \n",
       "\n",
       "   angular_einstein_radius  lens_distance_ly  source_distance_ly  \n",
       "0                    0.250               NaN            26096.00  \n",
       "1                    0.503          11580.10                 NaN  \n",
       "3                      NaN          21529.20            26096.00  \n",
       "4                    0.860          11090.80                 NaN  \n",
       "5                      NaN          12330.36            24986.92  "
      ]
     },
     "execution_count": 36,
     "metadata": {},
     "output_type": "execute_result"
    }
   ],
   "source": [
    "mlen.head()"
   ]
  },
  {
   "cell_type": "markdown",
   "id": "4fbd8952",
   "metadata": {},
   "source": [
    "#### Guardando la data de microlensing"
   ]
  },
  {
   "cell_type": "code",
   "execution_count": 37,
   "id": "1766359d",
   "metadata": {},
   "outputs": [],
   "source": [
    "mlen.to_csv('microlensing_data.csv', index=False)"
   ]
  },
  {
   "cell_type": "markdown",
   "id": "92b2bdd0",
   "metadata": {},
   "source": [
    "### Descripción"
   ]
  },
  {
   "cell_type": "code",
   "execution_count": 38,
   "id": "de715cf1",
   "metadata": {},
   "outputs": [
    {
     "data": {
      "text/plain": [
       "planet_name                0.000000\n",
       "ra_event                   0.000000\n",
       "dec_event                  0.000000\n",
       "earth_massses              0.087719\n",
       "jupiter_masses             0.087719\n",
       "planet_orbmax              0.087719\n",
       "lens_distance              0.096491\n",
       "source_distance            0.666667\n",
       "einstein_cross_time        0.026316\n",
       "source_mag                 0.035088\n",
       "planet_star_mass_ratio     0.271930\n",
       "angular_einstein_radius    0.175439\n",
       "lens_distance_ly           0.096491\n",
       "source_distance_ly         0.666667\n",
       "dtype: float64"
      ]
     },
     "execution_count": 38,
     "metadata": {},
     "output_type": "execute_result"
    }
   ],
   "source": [
    "mlen.isnull().mean()"
   ]
  },
  {
   "cell_type": "code",
   "execution_count": 39,
   "id": "15ecf9c0",
   "metadata": {},
   "outputs": [
    {
     "name": "stdout",
     "output_type": "stream",
     "text": [
      "<class 'pandas.core.frame.DataFrame'>\n",
      "Int64Index: 114 entries, 0 to 328\n",
      "Data columns (total 14 columns):\n",
      " #   Column                   Non-Null Count  Dtype  \n",
      "---  ------                   --------------  -----  \n",
      " 0   planet_name              114 non-null    object \n",
      " 1   ra_event                 114 non-null    object \n",
      " 2   dec_event                114 non-null    object \n",
      " 3   earth_massses            104 non-null    float64\n",
      " 4   jupiter_masses           104 non-null    float64\n",
      " 5   planet_orbmax            104 non-null    float64\n",
      " 6   lens_distance            103 non-null    float64\n",
      " 7   source_distance          38 non-null     float64\n",
      " 8   einstein_cross_time      111 non-null    float64\n",
      " 9   source_mag               110 non-null    float64\n",
      " 10  planet_star_mass_ratio   83 non-null     float64\n",
      " 11  angular_einstein_radius  94 non-null     float64\n",
      " 12  lens_distance_ly         103 non-null    float64\n",
      " 13  source_distance_ly       38 non-null     float64\n",
      "dtypes: float64(11), object(3)\n",
      "memory usage: 13.4+ KB\n"
     ]
    }
   ],
   "source": [
    "mlen.info()"
   ]
  },
  {
   "cell_type": "markdown",
   "id": "922eadca",
   "metadata": {},
   "source": [
    "#### Como hacer el query\n",
    "\n",
    "https://exoplanetarchive.ipac.caltech.edu/docs/TAP/usingTAP.html"
   ]
  },
  {
   "cell_type": "markdown",
   "id": "d6b3b469",
   "metadata": {},
   "source": [
    "#### Documentación de Planetary systems composite\n",
    "\n",
    "https://exoplanetarchive.ipac.caltech.edu/docs/API_PS_columns.html"
   ]
  },
  {
   "cell_type": "markdown",
   "id": "734693c1",
   "metadata": {},
   "source": [
    "## Segundo DataFrame"
   ]
  },
  {
   "cell_type": "markdown",
   "id": "f7eb60df",
   "metadata": {},
   "source": [
    "Descripción de cada una de las columnas:\n",
    "\n",
    "- **planet_name:** Planet Name\n",
    "- **hostname:** Stellar name \n",
    "- **sys_num_stars:** Number of Stars\n",
    "- **sys_num_planet:** Number of Planets \n",
    "- **discovery_method:** Discovery Method\n",
    "- **discovery_year:** Discovery Year\n",
    "- **discovery_telescope:** Discovery Telescope\n",
    "- **orbital_period:** Orbital Period, unit=days \n",
    "- **orbital_semi_major:** Orbit Semi-Major Axis, unit = au \n",
    "- **planet_radius_earth:** Planet Radius (Earth Radius)\n",
    "- **planet_radius_jupiter:** Planet Radius (Jupiter Radius) \n",
    "- **planet_mass_earth:** Planet Mass (Earth Mass)\n",
    "- **planet_mass_jupiter:** Planet Mass (Jupiter Mass) \n",
    "- **eccentricity:** Eccentricity\n",
    "- **stellar_eff_temp:** Stellar Effective Temperature unit=K \n",
    "- **stellar_radius:** Stellar Radius (Solar Radius) \n",
    "- **stellar_mass:** Stellar Mass\n",
    "- **dist_system:** Distance, unit = pc"
   ]
  },
  {
   "cell_type": "markdown",
   "id": "985732e8",
   "metadata": {},
   "source": [
    "### Adquisición de Datos "
   ]
  },
  {
   "cell_type": "code",
   "execution_count": 40,
   "id": "b3cc4697",
   "metadata": {},
   "outputs": [],
   "source": [
    "response = requests.get('https://exoplanetarchive.ipac.caltech.edu/TAP/sync?query=select+pl_name,hostname,sy_snum,sy_pnum,discoverymethod,disc_year,disc_telescope,pl_orbper,pl_orbsmax,pl_rade,pl_radj,pl_bmasse,pl_bmassj,pl_orbeccen,st_spectype,st_teff,st_rad,st_mass,sy_dist+from+pscomppars&format=json')"
   ]
  },
  {
   "cell_type": "code",
   "execution_count": 41,
   "id": "76ff7432",
   "metadata": {},
   "outputs": [
    {
     "data": {
      "text/plain": [
       "<Response [200]>"
      ]
     },
     "execution_count": 41,
     "metadata": {},
     "output_type": "execute_result"
    }
   ],
   "source": [
    "response"
   ]
  },
  {
   "cell_type": "code",
   "execution_count": 42,
   "id": "e62f8f9a",
   "metadata": {},
   "outputs": [],
   "source": [
    "ps_comp = pd.DataFrame(response.json())"
   ]
  },
  {
   "cell_type": "code",
   "execution_count": 43,
   "id": "918ccbfc",
   "metadata": {},
   "outputs": [
    {
     "data": {
      "text/html": [
       "<div>\n",
       "<style scoped>\n",
       "    .dataframe tbody tr th:only-of-type {\n",
       "        vertical-align: middle;\n",
       "    }\n",
       "\n",
       "    .dataframe tbody tr th {\n",
       "        vertical-align: top;\n",
       "    }\n",
       "\n",
       "    .dataframe thead th {\n",
       "        text-align: right;\n",
       "    }\n",
       "</style>\n",
       "<table border=\"1\" class=\"dataframe\">\n",
       "  <thead>\n",
       "    <tr style=\"text-align: right;\">\n",
       "      <th></th>\n",
       "      <th>pl_name</th>\n",
       "      <th>hostname</th>\n",
       "      <th>sy_snum</th>\n",
       "      <th>sy_pnum</th>\n",
       "      <th>discoverymethod</th>\n",
       "      <th>disc_year</th>\n",
       "      <th>disc_telescope</th>\n",
       "      <th>pl_orbper</th>\n",
       "      <th>pl_orbsmax</th>\n",
       "      <th>pl_rade</th>\n",
       "      <th>pl_radj</th>\n",
       "      <th>pl_bmasse</th>\n",
       "      <th>pl_bmassj</th>\n",
       "      <th>pl_orbeccen</th>\n",
       "      <th>st_spectype</th>\n",
       "      <th>st_teff</th>\n",
       "      <th>st_rad</th>\n",
       "      <th>st_mass</th>\n",
       "      <th>sy_dist</th>\n",
       "    </tr>\n",
       "  </thead>\n",
       "  <tbody>\n",
       "    <tr>\n",
       "      <th>0</th>\n",
       "      <td>OGLE-2016-BLG-1227L b</td>\n",
       "      <td>OGLE-2016-BLG-1227L</td>\n",
       "      <td>1</td>\n",
       "      <td>1</td>\n",
       "      <td>Microlensing</td>\n",
       "      <td>2020</td>\n",
       "      <td>1.3 m Warsaw University Telescope</td>\n",
       "      <td>NaN</td>\n",
       "      <td>3.4000</td>\n",
       "      <td>13.90</td>\n",
       "      <td>1.240</td>\n",
       "      <td>250.0</td>\n",
       "      <td>0.79000</td>\n",
       "      <td>NaN</td>\n",
       "      <td>None</td>\n",
       "      <td>NaN</td>\n",
       "      <td>NaN</td>\n",
       "      <td>0.10</td>\n",
       "      <td>NaN</td>\n",
       "    </tr>\n",
       "    <tr>\n",
       "      <th>1</th>\n",
       "      <td>GJ 480 b</td>\n",
       "      <td>GJ 480</td>\n",
       "      <td>1</td>\n",
       "      <td>1</td>\n",
       "      <td>Radial Velocity</td>\n",
       "      <td>2020</td>\n",
       "      <td>Multiple Telescopes</td>\n",
       "      <td>9.567000</td>\n",
       "      <td>0.0680</td>\n",
       "      <td>3.69</td>\n",
       "      <td>0.330</td>\n",
       "      <td>13.2</td>\n",
       "      <td>0.04153</td>\n",
       "      <td>0.1</td>\n",
       "      <td>M3.5 Ve</td>\n",
       "      <td>3381.0</td>\n",
       "      <td>0.46</td>\n",
       "      <td>0.45</td>\n",
       "      <td>14.2358</td>\n",
       "    </tr>\n",
       "    <tr>\n",
       "      <th>2</th>\n",
       "      <td>Kepler-276 c</td>\n",
       "      <td>Kepler-276</td>\n",
       "      <td>1</td>\n",
       "      <td>3</td>\n",
       "      <td>Transit</td>\n",
       "      <td>2013</td>\n",
       "      <td>0.95 m Kepler Telescope</td>\n",
       "      <td>31.884000</td>\n",
       "      <td>0.1994</td>\n",
       "      <td>2.90</td>\n",
       "      <td>0.259</td>\n",
       "      <td>16.6</td>\n",
       "      <td>0.05200</td>\n",
       "      <td>0.0</td>\n",
       "      <td>None</td>\n",
       "      <td>5779.0</td>\n",
       "      <td>1.03</td>\n",
       "      <td>1.10</td>\n",
       "      <td>1144.8600</td>\n",
       "    </tr>\n",
       "    <tr>\n",
       "      <th>3</th>\n",
       "      <td>Kepler-829 b</td>\n",
       "      <td>Kepler-829</td>\n",
       "      <td>1</td>\n",
       "      <td>1</td>\n",
       "      <td>Transit</td>\n",
       "      <td>2016</td>\n",
       "      <td>0.95 m Kepler Telescope</td>\n",
       "      <td>6.883376</td>\n",
       "      <td>0.0678</td>\n",
       "      <td>2.11</td>\n",
       "      <td>0.188</td>\n",
       "      <td>5.1</td>\n",
       "      <td>0.01600</td>\n",
       "      <td>0.0</td>\n",
       "      <td>None</td>\n",
       "      <td>5698.0</td>\n",
       "      <td>0.97</td>\n",
       "      <td>0.98</td>\n",
       "      <td>1073.7600</td>\n",
       "    </tr>\n",
       "    <tr>\n",
       "      <th>4</th>\n",
       "      <td>K2-283 b</td>\n",
       "      <td>K2-283</td>\n",
       "      <td>1</td>\n",
       "      <td>1</td>\n",
       "      <td>Transit</td>\n",
       "      <td>2018</td>\n",
       "      <td>0.95 m Kepler Telescope</td>\n",
       "      <td>1.921036</td>\n",
       "      <td>0.0291</td>\n",
       "      <td>3.52</td>\n",
       "      <td>0.314</td>\n",
       "      <td>12.2</td>\n",
       "      <td>0.03830</td>\n",
       "      <td>NaN</td>\n",
       "      <td>None</td>\n",
       "      <td>5060.0</td>\n",
       "      <td>0.82</td>\n",
       "      <td>0.89</td>\n",
       "      <td>402.9150</td>\n",
       "    </tr>\n",
       "  </tbody>\n",
       "</table>\n",
       "</div>"
      ],
      "text/plain": [
       "                 pl_name             hostname  sy_snum  sy_pnum  \\\n",
       "0  OGLE-2016-BLG-1227L b  OGLE-2016-BLG-1227L        1        1   \n",
       "1               GJ 480 b               GJ 480        1        1   \n",
       "2           Kepler-276 c           Kepler-276        1        3   \n",
       "3           Kepler-829 b           Kepler-829        1        1   \n",
       "4               K2-283 b               K2-283        1        1   \n",
       "\n",
       "   discoverymethod  disc_year                     disc_telescope  pl_orbper  \\\n",
       "0     Microlensing       2020  1.3 m Warsaw University Telescope        NaN   \n",
       "1  Radial Velocity       2020                Multiple Telescopes   9.567000   \n",
       "2          Transit       2013            0.95 m Kepler Telescope  31.884000   \n",
       "3          Transit       2016            0.95 m Kepler Telescope   6.883376   \n",
       "4          Transit       2018            0.95 m Kepler Telescope   1.921036   \n",
       "\n",
       "   pl_orbsmax  pl_rade  pl_radj  pl_bmasse  pl_bmassj  pl_orbeccen  \\\n",
       "0      3.4000    13.90    1.240      250.0    0.79000          NaN   \n",
       "1      0.0680     3.69    0.330       13.2    0.04153          0.1   \n",
       "2      0.1994     2.90    0.259       16.6    0.05200          0.0   \n",
       "3      0.0678     2.11    0.188        5.1    0.01600          0.0   \n",
       "4      0.0291     3.52    0.314       12.2    0.03830          NaN   \n",
       "\n",
       "  st_spectype  st_teff  st_rad  st_mass    sy_dist  \n",
       "0        None      NaN     NaN     0.10        NaN  \n",
       "1     M3.5 Ve   3381.0    0.46     0.45    14.2358  \n",
       "2        None   5779.0    1.03     1.10  1144.8600  \n",
       "3        None   5698.0    0.97     0.98  1073.7600  \n",
       "4        None   5060.0    0.82     0.89   402.9150  "
      ]
     },
     "execution_count": 43,
     "metadata": {},
     "output_type": "execute_result"
    }
   ],
   "source": [
    "ps_comp.head()"
   ]
  },
  {
   "cell_type": "markdown",
   "id": "a3c9847c",
   "metadata": {},
   "source": [
    "### Información"
   ]
  },
  {
   "cell_type": "code",
   "execution_count": 44,
   "id": "7179e220",
   "metadata": {},
   "outputs": [
    {
     "name": "stdout",
     "output_type": "stream",
     "text": [
      "<class 'pandas.core.frame.DataFrame'>\n",
      "RangeIndex: 4521 entries, 0 to 4520\n",
      "Data columns (total 19 columns):\n",
      " #   Column           Non-Null Count  Dtype  \n",
      "---  ------           --------------  -----  \n",
      " 0   pl_name          4521 non-null   object \n",
      " 1   hostname         4521 non-null   object \n",
      " 2   sy_snum          4521 non-null   int64  \n",
      " 3   sy_pnum          4521 non-null   int64  \n",
      " 4   discoverymethod  4521 non-null   object \n",
      " 5   disc_year        4521 non-null   int64  \n",
      " 6   disc_telescope   4521 non-null   object \n",
      " 7   pl_orbper        4370 non-null   float64\n",
      " 8   pl_orbsmax       4337 non-null   float64\n",
      " 9   pl_rade          4507 non-null   float64\n",
      " 10  pl_radj          4505 non-null   float64\n",
      " 11  pl_bmasse        4499 non-null   float64\n",
      " 12  pl_bmassj        4499 non-null   float64\n",
      " 13  pl_orbeccen      3981 non-null   float64\n",
      " 14  st_spectype      1639 non-null   object \n",
      " 15  st_teff          4399 non-null   float64\n",
      " 16  st_rad           4380 non-null   float64\n",
      " 17  st_mass          4517 non-null   float64\n",
      " 18  sy_dist          4515 non-null   float64\n",
      "dtypes: float64(11), int64(3), object(5)\n",
      "memory usage: 671.2+ KB\n"
     ]
    }
   ],
   "source": [
    "ps_comp.info()"
   ]
  },
  {
   "cell_type": "code",
   "execution_count": 45,
   "id": "c24d883d",
   "metadata": {},
   "outputs": [
    {
     "data": {
      "text/plain": [
       "pl_name            0.000000\n",
       "hostname           0.000000\n",
       "sy_snum            0.000000\n",
       "sy_pnum            0.000000\n",
       "discoverymethod    0.000000\n",
       "disc_year          0.000000\n",
       "disc_telescope     0.000000\n",
       "pl_orbper          0.033400\n",
       "pl_orbsmax         0.040699\n",
       "pl_rade            0.003097\n",
       "pl_radj            0.003539\n",
       "pl_bmasse          0.004866\n",
       "pl_bmassj          0.004866\n",
       "pl_orbeccen        0.119443\n",
       "st_spectype        0.637470\n",
       "st_teff            0.026985\n",
       "st_rad             0.031188\n",
       "st_mass            0.000885\n",
       "sy_dist            0.001327\n",
       "dtype: float64"
      ]
     },
     "execution_count": 45,
     "metadata": {},
     "output_type": "execute_result"
    }
   ],
   "source": [
    "ps_comp.isnull().mean()"
   ]
  },
  {
   "cell_type": "markdown",
   "id": "53802d96",
   "metadata": {},
   "source": [
    "### Wrangling"
   ]
  },
  {
   "cell_type": "markdown",
   "id": "00bcd278",
   "metadata": {},
   "source": [
    "La columna st_spectype tiene un 63% de valores nulos, asi que se eliminara del dataframe ya que no es tan relevante para los fines de este proyecto. "
   ]
  },
  {
   "cell_type": "code",
   "execution_count": 46,
   "id": "6c365f62",
   "metadata": {},
   "outputs": [],
   "source": [
    "ps_comp.drop(columns='st_spectype', inplace=True)"
   ]
  },
  {
   "cell_type": "code",
   "execution_count": 47,
   "id": "fe99c9aa",
   "metadata": {},
   "outputs": [
    {
     "data": {
      "text/html": [
       "<div>\n",
       "<style scoped>\n",
       "    .dataframe tbody tr th:only-of-type {\n",
       "        vertical-align: middle;\n",
       "    }\n",
       "\n",
       "    .dataframe tbody tr th {\n",
       "        vertical-align: top;\n",
       "    }\n",
       "\n",
       "    .dataframe thead th {\n",
       "        text-align: right;\n",
       "    }\n",
       "</style>\n",
       "<table border=\"1\" class=\"dataframe\">\n",
       "  <thead>\n",
       "    <tr style=\"text-align: right;\">\n",
       "      <th></th>\n",
       "      <th>pl_name</th>\n",
       "      <th>hostname</th>\n",
       "      <th>sy_snum</th>\n",
       "      <th>sy_pnum</th>\n",
       "      <th>discoverymethod</th>\n",
       "      <th>disc_year</th>\n",
       "      <th>disc_telescope</th>\n",
       "      <th>pl_orbper</th>\n",
       "      <th>pl_orbsmax</th>\n",
       "      <th>pl_rade</th>\n",
       "      <th>pl_radj</th>\n",
       "      <th>pl_bmasse</th>\n",
       "      <th>pl_bmassj</th>\n",
       "      <th>pl_orbeccen</th>\n",
       "      <th>st_teff</th>\n",
       "      <th>st_rad</th>\n",
       "      <th>st_mass</th>\n",
       "      <th>sy_dist</th>\n",
       "    </tr>\n",
       "  </thead>\n",
       "  <tbody>\n",
       "    <tr>\n",
       "      <th>0</th>\n",
       "      <td>OGLE-2016-BLG-1227L b</td>\n",
       "      <td>OGLE-2016-BLG-1227L</td>\n",
       "      <td>1</td>\n",
       "      <td>1</td>\n",
       "      <td>Microlensing</td>\n",
       "      <td>2020</td>\n",
       "      <td>1.3 m Warsaw University Telescope</td>\n",
       "      <td>NaN</td>\n",
       "      <td>3.400</td>\n",
       "      <td>13.90</td>\n",
       "      <td>1.24</td>\n",
       "      <td>250.0</td>\n",
       "      <td>0.79000</td>\n",
       "      <td>NaN</td>\n",
       "      <td>NaN</td>\n",
       "      <td>NaN</td>\n",
       "      <td>0.10</td>\n",
       "      <td>NaN</td>\n",
       "    </tr>\n",
       "    <tr>\n",
       "      <th>1</th>\n",
       "      <td>GJ 480 b</td>\n",
       "      <td>GJ 480</td>\n",
       "      <td>1</td>\n",
       "      <td>1</td>\n",
       "      <td>Radial Velocity</td>\n",
       "      <td>2020</td>\n",
       "      <td>Multiple Telescopes</td>\n",
       "      <td>9.567</td>\n",
       "      <td>0.068</td>\n",
       "      <td>3.69</td>\n",
       "      <td>0.33</td>\n",
       "      <td>13.2</td>\n",
       "      <td>0.04153</td>\n",
       "      <td>0.1</td>\n",
       "      <td>3381.0</td>\n",
       "      <td>0.46</td>\n",
       "      <td>0.45</td>\n",
       "      <td>14.2358</td>\n",
       "    </tr>\n",
       "  </tbody>\n",
       "</table>\n",
       "</div>"
      ],
      "text/plain": [
       "                 pl_name             hostname  sy_snum  sy_pnum  \\\n",
       "0  OGLE-2016-BLG-1227L b  OGLE-2016-BLG-1227L        1        1   \n",
       "1               GJ 480 b               GJ 480        1        1   \n",
       "\n",
       "   discoverymethod  disc_year                     disc_telescope  pl_orbper  \\\n",
       "0     Microlensing       2020  1.3 m Warsaw University Telescope        NaN   \n",
       "1  Radial Velocity       2020                Multiple Telescopes      9.567   \n",
       "\n",
       "   pl_orbsmax  pl_rade  pl_radj  pl_bmasse  pl_bmassj  pl_orbeccen  st_teff  \\\n",
       "0       3.400    13.90     1.24      250.0    0.79000          NaN      NaN   \n",
       "1       0.068     3.69     0.33       13.2    0.04153          0.1   3381.0   \n",
       "\n",
       "   st_rad  st_mass  sy_dist  \n",
       "0     NaN     0.10      NaN  \n",
       "1    0.46     0.45  14.2358  "
      ]
     },
     "execution_count": 47,
     "metadata": {},
     "output_type": "execute_result"
    }
   ],
   "source": [
    "ps_comp.head(2)"
   ]
  },
  {
   "cell_type": "code",
   "execution_count": 48,
   "id": "b6cb9b65",
   "metadata": {},
   "outputs": [],
   "source": [
    "new_names_ps = ['planet_name', 'hostname', 'sys_num_stars', 'sys_num_planet', 'discovery_method', \n",
    "                'discovery_year', 'discovery_telescope', 'orbital_period', 'orbital_semi_major', 'planet_radius_earth',\n",
    "               'planet_radius_jupiter', 'planet_mass_earth', 'planet_mass_jupiter', 'eccentricity', 'stellar_eff_temp',\n",
    "               'stellar_radius', 'stellar_mass', 'dist_system']"
   ]
  },
  {
   "cell_type": "code",
   "execution_count": 49,
   "id": "3e6d9494",
   "metadata": {},
   "outputs": [],
   "source": [
    "old_names_ps = [colum for colum in ps_comp.columns]"
   ]
  },
  {
   "cell_type": "code",
   "execution_count": 50,
   "id": "28466e68",
   "metadata": {},
   "outputs": [],
   "source": [
    "dict_ps = dict(zip(old_names_ps, new_names_ps))"
   ]
  },
  {
   "cell_type": "code",
   "execution_count": 51,
   "id": "88efdd47",
   "metadata": {},
   "outputs": [],
   "source": [
    "ps_comp.rename(columns=dict_ps, inplace=True)"
   ]
  },
  {
   "cell_type": "code",
   "execution_count": 52,
   "id": "d6ec9d73",
   "metadata": {},
   "outputs": [
    {
     "data": {
      "text/plain": [
       "Index(['planet_name', 'hostname', 'sys_num_stars', 'sys_num_planet',\n",
       "       'discovery_method', 'discovery_year', 'discovery_telescope',\n",
       "       'orbital_period', 'orbital_semi_major', 'planet_radius_earth',\n",
       "       'planet_radius_jupiter', 'planet_mass_earth', 'planet_mass_jupiter',\n",
       "       'eccentricity', 'stellar_eff_temp', 'stellar_radius', 'stellar_mass',\n",
       "       'dist_system'],\n",
       "      dtype='object')"
      ]
     },
     "execution_count": 52,
     "metadata": {},
     "output_type": "execute_result"
    }
   ],
   "source": [
    "ps_comp.columns"
   ]
  },
  {
   "cell_type": "code",
   "execution_count": 53,
   "id": "92a0802d",
   "metadata": {},
   "outputs": [
    {
     "data": {
      "text/html": [
       "<div>\n",
       "<style scoped>\n",
       "    .dataframe tbody tr th:only-of-type {\n",
       "        vertical-align: middle;\n",
       "    }\n",
       "\n",
       "    .dataframe tbody tr th {\n",
       "        vertical-align: top;\n",
       "    }\n",
       "\n",
       "    .dataframe thead th {\n",
       "        text-align: right;\n",
       "    }\n",
       "</style>\n",
       "<table border=\"1\" class=\"dataframe\">\n",
       "  <thead>\n",
       "    <tr style=\"text-align: right;\">\n",
       "      <th></th>\n",
       "      <th>planet_name</th>\n",
       "      <th>hostname</th>\n",
       "      <th>sys_num_stars</th>\n",
       "      <th>sys_num_planet</th>\n",
       "      <th>discovery_method</th>\n",
       "      <th>discovery_year</th>\n",
       "      <th>discovery_telescope</th>\n",
       "      <th>orbital_period</th>\n",
       "      <th>orbital_semi_major</th>\n",
       "      <th>planet_radius_earth</th>\n",
       "      <th>planet_radius_jupiter</th>\n",
       "      <th>planet_mass_earth</th>\n",
       "      <th>planet_mass_jupiter</th>\n",
       "      <th>eccentricity</th>\n",
       "      <th>stellar_eff_temp</th>\n",
       "      <th>stellar_radius</th>\n",
       "      <th>stellar_mass</th>\n",
       "      <th>dist_system</th>\n",
       "    </tr>\n",
       "  </thead>\n",
       "  <tbody>\n",
       "    <tr>\n",
       "      <th>0</th>\n",
       "      <td>OGLE-2016-BLG-1227L b</td>\n",
       "      <td>OGLE-2016-BLG-1227L</td>\n",
       "      <td>1</td>\n",
       "      <td>1</td>\n",
       "      <td>Microlensing</td>\n",
       "      <td>2020</td>\n",
       "      <td>1.3 m Warsaw University Telescope</td>\n",
       "      <td>NaN</td>\n",
       "      <td>3.4000</td>\n",
       "      <td>13.90</td>\n",
       "      <td>1.240</td>\n",
       "      <td>250.0</td>\n",
       "      <td>0.79000</td>\n",
       "      <td>NaN</td>\n",
       "      <td>NaN</td>\n",
       "      <td>NaN</td>\n",
       "      <td>0.10</td>\n",
       "      <td>NaN</td>\n",
       "    </tr>\n",
       "    <tr>\n",
       "      <th>1</th>\n",
       "      <td>GJ 480 b</td>\n",
       "      <td>GJ 480</td>\n",
       "      <td>1</td>\n",
       "      <td>1</td>\n",
       "      <td>Radial Velocity</td>\n",
       "      <td>2020</td>\n",
       "      <td>Multiple Telescopes</td>\n",
       "      <td>9.567000</td>\n",
       "      <td>0.0680</td>\n",
       "      <td>3.69</td>\n",
       "      <td>0.330</td>\n",
       "      <td>13.2</td>\n",
       "      <td>0.04153</td>\n",
       "      <td>0.1</td>\n",
       "      <td>3381.0</td>\n",
       "      <td>0.46</td>\n",
       "      <td>0.45</td>\n",
       "      <td>14.2358</td>\n",
       "    </tr>\n",
       "    <tr>\n",
       "      <th>2</th>\n",
       "      <td>Kepler-276 c</td>\n",
       "      <td>Kepler-276</td>\n",
       "      <td>1</td>\n",
       "      <td>3</td>\n",
       "      <td>Transit</td>\n",
       "      <td>2013</td>\n",
       "      <td>0.95 m Kepler Telescope</td>\n",
       "      <td>31.884000</td>\n",
       "      <td>0.1994</td>\n",
       "      <td>2.90</td>\n",
       "      <td>0.259</td>\n",
       "      <td>16.6</td>\n",
       "      <td>0.05200</td>\n",
       "      <td>0.0</td>\n",
       "      <td>5779.0</td>\n",
       "      <td>1.03</td>\n",
       "      <td>1.10</td>\n",
       "      <td>1144.8600</td>\n",
       "    </tr>\n",
       "    <tr>\n",
       "      <th>3</th>\n",
       "      <td>Kepler-829 b</td>\n",
       "      <td>Kepler-829</td>\n",
       "      <td>1</td>\n",
       "      <td>1</td>\n",
       "      <td>Transit</td>\n",
       "      <td>2016</td>\n",
       "      <td>0.95 m Kepler Telescope</td>\n",
       "      <td>6.883376</td>\n",
       "      <td>0.0678</td>\n",
       "      <td>2.11</td>\n",
       "      <td>0.188</td>\n",
       "      <td>5.1</td>\n",
       "      <td>0.01600</td>\n",
       "      <td>0.0</td>\n",
       "      <td>5698.0</td>\n",
       "      <td>0.97</td>\n",
       "      <td>0.98</td>\n",
       "      <td>1073.7600</td>\n",
       "    </tr>\n",
       "    <tr>\n",
       "      <th>4</th>\n",
       "      <td>K2-283 b</td>\n",
       "      <td>K2-283</td>\n",
       "      <td>1</td>\n",
       "      <td>1</td>\n",
       "      <td>Transit</td>\n",
       "      <td>2018</td>\n",
       "      <td>0.95 m Kepler Telescope</td>\n",
       "      <td>1.921036</td>\n",
       "      <td>0.0291</td>\n",
       "      <td>3.52</td>\n",
       "      <td>0.314</td>\n",
       "      <td>12.2</td>\n",
       "      <td>0.03830</td>\n",
       "      <td>NaN</td>\n",
       "      <td>5060.0</td>\n",
       "      <td>0.82</td>\n",
       "      <td>0.89</td>\n",
       "      <td>402.9150</td>\n",
       "    </tr>\n",
       "  </tbody>\n",
       "</table>\n",
       "</div>"
      ],
      "text/plain": [
       "             planet_name             hostname  sys_num_stars  sys_num_planet  \\\n",
       "0  OGLE-2016-BLG-1227L b  OGLE-2016-BLG-1227L              1               1   \n",
       "1               GJ 480 b               GJ 480              1               1   \n",
       "2           Kepler-276 c           Kepler-276              1               3   \n",
       "3           Kepler-829 b           Kepler-829              1               1   \n",
       "4               K2-283 b               K2-283              1               1   \n",
       "\n",
       "  discovery_method  discovery_year                discovery_telescope  \\\n",
       "0     Microlensing            2020  1.3 m Warsaw University Telescope   \n",
       "1  Radial Velocity            2020                Multiple Telescopes   \n",
       "2          Transit            2013            0.95 m Kepler Telescope   \n",
       "3          Transit            2016            0.95 m Kepler Telescope   \n",
       "4          Transit            2018            0.95 m Kepler Telescope   \n",
       "\n",
       "   orbital_period  orbital_semi_major  planet_radius_earth  \\\n",
       "0             NaN              3.4000                13.90   \n",
       "1        9.567000              0.0680                 3.69   \n",
       "2       31.884000              0.1994                 2.90   \n",
       "3        6.883376              0.0678                 2.11   \n",
       "4        1.921036              0.0291                 3.52   \n",
       "\n",
       "   planet_radius_jupiter  planet_mass_earth  planet_mass_jupiter  \\\n",
       "0                  1.240              250.0              0.79000   \n",
       "1                  0.330               13.2              0.04153   \n",
       "2                  0.259               16.6              0.05200   \n",
       "3                  0.188                5.1              0.01600   \n",
       "4                  0.314               12.2              0.03830   \n",
       "\n",
       "   eccentricity  stellar_eff_temp  stellar_radius  stellar_mass  dist_system  \n",
       "0           NaN               NaN             NaN          0.10          NaN  \n",
       "1           0.1            3381.0            0.46          0.45      14.2358  \n",
       "2           0.0            5779.0            1.03          1.10    1144.8600  \n",
       "3           0.0            5698.0            0.97          0.98    1073.7600  \n",
       "4           NaN            5060.0            0.82          0.89     402.9150  "
      ]
     },
     "execution_count": 53,
     "metadata": {},
     "output_type": "execute_result"
    }
   ],
   "source": [
    "ps_comp.head()"
   ]
  },
  {
   "cell_type": "markdown",
   "id": "25e70cdc",
   "metadata": {},
   "source": [
    "### Revisando si hay valores duplicados"
   ]
  },
  {
   "cell_type": "code",
   "execution_count": 54,
   "id": "4b8d563e",
   "metadata": {},
   "outputs": [
    {
     "data": {
      "text/plain": [
       "Kepler-227 c             1\n",
       "Kepler-765 b             1\n",
       "GJ 411 b                 1\n",
       "OGLE-2017-BLG-0604L b    1\n",
       "Kepler-1542 d            1\n",
       "                        ..\n",
       "WASP-169 b               1\n",
       "Kepler-1303 b            1\n",
       "Kepler-1672 b            1\n",
       "WASP-77 A b              1\n",
       "Kepler-65 c              1\n",
       "Name: planet_name, Length: 4521, dtype: int64"
      ]
     },
     "execution_count": 54,
     "metadata": {},
     "output_type": "execute_result"
    }
   ],
   "source": [
    "ps_comp['planet_name'].value_counts()"
   ]
  },
  {
   "cell_type": "markdown",
   "id": "634f0a40",
   "metadata": {},
   "source": [
    "#### Transformando la columna dist_system de parsec a años luz y agrengandola como una nueva columna al dataframe"
   ]
  },
  {
   "cell_type": "code",
   "execution_count": 55,
   "id": "979a66a4",
   "metadata": {},
   "outputs": [],
   "source": [
    "ps_comp['dist_system_ly'] = ps_comp['dist_system'] * 3.262"
   ]
  },
  {
   "cell_type": "code",
   "execution_count": 56,
   "id": "1e963431",
   "metadata": {},
   "outputs": [
    {
     "data": {
      "text/html": [
       "<div>\n",
       "<style scoped>\n",
       "    .dataframe tbody tr th:only-of-type {\n",
       "        vertical-align: middle;\n",
       "    }\n",
       "\n",
       "    .dataframe tbody tr th {\n",
       "        vertical-align: top;\n",
       "    }\n",
       "\n",
       "    .dataframe thead th {\n",
       "        text-align: right;\n",
       "    }\n",
       "</style>\n",
       "<table border=\"1\" class=\"dataframe\">\n",
       "  <thead>\n",
       "    <tr style=\"text-align: right;\">\n",
       "      <th></th>\n",
       "      <th>planet_name</th>\n",
       "      <th>hostname</th>\n",
       "      <th>sys_num_stars</th>\n",
       "      <th>sys_num_planet</th>\n",
       "      <th>discovery_method</th>\n",
       "      <th>discovery_year</th>\n",
       "      <th>discovery_telescope</th>\n",
       "      <th>orbital_period</th>\n",
       "      <th>orbital_semi_major</th>\n",
       "      <th>planet_radius_earth</th>\n",
       "      <th>planet_radius_jupiter</th>\n",
       "      <th>planet_mass_earth</th>\n",
       "      <th>planet_mass_jupiter</th>\n",
       "      <th>eccentricity</th>\n",
       "      <th>stellar_eff_temp</th>\n",
       "      <th>stellar_radius</th>\n",
       "      <th>stellar_mass</th>\n",
       "      <th>dist_system</th>\n",
       "      <th>dist_system_ly</th>\n",
       "    </tr>\n",
       "  </thead>\n",
       "  <tbody>\n",
       "    <tr>\n",
       "      <th>0</th>\n",
       "      <td>OGLE-2016-BLG-1227L b</td>\n",
       "      <td>OGLE-2016-BLG-1227L</td>\n",
       "      <td>1</td>\n",
       "      <td>1</td>\n",
       "      <td>Microlensing</td>\n",
       "      <td>2020</td>\n",
       "      <td>1.3 m Warsaw University Telescope</td>\n",
       "      <td>NaN</td>\n",
       "      <td>3.4000</td>\n",
       "      <td>13.90</td>\n",
       "      <td>1.240</td>\n",
       "      <td>250.0</td>\n",
       "      <td>0.79000</td>\n",
       "      <td>NaN</td>\n",
       "      <td>NaN</td>\n",
       "      <td>NaN</td>\n",
       "      <td>0.10</td>\n",
       "      <td>NaN</td>\n",
       "      <td>NaN</td>\n",
       "    </tr>\n",
       "    <tr>\n",
       "      <th>1</th>\n",
       "      <td>GJ 480 b</td>\n",
       "      <td>GJ 480</td>\n",
       "      <td>1</td>\n",
       "      <td>1</td>\n",
       "      <td>Radial Velocity</td>\n",
       "      <td>2020</td>\n",
       "      <td>Multiple Telescopes</td>\n",
       "      <td>9.567000</td>\n",
       "      <td>0.0680</td>\n",
       "      <td>3.69</td>\n",
       "      <td>0.330</td>\n",
       "      <td>13.2</td>\n",
       "      <td>0.04153</td>\n",
       "      <td>0.1</td>\n",
       "      <td>3381.0</td>\n",
       "      <td>0.46</td>\n",
       "      <td>0.45</td>\n",
       "      <td>14.2358</td>\n",
       "      <td>46.43718</td>\n",
       "    </tr>\n",
       "    <tr>\n",
       "      <th>2</th>\n",
       "      <td>Kepler-276 c</td>\n",
       "      <td>Kepler-276</td>\n",
       "      <td>1</td>\n",
       "      <td>3</td>\n",
       "      <td>Transit</td>\n",
       "      <td>2013</td>\n",
       "      <td>0.95 m Kepler Telescope</td>\n",
       "      <td>31.884000</td>\n",
       "      <td>0.1994</td>\n",
       "      <td>2.90</td>\n",
       "      <td>0.259</td>\n",
       "      <td>16.6</td>\n",
       "      <td>0.05200</td>\n",
       "      <td>0.0</td>\n",
       "      <td>5779.0</td>\n",
       "      <td>1.03</td>\n",
       "      <td>1.10</td>\n",
       "      <td>1144.8600</td>\n",
       "      <td>3734.53332</td>\n",
       "    </tr>\n",
       "    <tr>\n",
       "      <th>3</th>\n",
       "      <td>Kepler-829 b</td>\n",
       "      <td>Kepler-829</td>\n",
       "      <td>1</td>\n",
       "      <td>1</td>\n",
       "      <td>Transit</td>\n",
       "      <td>2016</td>\n",
       "      <td>0.95 m Kepler Telescope</td>\n",
       "      <td>6.883376</td>\n",
       "      <td>0.0678</td>\n",
       "      <td>2.11</td>\n",
       "      <td>0.188</td>\n",
       "      <td>5.1</td>\n",
       "      <td>0.01600</td>\n",
       "      <td>0.0</td>\n",
       "      <td>5698.0</td>\n",
       "      <td>0.97</td>\n",
       "      <td>0.98</td>\n",
       "      <td>1073.7600</td>\n",
       "      <td>3502.60512</td>\n",
       "    </tr>\n",
       "    <tr>\n",
       "      <th>4</th>\n",
       "      <td>K2-283 b</td>\n",
       "      <td>K2-283</td>\n",
       "      <td>1</td>\n",
       "      <td>1</td>\n",
       "      <td>Transit</td>\n",
       "      <td>2018</td>\n",
       "      <td>0.95 m Kepler Telescope</td>\n",
       "      <td>1.921036</td>\n",
       "      <td>0.0291</td>\n",
       "      <td>3.52</td>\n",
       "      <td>0.314</td>\n",
       "      <td>12.2</td>\n",
       "      <td>0.03830</td>\n",
       "      <td>NaN</td>\n",
       "      <td>5060.0</td>\n",
       "      <td>0.82</td>\n",
       "      <td>0.89</td>\n",
       "      <td>402.9150</td>\n",
       "      <td>1314.30873</td>\n",
       "    </tr>\n",
       "  </tbody>\n",
       "</table>\n",
       "</div>"
      ],
      "text/plain": [
       "             planet_name             hostname  sys_num_stars  sys_num_planet  \\\n",
       "0  OGLE-2016-BLG-1227L b  OGLE-2016-BLG-1227L              1               1   \n",
       "1               GJ 480 b               GJ 480              1               1   \n",
       "2           Kepler-276 c           Kepler-276              1               3   \n",
       "3           Kepler-829 b           Kepler-829              1               1   \n",
       "4               K2-283 b               K2-283              1               1   \n",
       "\n",
       "  discovery_method  discovery_year                discovery_telescope  \\\n",
       "0     Microlensing            2020  1.3 m Warsaw University Telescope   \n",
       "1  Radial Velocity            2020                Multiple Telescopes   \n",
       "2          Transit            2013            0.95 m Kepler Telescope   \n",
       "3          Transit            2016            0.95 m Kepler Telescope   \n",
       "4          Transit            2018            0.95 m Kepler Telescope   \n",
       "\n",
       "   orbital_period  orbital_semi_major  planet_radius_earth  \\\n",
       "0             NaN              3.4000                13.90   \n",
       "1        9.567000              0.0680                 3.69   \n",
       "2       31.884000              0.1994                 2.90   \n",
       "3        6.883376              0.0678                 2.11   \n",
       "4        1.921036              0.0291                 3.52   \n",
       "\n",
       "   planet_radius_jupiter  planet_mass_earth  planet_mass_jupiter  \\\n",
       "0                  1.240              250.0              0.79000   \n",
       "1                  0.330               13.2              0.04153   \n",
       "2                  0.259               16.6              0.05200   \n",
       "3                  0.188                5.1              0.01600   \n",
       "4                  0.314               12.2              0.03830   \n",
       "\n",
       "   eccentricity  stellar_eff_temp  stellar_radius  stellar_mass  dist_system  \\\n",
       "0           NaN               NaN             NaN          0.10          NaN   \n",
       "1           0.1            3381.0            0.46          0.45      14.2358   \n",
       "2           0.0            5779.0            1.03          1.10    1144.8600   \n",
       "3           0.0            5698.0            0.97          0.98    1073.7600   \n",
       "4           NaN            5060.0            0.82          0.89     402.9150   \n",
       "\n",
       "   dist_system_ly  \n",
       "0             NaN  \n",
       "1        46.43718  \n",
       "2      3734.53332  \n",
       "3      3502.60512  \n",
       "4      1314.30873  "
      ]
     },
     "execution_count": 56,
     "metadata": {},
     "output_type": "execute_result"
    }
   ],
   "source": [
    "ps_comp.head()"
   ]
  },
  {
   "cell_type": "code",
   "execution_count": 57,
   "id": "7412cb1e",
   "metadata": {},
   "outputs": [
    {
     "data": {
      "text/plain": [
       "(4521, 19)"
      ]
     },
     "execution_count": 57,
     "metadata": {},
     "output_type": "execute_result"
    }
   ],
   "source": [
    "ps_comp.shape"
   ]
  },
  {
   "cell_type": "markdown",
   "id": "aa49e0fc",
   "metadata": {},
   "source": [
    "#### Guardando la data de Planetary systems composite "
   ]
  },
  {
   "cell_type": "code",
   "execution_count": 58,
   "id": "2c663b04",
   "metadata": {},
   "outputs": [],
   "source": [
    "ps_comp.to_csv('ps_comp_data.csv', index=False)"
   ]
  },
  {
   "cell_type": "markdown",
   "id": "ea385ff0",
   "metadata": {},
   "source": [
    "### Creando sub arreglo de microlensing"
   ]
  },
  {
   "cell_type": "code",
   "execution_count": 59,
   "id": "f6bc6f76",
   "metadata": {},
   "outputs": [
    {
     "data": {
      "text/plain": [
       "array(['Microlensing', 'Radial Velocity', 'Transit',\n",
       "       'Eclipse Timing Variations', 'Astrometry', 'Imaging',\n",
       "       'Orbital Brightness Modulation', 'Transit Timing Variations',\n",
       "       'Pulsar Timing', 'Disk Kinematics', 'Pulsation Timing Variations'],\n",
       "      dtype=object)"
      ]
     },
     "execution_count": 59,
     "metadata": {},
     "output_type": "execute_result"
    }
   ],
   "source": [
    "ps_comp['discovery_method'].unique()"
   ]
  },
  {
   "cell_type": "markdown",
   "id": "f33601bf",
   "metadata": {},
   "source": [
    "### Tercer DataFrame"
   ]
  },
  {
   "cell_type": "code",
   "execution_count": 60,
   "id": "7eeb2df9",
   "metadata": {},
   "outputs": [],
   "source": [
    "ps_mlen = ps_comp.loc[ps_comp['discovery_method'] == 'Microlensing']"
   ]
  },
  {
   "cell_type": "code",
   "execution_count": 61,
   "id": "17a274e2",
   "metadata": {},
   "outputs": [
    {
     "data": {
      "text/html": [
       "<div>\n",
       "<style scoped>\n",
       "    .dataframe tbody tr th:only-of-type {\n",
       "        vertical-align: middle;\n",
       "    }\n",
       "\n",
       "    .dataframe tbody tr th {\n",
       "        vertical-align: top;\n",
       "    }\n",
       "\n",
       "    .dataframe thead th {\n",
       "        text-align: right;\n",
       "    }\n",
       "</style>\n",
       "<table border=\"1\" class=\"dataframe\">\n",
       "  <thead>\n",
       "    <tr style=\"text-align: right;\">\n",
       "      <th></th>\n",
       "      <th>planet_name</th>\n",
       "      <th>hostname</th>\n",
       "      <th>sys_num_stars</th>\n",
       "      <th>sys_num_planet</th>\n",
       "      <th>discovery_method</th>\n",
       "      <th>discovery_year</th>\n",
       "      <th>discovery_telescope</th>\n",
       "      <th>orbital_period</th>\n",
       "      <th>orbital_semi_major</th>\n",
       "      <th>planet_radius_earth</th>\n",
       "      <th>planet_radius_jupiter</th>\n",
       "      <th>planet_mass_earth</th>\n",
       "      <th>planet_mass_jupiter</th>\n",
       "      <th>eccentricity</th>\n",
       "      <th>stellar_eff_temp</th>\n",
       "      <th>stellar_radius</th>\n",
       "      <th>stellar_mass</th>\n",
       "      <th>dist_system</th>\n",
       "      <th>dist_system_ly</th>\n",
       "    </tr>\n",
       "  </thead>\n",
       "  <tbody>\n",
       "    <tr>\n",
       "      <th>0</th>\n",
       "      <td>OGLE-2016-BLG-1227L b</td>\n",
       "      <td>OGLE-2016-BLG-1227L</td>\n",
       "      <td>1</td>\n",
       "      <td>1</td>\n",
       "      <td>Microlensing</td>\n",
       "      <td>2020</td>\n",
       "      <td>1.3 m Warsaw University Telescope</td>\n",
       "      <td>NaN</td>\n",
       "      <td>3.4</td>\n",
       "      <td>13.90</td>\n",
       "      <td>1.240</td>\n",
       "      <td>250.0</td>\n",
       "      <td>0.790</td>\n",
       "      <td>NaN</td>\n",
       "      <td>NaN</td>\n",
       "      <td>NaN</td>\n",
       "      <td>0.10</td>\n",
       "      <td>NaN</td>\n",
       "      <td>NaN</td>\n",
       "    </tr>\n",
       "    <tr>\n",
       "      <th>13</th>\n",
       "      <td>OGLE-2015-BLG-0966L b</td>\n",
       "      <td>OGLE-2015-BLG-0966L</td>\n",
       "      <td>1</td>\n",
       "      <td>1</td>\n",
       "      <td>Microlensing</td>\n",
       "      <td>2016</td>\n",
       "      <td>1.3 m Warsaw University Telescope</td>\n",
       "      <td>NaN</td>\n",
       "      <td>2.7</td>\n",
       "      <td>4.86</td>\n",
       "      <td>0.433</td>\n",
       "      <td>21.0</td>\n",
       "      <td>0.066</td>\n",
       "      <td>NaN</td>\n",
       "      <td>NaN</td>\n",
       "      <td>NaN</td>\n",
       "      <td>0.38</td>\n",
       "      <td>3300.0</td>\n",
       "      <td>10764.6</td>\n",
       "    </tr>\n",
       "  </tbody>\n",
       "</table>\n",
       "</div>"
      ],
      "text/plain": [
       "              planet_name             hostname  sys_num_stars  sys_num_planet  \\\n",
       "0   OGLE-2016-BLG-1227L b  OGLE-2016-BLG-1227L              1               1   \n",
       "13  OGLE-2015-BLG-0966L b  OGLE-2015-BLG-0966L              1               1   \n",
       "\n",
       "   discovery_method  discovery_year                discovery_telescope  \\\n",
       "0      Microlensing            2020  1.3 m Warsaw University Telescope   \n",
       "13     Microlensing            2016  1.3 m Warsaw University Telescope   \n",
       "\n",
       "    orbital_period  orbital_semi_major  planet_radius_earth  \\\n",
       "0              NaN                 3.4                13.90   \n",
       "13             NaN                 2.7                 4.86   \n",
       "\n",
       "    planet_radius_jupiter  planet_mass_earth  planet_mass_jupiter  \\\n",
       "0                   1.240              250.0                0.790   \n",
       "13                  0.433               21.0                0.066   \n",
       "\n",
       "    eccentricity  stellar_eff_temp  stellar_radius  stellar_mass  dist_system  \\\n",
       "0            NaN               NaN             NaN          0.10          NaN   \n",
       "13           NaN               NaN             NaN          0.38       3300.0   \n",
       "\n",
       "    dist_system_ly  \n",
       "0              NaN  \n",
       "13         10764.6  "
      ]
     },
     "execution_count": 61,
     "metadata": {},
     "output_type": "execute_result"
    }
   ],
   "source": [
    "ps_mlen.head(2)"
   ]
  },
  {
   "cell_type": "code",
   "execution_count": 62,
   "id": "a17dd138",
   "metadata": {},
   "outputs": [
    {
     "data": {
      "text/plain": [
       "(114, 19)"
      ]
     },
     "execution_count": 62,
     "metadata": {},
     "output_type": "execute_result"
    }
   ],
   "source": [
    "ps_mlen.shape"
   ]
  },
  {
   "cell_type": "code",
   "execution_count": 63,
   "id": "e9c2695c",
   "metadata": {},
   "outputs": [
    {
     "data": {
      "text/html": [
       "<div>\n",
       "<style scoped>\n",
       "    .dataframe tbody tr th:only-of-type {\n",
       "        vertical-align: middle;\n",
       "    }\n",
       "\n",
       "    .dataframe tbody tr th {\n",
       "        vertical-align: top;\n",
       "    }\n",
       "\n",
       "    .dataframe thead th {\n",
       "        text-align: right;\n",
       "    }\n",
       "</style>\n",
       "<table border=\"1\" class=\"dataframe\">\n",
       "  <thead>\n",
       "    <tr style=\"text-align: right;\">\n",
       "      <th></th>\n",
       "      <th>planet_name</th>\n",
       "      <th>ra_event</th>\n",
       "      <th>dec_event</th>\n",
       "      <th>earth_massses</th>\n",
       "      <th>jupiter_masses</th>\n",
       "      <th>planet_orbmax</th>\n",
       "      <th>lens_distance</th>\n",
       "      <th>source_distance</th>\n",
       "      <th>einstein_cross_time</th>\n",
       "      <th>source_mag</th>\n",
       "      <th>planet_star_mass_ratio</th>\n",
       "      <th>angular_einstein_radius</th>\n",
       "      <th>lens_distance_ly</th>\n",
       "      <th>source_distance_ly</th>\n",
       "    </tr>\n",
       "  </thead>\n",
       "  <tbody>\n",
       "    <tr>\n",
       "      <th>0</th>\n",
       "      <td>KMT-2019-BLG-1953L b</td>\n",
       "      <td>17 56 27.90</td>\n",
       "      <td>-28 12 04.00</td>\n",
       "      <td>NaN</td>\n",
       "      <td>NaN</td>\n",
       "      <td>NaN</td>\n",
       "      <td>NaN</td>\n",
       "      <td>8000.0</td>\n",
       "      <td>16.18</td>\n",
       "      <td>19.100</td>\n",
       "      <td>20.680</td>\n",
       "      <td>0.250</td>\n",
       "      <td>NaN</td>\n",
       "      <td>26096.0</td>\n",
       "    </tr>\n",
       "    <tr>\n",
       "      <th>1</th>\n",
       "      <td>MOA-2013-BLG-605L b</td>\n",
       "      <td>17 58 42.85</td>\n",
       "      <td>-29 23 53.66</td>\n",
       "      <td>20.58</td>\n",
       "      <td>0.06475</td>\n",
       "      <td>4.18</td>\n",
       "      <td>3550.0</td>\n",
       "      <td>NaN</td>\n",
       "      <td>19.83</td>\n",
       "      <td>3.124</td>\n",
       "      <td>18.112</td>\n",
       "      <td>0.503</td>\n",
       "      <td>11580.1</td>\n",
       "      <td>NaN</td>\n",
       "    </tr>\n",
       "  </tbody>\n",
       "</table>\n",
       "</div>"
      ],
      "text/plain": [
       "            planet_name     ra_event     dec_event  earth_massses  \\\n",
       "0  KMT-2019-BLG-1953L b  17 56 27.90  -28 12 04.00            NaN   \n",
       "1   MOA-2013-BLG-605L b  17 58 42.85  -29 23 53.66          20.58   \n",
       "\n",
       "   jupiter_masses  planet_orbmax  lens_distance  source_distance  \\\n",
       "0             NaN            NaN            NaN           8000.0   \n",
       "1         0.06475           4.18         3550.0              NaN   \n",
       "\n",
       "   einstein_cross_time  source_mag  planet_star_mass_ratio  \\\n",
       "0                16.18      19.100                  20.680   \n",
       "1                19.83       3.124                  18.112   \n",
       "\n",
       "   angular_einstein_radius  lens_distance_ly  source_distance_ly  \n",
       "0                    0.250               NaN             26096.0  \n",
       "1                    0.503           11580.1                 NaN  "
      ]
     },
     "execution_count": 63,
     "metadata": {},
     "output_type": "execute_result"
    }
   ],
   "source": [
    "mlen.head(2)    "
   ]
  },
  {
   "cell_type": "code",
   "execution_count": 64,
   "id": "9d55c282",
   "metadata": {},
   "outputs": [
    {
     "data": {
      "text/html": [
       "<div>\n",
       "<style scoped>\n",
       "    .dataframe tbody tr th:only-of-type {\n",
       "        vertical-align: middle;\n",
       "    }\n",
       "\n",
       "    .dataframe tbody tr th {\n",
       "        vertical-align: top;\n",
       "    }\n",
       "\n",
       "    .dataframe thead th {\n",
       "        text-align: right;\n",
       "    }\n",
       "</style>\n",
       "<table border=\"1\" class=\"dataframe\">\n",
       "  <thead>\n",
       "    <tr style=\"text-align: right;\">\n",
       "      <th></th>\n",
       "      <th>planet_name</th>\n",
       "      <th>hostname</th>\n",
       "      <th>sys_num_stars</th>\n",
       "      <th>sys_num_planet</th>\n",
       "      <th>discovery_method</th>\n",
       "      <th>discovery_year</th>\n",
       "      <th>discovery_telescope</th>\n",
       "      <th>orbital_period</th>\n",
       "      <th>orbital_semi_major</th>\n",
       "      <th>planet_radius_earth</th>\n",
       "      <th>planet_radius_jupiter</th>\n",
       "      <th>planet_mass_earth</th>\n",
       "      <th>planet_mass_jupiter</th>\n",
       "      <th>eccentricity</th>\n",
       "      <th>stellar_eff_temp</th>\n",
       "      <th>stellar_radius</th>\n",
       "      <th>stellar_mass</th>\n",
       "      <th>dist_system</th>\n",
       "      <th>dist_system_ly</th>\n",
       "    </tr>\n",
       "  </thead>\n",
       "  <tbody>\n",
       "    <tr>\n",
       "      <th>0</th>\n",
       "      <td>OGLE-2016-BLG-1227L b</td>\n",
       "      <td>OGLE-2016-BLG-1227L</td>\n",
       "      <td>1</td>\n",
       "      <td>1</td>\n",
       "      <td>Microlensing</td>\n",
       "      <td>2020</td>\n",
       "      <td>1.3 m Warsaw University Telescope</td>\n",
       "      <td>NaN</td>\n",
       "      <td>3.4</td>\n",
       "      <td>13.90</td>\n",
       "      <td>1.240</td>\n",
       "      <td>250.0</td>\n",
       "      <td>0.790</td>\n",
       "      <td>NaN</td>\n",
       "      <td>NaN</td>\n",
       "      <td>NaN</td>\n",
       "      <td>0.10</td>\n",
       "      <td>NaN</td>\n",
       "      <td>NaN</td>\n",
       "    </tr>\n",
       "    <tr>\n",
       "      <th>13</th>\n",
       "      <td>OGLE-2015-BLG-0966L b</td>\n",
       "      <td>OGLE-2015-BLG-0966L</td>\n",
       "      <td>1</td>\n",
       "      <td>1</td>\n",
       "      <td>Microlensing</td>\n",
       "      <td>2016</td>\n",
       "      <td>1.3 m Warsaw University Telescope</td>\n",
       "      <td>NaN</td>\n",
       "      <td>2.7</td>\n",
       "      <td>4.86</td>\n",
       "      <td>0.433</td>\n",
       "      <td>21.0</td>\n",
       "      <td>0.066</td>\n",
       "      <td>NaN</td>\n",
       "      <td>NaN</td>\n",
       "      <td>NaN</td>\n",
       "      <td>0.38</td>\n",
       "      <td>3300.0</td>\n",
       "      <td>10764.6</td>\n",
       "    </tr>\n",
       "  </tbody>\n",
       "</table>\n",
       "</div>"
      ],
      "text/plain": [
       "              planet_name             hostname  sys_num_stars  sys_num_planet  \\\n",
       "0   OGLE-2016-BLG-1227L b  OGLE-2016-BLG-1227L              1               1   \n",
       "13  OGLE-2015-BLG-0966L b  OGLE-2015-BLG-0966L              1               1   \n",
       "\n",
       "   discovery_method  discovery_year                discovery_telescope  \\\n",
       "0      Microlensing            2020  1.3 m Warsaw University Telescope   \n",
       "13     Microlensing            2016  1.3 m Warsaw University Telescope   \n",
       "\n",
       "    orbital_period  orbital_semi_major  planet_radius_earth  \\\n",
       "0              NaN                 3.4                13.90   \n",
       "13             NaN                 2.7                 4.86   \n",
       "\n",
       "    planet_radius_jupiter  planet_mass_earth  planet_mass_jupiter  \\\n",
       "0                   1.240              250.0                0.790   \n",
       "13                  0.433               21.0                0.066   \n",
       "\n",
       "    eccentricity  stellar_eff_temp  stellar_radius  stellar_mass  dist_system  \\\n",
       "0            NaN               NaN             NaN          0.10          NaN   \n",
       "13           NaN               NaN             NaN          0.38       3300.0   \n",
       "\n",
       "    dist_system_ly  \n",
       "0              NaN  \n",
       "13         10764.6  "
      ]
     },
     "execution_count": 64,
     "metadata": {},
     "output_type": "execute_result"
    }
   ],
   "source": [
    "ps_mlen.head(2)"
   ]
  },
  {
   "cell_type": "code",
   "execution_count": 65,
   "id": "5f93104f",
   "metadata": {},
   "outputs": [],
   "source": [
    "merged = pd.merge(mlen, ps_mlen, on='planet_name')"
   ]
  },
  {
   "cell_type": "code",
   "execution_count": 66,
   "id": "2e7a8853",
   "metadata": {},
   "outputs": [
    {
     "data": {
      "text/html": [
       "<div>\n",
       "<style scoped>\n",
       "    .dataframe tbody tr th:only-of-type {\n",
       "        vertical-align: middle;\n",
       "    }\n",
       "\n",
       "    .dataframe tbody tr th {\n",
       "        vertical-align: top;\n",
       "    }\n",
       "\n",
       "    .dataframe thead th {\n",
       "        text-align: right;\n",
       "    }\n",
       "</style>\n",
       "<table border=\"1\" class=\"dataframe\">\n",
       "  <thead>\n",
       "    <tr style=\"text-align: right;\">\n",
       "      <th></th>\n",
       "      <th>planet_name</th>\n",
       "      <th>ra_event</th>\n",
       "      <th>dec_event</th>\n",
       "      <th>earth_massses</th>\n",
       "      <th>jupiter_masses</th>\n",
       "      <th>planet_orbmax</th>\n",
       "      <th>lens_distance</th>\n",
       "      <th>source_distance</th>\n",
       "      <th>einstein_cross_time</th>\n",
       "      <th>source_mag</th>\n",
       "      <th>...</th>\n",
       "      <th>planet_radius_earth</th>\n",
       "      <th>planet_radius_jupiter</th>\n",
       "      <th>planet_mass_earth</th>\n",
       "      <th>planet_mass_jupiter</th>\n",
       "      <th>eccentricity</th>\n",
       "      <th>stellar_eff_temp</th>\n",
       "      <th>stellar_radius</th>\n",
       "      <th>stellar_mass</th>\n",
       "      <th>dist_system</th>\n",
       "      <th>dist_system_ly</th>\n",
       "    </tr>\n",
       "  </thead>\n",
       "  <tbody>\n",
       "    <tr>\n",
       "      <th>0</th>\n",
       "      <td>KMT-2019-BLG-1953L b</td>\n",
       "      <td>17 56 27.90</td>\n",
       "      <td>-28 12 04.00</td>\n",
       "      <td>NaN</td>\n",
       "      <td>NaN</td>\n",
       "      <td>NaN</td>\n",
       "      <td>NaN</td>\n",
       "      <td>8000.0</td>\n",
       "      <td>16.18</td>\n",
       "      <td>19.100</td>\n",
       "      <td>...</td>\n",
       "      <td>14.10</td>\n",
       "      <td>1.260</td>\n",
       "      <td>200.00</td>\n",
       "      <td>0.6400</td>\n",
       "      <td>NaN</td>\n",
       "      <td>NaN</td>\n",
       "      <td>NaN</td>\n",
       "      <td>0.31</td>\n",
       "      <td>7040.0</td>\n",
       "      <td>22964.48</td>\n",
       "    </tr>\n",
       "    <tr>\n",
       "      <th>1</th>\n",
       "      <td>MOA-2013-BLG-605L b</td>\n",
       "      <td>17 58 42.85</td>\n",
       "      <td>-29 23 53.66</td>\n",
       "      <td>20.58</td>\n",
       "      <td>0.06475</td>\n",
       "      <td>4.18</td>\n",
       "      <td>3550.0</td>\n",
       "      <td>NaN</td>\n",
       "      <td>19.83</td>\n",
       "      <td>3.124</td>\n",
       "      <td>...</td>\n",
       "      <td>1.62</td>\n",
       "      <td>0.144</td>\n",
       "      <td>3.24</td>\n",
       "      <td>0.0102</td>\n",
       "      <td>NaN</td>\n",
       "      <td>NaN</td>\n",
       "      <td>NaN</td>\n",
       "      <td>0.02</td>\n",
       "      <td>850.0</td>\n",
       "      <td>2772.70</td>\n",
       "    </tr>\n",
       "    <tr>\n",
       "      <th>2</th>\n",
       "      <td>OGLE-2005-BLG-390L b</td>\n",
       "      <td>17 54 19.2</td>\n",
       "      <td>-30 22 38</td>\n",
       "      <td>5.50</td>\n",
       "      <td>0.01700</td>\n",
       "      <td>2.60</td>\n",
       "      <td>6600.0</td>\n",
       "      <td>8000.0</td>\n",
       "      <td>11.03</td>\n",
       "      <td>0.760</td>\n",
       "      <td>...</td>\n",
       "      <td>2.21</td>\n",
       "      <td>0.197</td>\n",
       "      <td>5.50</td>\n",
       "      <td>0.0170</td>\n",
       "      <td>NaN</td>\n",
       "      <td>NaN</td>\n",
       "      <td>NaN</td>\n",
       "      <td>0.22</td>\n",
       "      <td>6600.0</td>\n",
       "      <td>21529.20</td>\n",
       "    </tr>\n",
       "    <tr>\n",
       "      <th>3</th>\n",
       "      <td>OGLE-2012-BLG-0950L b</td>\n",
       "      <td>18 08 04.62</td>\n",
       "      <td>-29 43 53.7</td>\n",
       "      <td>36.00</td>\n",
       "      <td>0.11000</td>\n",
       "      <td>2.70</td>\n",
       "      <td>3400.0</td>\n",
       "      <td>NaN</td>\n",
       "      <td>68.50</td>\n",
       "      <td>1.900</td>\n",
       "      <td>...</td>\n",
       "      <td>6.56</td>\n",
       "      <td>0.585</td>\n",
       "      <td>35.00</td>\n",
       "      <td>0.1100</td>\n",
       "      <td>NaN</td>\n",
       "      <td>NaN</td>\n",
       "      <td>NaN</td>\n",
       "      <td>0.57</td>\n",
       "      <td>2600.0</td>\n",
       "      <td>8481.20</td>\n",
       "    </tr>\n",
       "    <tr>\n",
       "      <th>4</th>\n",
       "      <td>OGLE-2016-BLG-1067L b</td>\n",
       "      <td>18 12 49.08</td>\n",
       "      <td>-27 00 45.5</td>\n",
       "      <td>140.00</td>\n",
       "      <td>0.43000</td>\n",
       "      <td>1.71</td>\n",
       "      <td>3780.0</td>\n",
       "      <td>7660.0</td>\n",
       "      <td>27.60</td>\n",
       "      <td>13.170</td>\n",
       "      <td>...</td>\n",
       "      <td>14.30</td>\n",
       "      <td>1.280</td>\n",
       "      <td>140.00</td>\n",
       "      <td>0.4300</td>\n",
       "      <td>NaN</td>\n",
       "      <td>NaN</td>\n",
       "      <td>NaN</td>\n",
       "      <td>0.30</td>\n",
       "      <td>3730.0</td>\n",
       "      <td>12167.26</td>\n",
       "    </tr>\n",
       "  </tbody>\n",
       "</table>\n",
       "<p>5 rows × 32 columns</p>\n",
       "</div>"
      ],
      "text/plain": [
       "             planet_name     ra_event     dec_event  earth_massses  \\\n",
       "0   KMT-2019-BLG-1953L b  17 56 27.90  -28 12 04.00            NaN   \n",
       "1    MOA-2013-BLG-605L b  17 58 42.85  -29 23 53.66          20.58   \n",
       "2   OGLE-2005-BLG-390L b   17 54 19.2     -30 22 38           5.50   \n",
       "3  OGLE-2012-BLG-0950L b  18 08 04.62   -29 43 53.7          36.00   \n",
       "4  OGLE-2016-BLG-1067L b  18 12 49.08   -27 00 45.5         140.00   \n",
       "\n",
       "   jupiter_masses  planet_orbmax  lens_distance  source_distance  \\\n",
       "0             NaN            NaN            NaN           8000.0   \n",
       "1         0.06475           4.18         3550.0              NaN   \n",
       "2         0.01700           2.60         6600.0           8000.0   \n",
       "3         0.11000           2.70         3400.0              NaN   \n",
       "4         0.43000           1.71         3780.0           7660.0   \n",
       "\n",
       "   einstein_cross_time  source_mag  ...  planet_radius_earth  \\\n",
       "0                16.18      19.100  ...                14.10   \n",
       "1                19.83       3.124  ...                 1.62   \n",
       "2                11.03       0.760  ...                 2.21   \n",
       "3                68.50       1.900  ...                 6.56   \n",
       "4                27.60      13.170  ...                14.30   \n",
       "\n",
       "   planet_radius_jupiter  planet_mass_earth  planet_mass_jupiter eccentricity  \\\n",
       "0                  1.260             200.00               0.6400          NaN   \n",
       "1                  0.144               3.24               0.0102          NaN   \n",
       "2                  0.197               5.50               0.0170          NaN   \n",
       "3                  0.585              35.00               0.1100          NaN   \n",
       "4                  1.280             140.00               0.4300          NaN   \n",
       "\n",
       "   stellar_eff_temp  stellar_radius stellar_mass  dist_system dist_system_ly  \n",
       "0               NaN             NaN         0.31       7040.0       22964.48  \n",
       "1               NaN             NaN         0.02        850.0        2772.70  \n",
       "2               NaN             NaN         0.22       6600.0       21529.20  \n",
       "3               NaN             NaN         0.57       2600.0        8481.20  \n",
       "4               NaN             NaN         0.30       3730.0       12167.26  \n",
       "\n",
       "[5 rows x 32 columns]"
      ]
     },
     "execution_count": 66,
     "metadata": {},
     "output_type": "execute_result"
    }
   ],
   "source": [
    "merged.head()"
   ]
  },
  {
   "cell_type": "code",
   "execution_count": 67,
   "id": "e98d4d69",
   "metadata": {},
   "outputs": [
    {
     "data": {
      "text/plain": [
       "(114, 32)"
      ]
     },
     "execution_count": 67,
     "metadata": {},
     "output_type": "execute_result"
    }
   ],
   "source": [
    "merged.shape"
   ]
  },
  {
   "cell_type": "markdown",
   "id": "350c6dc8",
   "metadata": {},
   "source": [
    "Las columnas earth_masses y jupiter_massses seran remplazadas por planet_mass_earth y planet_mass_jupiter.\n",
    "\n",
    "Mientras que las columnas orbital_period, stellar_eff_temp, stellar_radius y eccentricity seran eliminadas del dataframe debido a la gran cantidad de valores nulos que tienen para planetas detectatos por microlensing. "
   ]
  },
  {
   "cell_type": "code",
   "execution_count": 68,
   "id": "32011312",
   "metadata": {},
   "outputs": [
    {
     "data": {
      "text/plain": [
       "planet_name                0.000000\n",
       "ra_event                   0.000000\n",
       "dec_event                  0.000000\n",
       "earth_massses              0.087719\n",
       "jupiter_masses             0.087719\n",
       "planet_orbmax              0.087719\n",
       "lens_distance              0.096491\n",
       "source_distance            0.666667\n",
       "einstein_cross_time        0.026316\n",
       "source_mag                 0.035088\n",
       "planet_star_mass_ratio     0.271930\n",
       "angular_einstein_radius    0.175439\n",
       "lens_distance_ly           0.096491\n",
       "source_distance_ly         0.666667\n",
       "hostname                   0.000000\n",
       "sys_num_stars              0.000000\n",
       "sys_num_planet             0.000000\n",
       "discovery_method           0.000000\n",
       "discovery_year             0.000000\n",
       "discovery_telescope        0.000000\n",
       "orbital_period             0.921053\n",
       "orbital_semi_major         0.008772\n",
       "planet_radius_earth        0.000000\n",
       "planet_radius_jupiter      0.000000\n",
       "planet_mass_earth          0.000000\n",
       "planet_mass_jupiter        0.000000\n",
       "eccentricity               0.982456\n",
       "stellar_eff_temp           0.973684\n",
       "stellar_radius             0.991228\n",
       "stellar_mass               0.000000\n",
       "dist_system                0.017544\n",
       "dist_system_ly             0.017544\n",
       "dtype: float64"
      ]
     },
     "execution_count": 68,
     "metadata": {},
     "output_type": "execute_result"
    }
   ],
   "source": [
    "merged.isnull().mean()"
   ]
  },
  {
   "cell_type": "code",
   "execution_count": 69,
   "id": "0ba67856",
   "metadata": {},
   "outputs": [],
   "source": [
    "merged.drop(columns=['earth_massses', 'jupiter_masses', 'orbital_period', 'stellar_eff_temp', 'stellar_radius', 'eccentricity'], inplace=True)"
   ]
  },
  {
   "cell_type": "code",
   "execution_count": 70,
   "id": "45efc74b",
   "metadata": {
    "scrolled": true
   },
   "outputs": [
    {
     "data": {
      "text/html": [
       "<div>\n",
       "<style scoped>\n",
       "    .dataframe tbody tr th:only-of-type {\n",
       "        vertical-align: middle;\n",
       "    }\n",
       "\n",
       "    .dataframe tbody tr th {\n",
       "        vertical-align: top;\n",
       "    }\n",
       "\n",
       "    .dataframe thead th {\n",
       "        text-align: right;\n",
       "    }\n",
       "</style>\n",
       "<table border=\"1\" class=\"dataframe\">\n",
       "  <thead>\n",
       "    <tr style=\"text-align: right;\">\n",
       "      <th></th>\n",
       "      <th>planet_name</th>\n",
       "      <th>ra_event</th>\n",
       "      <th>dec_event</th>\n",
       "      <th>planet_orbmax</th>\n",
       "      <th>lens_distance</th>\n",
       "      <th>source_distance</th>\n",
       "      <th>einstein_cross_time</th>\n",
       "      <th>source_mag</th>\n",
       "      <th>planet_star_mass_ratio</th>\n",
       "      <th>angular_einstein_radius</th>\n",
       "      <th>...</th>\n",
       "      <th>discovery_year</th>\n",
       "      <th>discovery_telescope</th>\n",
       "      <th>orbital_semi_major</th>\n",
       "      <th>planet_radius_earth</th>\n",
       "      <th>planet_radius_jupiter</th>\n",
       "      <th>planet_mass_earth</th>\n",
       "      <th>planet_mass_jupiter</th>\n",
       "      <th>stellar_mass</th>\n",
       "      <th>dist_system</th>\n",
       "      <th>dist_system_ly</th>\n",
       "    </tr>\n",
       "  </thead>\n",
       "  <tbody>\n",
       "    <tr>\n",
       "      <th>0</th>\n",
       "      <td>KMT-2019-BLG-1953L b</td>\n",
       "      <td>17 56 27.90</td>\n",
       "      <td>-28 12 04.00</td>\n",
       "      <td>NaN</td>\n",
       "      <td>NaN</td>\n",
       "      <td>8000.0</td>\n",
       "      <td>16.18</td>\n",
       "      <td>19.100</td>\n",
       "      <td>20.680</td>\n",
       "      <td>0.250</td>\n",
       "      <td>...</td>\n",
       "      <td>2020</td>\n",
       "      <td>1.6 m wide-field telescope</td>\n",
       "      <td>NaN</td>\n",
       "      <td>14.10</td>\n",
       "      <td>1.260</td>\n",
       "      <td>200.00</td>\n",
       "      <td>0.6400</td>\n",
       "      <td>0.31</td>\n",
       "      <td>7040.0</td>\n",
       "      <td>22964.48</td>\n",
       "    </tr>\n",
       "    <tr>\n",
       "      <th>1</th>\n",
       "      <td>MOA-2013-BLG-605L b</td>\n",
       "      <td>17 58 42.85</td>\n",
       "      <td>-29 23 53.66</td>\n",
       "      <td>4.18</td>\n",
       "      <td>3550.0</td>\n",
       "      <td>NaN</td>\n",
       "      <td>19.83</td>\n",
       "      <td>3.124</td>\n",
       "      <td>18.112</td>\n",
       "      <td>0.503</td>\n",
       "      <td>...</td>\n",
       "      <td>2016</td>\n",
       "      <td>1.8 m MOA Telescope</td>\n",
       "      <td>0.93</td>\n",
       "      <td>1.62</td>\n",
       "      <td>0.144</td>\n",
       "      <td>3.24</td>\n",
       "      <td>0.0102</td>\n",
       "      <td>0.02</td>\n",
       "      <td>850.0</td>\n",
       "      <td>2772.70</td>\n",
       "    </tr>\n",
       "    <tr>\n",
       "      <th>2</th>\n",
       "      <td>OGLE-2005-BLG-390L b</td>\n",
       "      <td>17 54 19.2</td>\n",
       "      <td>-30 22 38</td>\n",
       "      <td>2.60</td>\n",
       "      <td>6600.0</td>\n",
       "      <td>8000.0</td>\n",
       "      <td>11.03</td>\n",
       "      <td>0.760</td>\n",
       "      <td>NaN</td>\n",
       "      <td>NaN</td>\n",
       "      <td>...</td>\n",
       "      <td>2005</td>\n",
       "      <td>1.3 m Warsaw University Telescope</td>\n",
       "      <td>2.60</td>\n",
       "      <td>2.21</td>\n",
       "      <td>0.197</td>\n",
       "      <td>5.50</td>\n",
       "      <td>0.0170</td>\n",
       "      <td>0.22</td>\n",
       "      <td>6600.0</td>\n",
       "      <td>21529.20</td>\n",
       "    </tr>\n",
       "    <tr>\n",
       "      <th>3</th>\n",
       "      <td>OGLE-2012-BLG-0950L b</td>\n",
       "      <td>18 08 04.62</td>\n",
       "      <td>-29 43 53.7</td>\n",
       "      <td>2.70</td>\n",
       "      <td>3400.0</td>\n",
       "      <td>NaN</td>\n",
       "      <td>68.50</td>\n",
       "      <td>1.900</td>\n",
       "      <td>19.300</td>\n",
       "      <td>0.860</td>\n",
       "      <td>...</td>\n",
       "      <td>2016</td>\n",
       "      <td>1.3 m Warsaw University Telescope</td>\n",
       "      <td>2.60</td>\n",
       "      <td>6.56</td>\n",
       "      <td>0.585</td>\n",
       "      <td>35.00</td>\n",
       "      <td>0.1100</td>\n",
       "      <td>0.57</td>\n",
       "      <td>2600.0</td>\n",
       "      <td>8481.20</td>\n",
       "    </tr>\n",
       "    <tr>\n",
       "      <th>4</th>\n",
       "      <td>OGLE-2016-BLG-1067L b</td>\n",
       "      <td>18 12 49.08</td>\n",
       "      <td>-27 00 45.5</td>\n",
       "      <td>1.71</td>\n",
       "      <td>3780.0</td>\n",
       "      <td>7660.0</td>\n",
       "      <td>27.60</td>\n",
       "      <td>13.170</td>\n",
       "      <td>18.800</td>\n",
       "      <td>NaN</td>\n",
       "      <td>...</td>\n",
       "      <td>2019</td>\n",
       "      <td>1.3 m Warsaw University Telescope</td>\n",
       "      <td>1.70</td>\n",
       "      <td>14.30</td>\n",
       "      <td>1.280</td>\n",
       "      <td>140.00</td>\n",
       "      <td>0.4300</td>\n",
       "      <td>0.30</td>\n",
       "      <td>3730.0</td>\n",
       "      <td>12167.26</td>\n",
       "    </tr>\n",
       "  </tbody>\n",
       "</table>\n",
       "<p>5 rows × 26 columns</p>\n",
       "</div>"
      ],
      "text/plain": [
       "             planet_name     ra_event     dec_event  planet_orbmax  \\\n",
       "0   KMT-2019-BLG-1953L b  17 56 27.90  -28 12 04.00            NaN   \n",
       "1    MOA-2013-BLG-605L b  17 58 42.85  -29 23 53.66           4.18   \n",
       "2   OGLE-2005-BLG-390L b   17 54 19.2     -30 22 38           2.60   \n",
       "3  OGLE-2012-BLG-0950L b  18 08 04.62   -29 43 53.7           2.70   \n",
       "4  OGLE-2016-BLG-1067L b  18 12 49.08   -27 00 45.5           1.71   \n",
       "\n",
       "   lens_distance  source_distance  einstein_cross_time  source_mag  \\\n",
       "0            NaN           8000.0                16.18      19.100   \n",
       "1         3550.0              NaN                19.83       3.124   \n",
       "2         6600.0           8000.0                11.03       0.760   \n",
       "3         3400.0              NaN                68.50       1.900   \n",
       "4         3780.0           7660.0                27.60      13.170   \n",
       "\n",
       "   planet_star_mass_ratio  angular_einstein_radius  ...  discovery_year  \\\n",
       "0                  20.680                    0.250  ...            2020   \n",
       "1                  18.112                    0.503  ...            2016   \n",
       "2                     NaN                      NaN  ...            2005   \n",
       "3                  19.300                    0.860  ...            2016   \n",
       "4                  18.800                      NaN  ...            2019   \n",
       "\n",
       "                 discovery_telescope orbital_semi_major  planet_radius_earth  \\\n",
       "0         1.6 m wide-field telescope                NaN                14.10   \n",
       "1                1.8 m MOA Telescope               0.93                 1.62   \n",
       "2  1.3 m Warsaw University Telescope               2.60                 2.21   \n",
       "3  1.3 m Warsaw University Telescope               2.60                 6.56   \n",
       "4  1.3 m Warsaw University Telescope               1.70                14.30   \n",
       "\n",
       "   planet_radius_jupiter planet_mass_earth  planet_mass_jupiter stellar_mass  \\\n",
       "0                  1.260            200.00               0.6400         0.31   \n",
       "1                  0.144              3.24               0.0102         0.02   \n",
       "2                  0.197              5.50               0.0170         0.22   \n",
       "3                  0.585             35.00               0.1100         0.57   \n",
       "4                  1.280            140.00               0.4300         0.30   \n",
       "\n",
       "   dist_system  dist_system_ly  \n",
       "0       7040.0        22964.48  \n",
       "1        850.0         2772.70  \n",
       "2       6600.0        21529.20  \n",
       "3       2600.0         8481.20  \n",
       "4       3730.0        12167.26  \n",
       "\n",
       "[5 rows x 26 columns]"
      ]
     },
     "execution_count": 70,
     "metadata": {},
     "output_type": "execute_result"
    }
   ],
   "source": [
    "merged.head()"
   ]
  },
  {
   "cell_type": "code",
   "execution_count": 71,
   "id": "2918f464",
   "metadata": {},
   "outputs": [
    {
     "data": {
      "text/plain": [
       "MOA-2010-BLG-328L b        1\n",
       "OGLE-2007-BLG-349L AB c    1\n",
       "OGLE-2013-BLG-0102L b      1\n",
       "OGLE-2006-BLG-109L c       1\n",
       "OGLE-2015-BLG-1670L b      1\n",
       "                          ..\n",
       "UKIRT-2017-BLG-001L b      1\n",
       "OGLE-2012-BLG-0724L b      1\n",
       "OGLE-2017-BLG-1140L b      1\n",
       "OGLE-2013-BLG-0341L B b    1\n",
       "KMT-2018-BLG-1990L b       1\n",
       "Name: planet_name, Length: 114, dtype: int64"
      ]
     },
     "execution_count": 71,
     "metadata": {},
     "output_type": "execute_result"
    }
   ],
   "source": [
    "merged['planet_name'].value_counts()"
   ]
  },
  {
   "cell_type": "markdown",
   "id": "b9cb380a",
   "metadata": {},
   "source": [
    "### Analizando ps_comp"
   ]
  },
  {
   "cell_type": "markdown",
   "id": "1cf389cf",
   "metadata": {},
   "source": [
    "La mayoría de exoplanetas han sido descubiertos por el método de tránsito "
   ]
  },
  {
   "cell_type": "code",
   "execution_count": 72,
   "id": "ad9793b7",
   "metadata": {},
   "outputs": [
    {
     "data": {
      "text/plain": [
       "Transit                          3416\n",
       "Radial Velocity                   879\n",
       "Microlensing                      114\n",
       "Imaging                            54\n",
       "Transit Timing Variations          22\n",
       "Eclipse Timing Variations          16\n",
       "Orbital Brightness Modulation       9\n",
       "Pulsar Timing                       7\n",
       "Pulsation Timing Variations         2\n",
       "Disk Kinematics                     1\n",
       "Astrometry                          1\n",
       "Name: discovery_method, dtype: int64"
      ]
     },
     "execution_count": 72,
     "metadata": {},
     "output_type": "execute_result"
    }
   ],
   "source": [
    "ps_comp['discovery_method'].value_counts()"
   ]
  },
  {
   "attachments": {
    "image.png": {
     "image/png": "[encoded data removed]"
    }
   },
   "cell_type": "markdown",
   "id": "8cfbe22c",
   "metadata": {},
   "source": [
    "![image.png](attachment:image.png)"
   ]
  },
  {
   "cell_type": "code",
   "execution_count": 73,
   "id": "9de2e0c0",
   "metadata": {
    "collapsed": true
   },
   "outputs": [
    {
     "data": {
      "image/png": "[encoded data removed]",
      "text/plain": [
       "<Figure size 720x720 with 1 Axes>"
      ]
     },
     "metadata": {},
     "output_type": "display_data"
    }
   ],
   "source": [
    "#sns.set(context='paper', style='darkgrid', rc={'figure.figsize': (10, 10)})\n",
    "#bar = ps_comp['discovery_method'].value_counts().plot(kind='bar')\n",
    "#fig_1 = bar.get_figure()\n",
    "#fig_1.savefig('bar_discovery_method')"
   ]
  },
  {
   "cell_type": "code",
   "execution_count": 151,
   "id": "ca1e4d46",
   "metadata": {},
   "outputs": [
    {
     "data": {
      "image/png": "[encoded data removed]",
      "text/plain": [
       "<Figure size 1296x720 with 1 Axes>"
      ]
     },
     "metadata": {},
     "output_type": "display_data"
    }
   ],
   "source": [
    "sns.set(context='paper', style='darkgrid', rc={'figure.figsize': (18, 10)})\n",
    "ax = sns.countplot(x='discovery_method', data=ps_comp)\n",
    "\n",
    "ax.set_title('Number of Planets by Discovery Method', fontsize=30)\n",
    "ax.set(xlabel=None)\n",
    "ax.set_xticklabels(ax.get_xticklabels(), rotation=55, size=15);"
   ]
  },
  {
   "cell_type": "markdown",
   "id": "e4f6e185",
   "metadata": {},
   "source": [
    "**El de mayor periodo orbital**"
   ]
  },
  {
   "cell_type": "code",
   "execution_count": 74,
   "id": "a0ead7d5",
   "metadata": {
    "scrolled": true
   },
   "outputs": [
    {
     "data": {
      "text/html": [
       "<div>\n",
       "<style scoped>\n",
       "    .dataframe tbody tr th:only-of-type {\n",
       "        vertical-align: middle;\n",
       "    }\n",
       "\n",
       "    .dataframe tbody tr th {\n",
       "        vertical-align: top;\n",
       "    }\n",
       "\n",
       "    .dataframe thead th {\n",
       "        text-align: right;\n",
       "    }\n",
       "</style>\n",
       "<table border=\"1\" class=\"dataframe\">\n",
       "  <thead>\n",
       "    <tr style=\"text-align: right;\">\n",
       "      <th></th>\n",
       "      <th>planet_name</th>\n",
       "      <th>hostname</th>\n",
       "      <th>sys_num_stars</th>\n",
       "      <th>sys_num_planet</th>\n",
       "      <th>discovery_method</th>\n",
       "      <th>discovery_year</th>\n",
       "      <th>discovery_telescope</th>\n",
       "      <th>orbital_period</th>\n",
       "      <th>orbital_semi_major</th>\n",
       "      <th>planet_radius_earth</th>\n",
       "      <th>planet_radius_jupiter</th>\n",
       "      <th>planet_mass_earth</th>\n",
       "      <th>planet_mass_jupiter</th>\n",
       "      <th>eccentricity</th>\n",
       "      <th>stellar_eff_temp</th>\n",
       "      <th>stellar_radius</th>\n",
       "      <th>stellar_mass</th>\n",
       "      <th>dist_system</th>\n",
       "      <th>dist_system_ly</th>\n",
       "    </tr>\n",
       "  </thead>\n",
       "  <tbody>\n",
       "    <tr>\n",
       "      <th>3489</th>\n",
       "      <td>COCONUTS-2 b</td>\n",
       "      <td>COCONUTS-2 A</td>\n",
       "      <td>1</td>\n",
       "      <td>1</td>\n",
       "      <td>Imaging</td>\n",
       "      <td>2021</td>\n",
       "      <td>3.2 m telescope</td>\n",
       "      <td>402000000.0</td>\n",
       "      <td>7506.0</td>\n",
       "      <td>12.442</td>\n",
       "      <td>1.11</td>\n",
       "      <td>2002.31896</td>\n",
       "      <td>6.3</td>\n",
       "      <td>NaN</td>\n",
       "      <td>3406.0</td>\n",
       "      <td>0.39</td>\n",
       "      <td>0.37</td>\n",
       "      <td>10.8864</td>\n",
       "      <td>35.511437</td>\n",
       "    </tr>\n",
       "  </tbody>\n",
       "</table>\n",
       "</div>"
      ],
      "text/plain": [
       "       planet_name      hostname  sys_num_stars  sys_num_planet  \\\n",
       "3489  COCONUTS-2 b  COCONUTS-2 A              1               1   \n",
       "\n",
       "     discovery_method  discovery_year discovery_telescope  orbital_period  \\\n",
       "3489          Imaging            2021     3.2 m telescope     402000000.0   \n",
       "\n",
       "      orbital_semi_major  planet_radius_earth  planet_radius_jupiter  \\\n",
       "3489              7506.0               12.442                   1.11   \n",
       "\n",
       "      planet_mass_earth  planet_mass_jupiter  eccentricity  stellar_eff_temp  \\\n",
       "3489         2002.31896                  6.3           NaN            3406.0   \n",
       "\n",
       "      stellar_radius  stellar_mass  dist_system  dist_system_ly  \n",
       "3489            0.39          0.37      10.8864       35.511437  "
      ]
     },
     "execution_count": 74,
     "metadata": {},
     "output_type": "execute_result"
    }
   ],
   "source": [
    "ps_comp.sort_values('orbital_period', ascending=False).head(1)"
   ]
  },
  {
   "cell_type": "markdown",
   "id": "1c58a855",
   "metadata": {},
   "source": [
    "**El de menor periodo orbital**"
   ]
  },
  {
   "cell_type": "code",
   "execution_count": 75,
   "id": "02b12832",
   "metadata": {
    "scrolled": true
   },
   "outputs": [
    {
     "data": {
      "text/html": [
       "<div>\n",
       "<style scoped>\n",
       "    .dataframe tbody tr th:only-of-type {\n",
       "        vertical-align: middle;\n",
       "    }\n",
       "\n",
       "    .dataframe tbody tr th {\n",
       "        vertical-align: top;\n",
       "    }\n",
       "\n",
       "    .dataframe thead th {\n",
       "        text-align: right;\n",
       "    }\n",
       "</style>\n",
       "<table border=\"1\" class=\"dataframe\">\n",
       "  <thead>\n",
       "    <tr style=\"text-align: right;\">\n",
       "      <th></th>\n",
       "      <th>planet_name</th>\n",
       "      <th>hostname</th>\n",
       "      <th>sys_num_stars</th>\n",
       "      <th>sys_num_planet</th>\n",
       "      <th>discovery_method</th>\n",
       "      <th>discovery_year</th>\n",
       "      <th>discovery_telescope</th>\n",
       "      <th>orbital_period</th>\n",
       "      <th>orbital_semi_major</th>\n",
       "      <th>planet_radius_earth</th>\n",
       "      <th>planet_radius_jupiter</th>\n",
       "      <th>planet_mass_earth</th>\n",
       "      <th>planet_mass_jupiter</th>\n",
       "      <th>eccentricity</th>\n",
       "      <th>stellar_eff_temp</th>\n",
       "      <th>stellar_radius</th>\n",
       "      <th>stellar_mass</th>\n",
       "      <th>dist_system</th>\n",
       "      <th>dist_system_ly</th>\n",
       "    </tr>\n",
       "  </thead>\n",
       "  <tbody>\n",
       "    <tr>\n",
       "      <th>4162</th>\n",
       "      <td>PSR J1719-1438 b</td>\n",
       "      <td>PSR J1719-1438</td>\n",
       "      <td>1</td>\n",
       "      <td>1</td>\n",
       "      <td>Pulsar Timing</td>\n",
       "      <td>2011</td>\n",
       "      <td>64 m Parkes Radio Telescope</td>\n",
       "      <td>0.090706</td>\n",
       "      <td>0.0044</td>\n",
       "      <td>NaN</td>\n",
       "      <td>NaN</td>\n",
       "      <td>382.8</td>\n",
       "      <td>1.2</td>\n",
       "      <td>0.06</td>\n",
       "      <td>4500.0</td>\n",
       "      <td>NaN</td>\n",
       "      <td>1.4</td>\n",
       "      <td>1200.0</td>\n",
       "      <td>3914.4</td>\n",
       "    </tr>\n",
       "  </tbody>\n",
       "</table>\n",
       "</div>"
      ],
      "text/plain": [
       "           planet_name        hostname  sys_num_stars  sys_num_planet  \\\n",
       "4162  PSR J1719-1438 b  PSR J1719-1438              1               1   \n",
       "\n",
       "     discovery_method  discovery_year          discovery_telescope  \\\n",
       "4162    Pulsar Timing            2011  64 m Parkes Radio Telescope   \n",
       "\n",
       "      orbital_period  orbital_semi_major  planet_radius_earth  \\\n",
       "4162        0.090706              0.0044                  NaN   \n",
       "\n",
       "      planet_radius_jupiter  planet_mass_earth  planet_mass_jupiter  \\\n",
       "4162                    NaN              382.8                  1.2   \n",
       "\n",
       "      eccentricity  stellar_eff_temp  stellar_radius  stellar_mass  \\\n",
       "4162          0.06            4500.0             NaN           1.4   \n",
       "\n",
       "      dist_system  dist_system_ly  \n",
       "4162       1200.0          3914.4  "
      ]
     },
     "execution_count": 75,
     "metadata": {},
     "output_type": "execute_result"
    }
   ],
   "source": [
    "ps_comp.sort_values('orbital_period').head(1)"
   ]
  },
  {
   "cell_type": "code",
   "execution_count": 76,
   "id": "d878c879",
   "metadata": {
    "collapsed": true
   },
   "outputs": [
    {
     "data": {
      "image/png": "[encoded data removed]",
      "text/plain": [
       "<Figure size 720x720 with 1 Axes>"
      ]
     },
     "metadata": {},
     "output_type": "display_data"
    }
   ],
   "source": [
    "#sns.set(context='paper', style='darkgrid', rc={'figure.figsize': (10, 10)})\n",
    "#bar_year = ps_comp['discovery_year'].value_counts().plot(kind='bar')\n",
    "#fig_2 = bar_year.get_figure()\n",
    "#fig_2.savefig('bar_year.png')"
   ]
  },
  {
   "cell_type": "markdown",
   "id": "f9d70720",
   "metadata": {},
   "source": [
    "# Quieres colocarlos como xticks en la gráfica de abajo"
   ]
  },
  {
   "cell_type": "code",
   "execution_count": 140,
   "id": "b8d69f44",
   "metadata": {
    "scrolled": true
   },
   "outputs": [
    {
     "data": {
      "text/plain": [
       "array([2020, 2013, 2016, 2018, 2010, 2005, 2007, 2008, 2012, 2015, 2017,\n",
       "       2019, 2014, 2009, 1996, 2011, 2021, 2000, 2004, 1999, 2006, 2001,\n",
       "       2002, 2003, 1998, 1992, 1995, 1997, 1994, 1989], dtype=int64)"
      ]
     },
     "execution_count": 140,
     "metadata": {},
     "output_type": "execute_result"
    }
   ],
   "source": [
    "ps_comp['discovery_year'].unique()"
   ]
  },
  {
   "cell_type": "code",
   "execution_count": 156,
   "id": "2105e2fc",
   "metadata": {},
   "outputs": [
    {
     "data": {
      "text/plain": [
       "[Text(0, 0.5, '')]"
      ]
     },
     "execution_count": 156,
     "metadata": {},
     "output_type": "execute_result"
    },
    {
     "data": {
      "image/png": "[encoded data removed]",
      "text/plain": [
       "<Figure size 1296x720 with 1 Axes>"
      ]
     },
     "metadata": {},
     "output_type": "display_data"
    }
   ],
   "source": [
    "\n",
    "ax = sns.lineplot(data=ps_comp['discovery_year'].value_counts())\n",
    "ax.set_title('Number of Discoveries by Year', fontsize=30)\n",
    "ax.set(ylabel=None)"
   ]
  },
  {
   "cell_type": "code",
   "execution_count": 78,
   "id": "f9823634",
   "metadata": {},
   "outputs": [],
   "source": [
    "correlation = ps_comp.corr()"
   ]
  },
  {
   "cell_type": "code",
   "execution_count": 83,
   "id": "bf31cb80",
   "metadata": {},
   "outputs": [
    {
     "data": {
      "text/plain": [
       "<AxesSubplot:>"
      ]
     },
     "execution_count": 83,
     "metadata": {},
     "output_type": "execute_result"
    },
    {
     "data": {
      "image/png": "[encoded data removed]",
      "text/plain": [
       "<Figure size 1080x864 with 2 Axes>"
      ]
     },
     "metadata": {},
     "output_type": "display_data"
    }
   ],
   "source": [
    "sns.set(context='paper', style='darkgrid', rc={'figure.figsize': (15, 12)})\n",
    "sns.heatmap(correlation, annot=True, )"
   ]
  },
  {
   "cell_type": "code",
   "execution_count": null,
   "id": "316168a0",
   "metadata": {},
   "outputs": [],
   "source": [
    "sns"
   ]
  },
  {
   "cell_type": "code",
   "execution_count": 99,
   "id": "f31380ec",
   "metadata": {},
   "outputs": [
    {
     "data": {
      "text/plain": [
       "Index(['planet_name', 'hostname', 'sys_num_stars', 'sys_num_planet',\n",
       "       'discovery_method', 'discovery_year', 'discovery_telescope',\n",
       "       'orbital_period', 'orbital_semi_major', 'planet_radius_earth',\n",
       "       'planet_radius_jupiter', 'planet_mass_earth', 'planet_mass_jupiter',\n",
       "       'eccentricity', 'stellar_eff_temp', 'stellar_radius', 'stellar_mass',\n",
       "       'dist_system', 'dist_system_ly'],\n",
       "      dtype='object')"
      ]
     },
     "execution_count": 99,
     "metadata": {},
     "output_type": "execute_result"
    }
   ],
   "source": [
    "ps_comp.columns"
   ]
  },
  {
   "cell_type": "code",
   "execution_count": 116,
   "id": "aeaf7d34",
   "metadata": {},
   "outputs": [
    {
     "data": {
      "text/plain": [
       "<AxesSubplot:xlabel='orbital_period', ylabel='planet_mass_earth'>"
      ]
     },
     "execution_count": 116,
     "metadata": {},
     "output_type": "execute_result"
    },
    {
     "data": {
      "image/png": "[encoded data removed]",
      "text/plain": [
       "<Figure size 720x720 with 1 Axes>"
      ]
     },
     "metadata": {},
     "output_type": "display_data"
    }
   ],
   "source": [
    "sns.set(context='paper', style='darkgrid', rc={'figure.figsize': (10, 10)})\n",
    "ax = sns.scatterplot(x='orbital_period', y='planet_mass_earth', data=ps_comp, hue='discovery_method')\n",
    "ax.xlimit()"
   ]
  },
  {
   "cell_type": "code",
   "execution_count": 119,
   "id": "f524736d",
   "metadata": {},
   "outputs": [
    {
     "data": {
      "text/html": [
       "<div>\n",
       "<style scoped>\n",
       "    .dataframe tbody tr th:only-of-type {\n",
       "        vertical-align: middle;\n",
       "    }\n",
       "\n",
       "    .dataframe tbody tr th {\n",
       "        vertical-align: top;\n",
       "    }\n",
       "\n",
       "    .dataframe thead th {\n",
       "        text-align: right;\n",
       "    }\n",
       "</style>\n",
       "<table border=\"1\" class=\"dataframe\">\n",
       "  <thead>\n",
       "    <tr style=\"text-align: right;\">\n",
       "      <th></th>\n",
       "      <th>planet_name</th>\n",
       "      <th>hostname</th>\n",
       "      <th>sys_num_stars</th>\n",
       "      <th>sys_num_planet</th>\n",
       "      <th>discovery_method</th>\n",
       "      <th>discovery_year</th>\n",
       "      <th>discovery_telescope</th>\n",
       "      <th>orbital_period</th>\n",
       "      <th>orbital_semi_major</th>\n",
       "      <th>planet_radius_earth</th>\n",
       "      <th>planet_radius_jupiter</th>\n",
       "      <th>planet_mass_earth</th>\n",
       "      <th>planet_mass_jupiter</th>\n",
       "      <th>eccentricity</th>\n",
       "      <th>stellar_eff_temp</th>\n",
       "      <th>stellar_radius</th>\n",
       "      <th>stellar_mass</th>\n",
       "      <th>dist_system</th>\n",
       "      <th>dist_system_ly</th>\n",
       "    </tr>\n",
       "  </thead>\n",
       "  <tbody>\n",
       "    <tr>\n",
       "      <th>3489</th>\n",
       "      <td>COCONUTS-2 b</td>\n",
       "      <td>COCONUTS-2 A</td>\n",
       "      <td>1</td>\n",
       "      <td>1</td>\n",
       "      <td>Imaging</td>\n",
       "      <td>2021</td>\n",
       "      <td>3.2 m telescope</td>\n",
       "      <td>402000000.0</td>\n",
       "      <td>7506.0</td>\n",
       "      <td>12.442</td>\n",
       "      <td>1.11</td>\n",
       "      <td>2002.31896</td>\n",
       "      <td>6.3</td>\n",
       "      <td>NaN</td>\n",
       "      <td>3406.00</td>\n",
       "      <td>0.39</td>\n",
       "      <td>0.37</td>\n",
       "      <td>10.886400</td>\n",
       "      <td>35.511437</td>\n",
       "    </tr>\n",
       "    <tr>\n",
       "      <th>4434</th>\n",
       "      <td>CFHTWIR-Oph 98 b</td>\n",
       "      <td>CFHTWIR-Oph 98 A</td>\n",
       "      <td>1</td>\n",
       "      <td>1</td>\n",
       "      <td>Imaging</td>\n",
       "      <td>2021</td>\n",
       "      <td>2.4 m Hubble Space Telescope</td>\n",
       "      <td>8040000.0</td>\n",
       "      <td>200.0</td>\n",
       "      <td>20.849</td>\n",
       "      <td>1.86</td>\n",
       "      <td>2479.06157</td>\n",
       "      <td>7.8</td>\n",
       "      <td>NaN</td>\n",
       "      <td>2320.00</td>\n",
       "      <td>0.24</td>\n",
       "      <td>0.01</td>\n",
       "      <td>NaN</td>\n",
       "      <td>NaN</td>\n",
       "    </tr>\n",
       "    <tr>\n",
       "      <th>1515</th>\n",
       "      <td>Oph 11 b</td>\n",
       "      <td>Oph 11</td>\n",
       "      <td>1</td>\n",
       "      <td>1</td>\n",
       "      <td>Imaging</td>\n",
       "      <td>2006</td>\n",
       "      <td>8.19 m Gemini North Telescope</td>\n",
       "      <td>7300000.0</td>\n",
       "      <td>243.0</td>\n",
       "      <td>12.300</td>\n",
       "      <td>1.10</td>\n",
       "      <td>4449.62000</td>\n",
       "      <td>14.0</td>\n",
       "      <td>NaN</td>\n",
       "      <td>2375.00</td>\n",
       "      <td>0.23</td>\n",
       "      <td>0.02</td>\n",
       "      <td>136.165592</td>\n",
       "      <td>444.172161</td>\n",
       "    </tr>\n",
       "    <tr>\n",
       "      <th>1988</th>\n",
       "      <td>HR 8799 b</td>\n",
       "      <td>HR 8799</td>\n",
       "      <td>1</td>\n",
       "      <td>4</td>\n",
       "      <td>Imaging</td>\n",
       "      <td>2008</td>\n",
       "      <td>8.19 m Gemini North Telescope</td>\n",
       "      <td>170000.0</td>\n",
       "      <td>68.0</td>\n",
       "      <td>13.000</td>\n",
       "      <td>1.20</td>\n",
       "      <td>2000.00000</td>\n",
       "      <td>7.0</td>\n",
       "      <td>NaN</td>\n",
       "      <td>7204.58</td>\n",
       "      <td>1.49</td>\n",
       "      <td>1.61</td>\n",
       "      <td>41.244100</td>\n",
       "      <td>134.538254</td>\n",
       "    </tr>\n",
       "    <tr>\n",
       "      <th>667</th>\n",
       "      <td>HR 8799 c</td>\n",
       "      <td>HR 8799</td>\n",
       "      <td>1</td>\n",
       "      <td>4</td>\n",
       "      <td>Imaging</td>\n",
       "      <td>2008</td>\n",
       "      <td>8.19 m Gemini North Telescope</td>\n",
       "      <td>69000.0</td>\n",
       "      <td>38.0</td>\n",
       "      <td>13.000</td>\n",
       "      <td>1.20</td>\n",
       "      <td>3000.00000</td>\n",
       "      <td>10.0</td>\n",
       "      <td>0.5</td>\n",
       "      <td>7204.58</td>\n",
       "      <td>1.49</td>\n",
       "      <td>1.61</td>\n",
       "      <td>41.244100</td>\n",
       "      <td>134.538254</td>\n",
       "    </tr>\n",
       "  </tbody>\n",
       "</table>\n",
       "</div>"
      ],
      "text/plain": [
       "           planet_name          hostname  sys_num_stars  sys_num_planet  \\\n",
       "3489      COCONUTS-2 b      COCONUTS-2 A              1               1   \n",
       "4434  CFHTWIR-Oph 98 b  CFHTWIR-Oph 98 A              1               1   \n",
       "1515          Oph 11 b            Oph 11              1               1   \n",
       "1988         HR 8799 b           HR 8799              1               4   \n",
       "667          HR 8799 c           HR 8799              1               4   \n",
       "\n",
       "     discovery_method  discovery_year            discovery_telescope  \\\n",
       "3489          Imaging            2021                3.2 m telescope   \n",
       "4434          Imaging            2021   2.4 m Hubble Space Telescope   \n",
       "1515          Imaging            2006  8.19 m Gemini North Telescope   \n",
       "1988          Imaging            2008  8.19 m Gemini North Telescope   \n",
       "667           Imaging            2008  8.19 m Gemini North Telescope   \n",
       "\n",
       "      orbital_period  orbital_semi_major  planet_radius_earth  \\\n",
       "3489     402000000.0              7506.0               12.442   \n",
       "4434       8040000.0               200.0               20.849   \n",
       "1515       7300000.0               243.0               12.300   \n",
       "1988        170000.0                68.0               13.000   \n",
       "667          69000.0                38.0               13.000   \n",
       "\n",
       "      planet_radius_jupiter  planet_mass_earth  planet_mass_jupiter  \\\n",
       "3489                   1.11         2002.31896                  6.3   \n",
       "4434                   1.86         2479.06157                  7.8   \n",
       "1515                   1.10         4449.62000                 14.0   \n",
       "1988                   1.20         2000.00000                  7.0   \n",
       "667                    1.20         3000.00000                 10.0   \n",
       "\n",
       "      eccentricity  stellar_eff_temp  stellar_radius  stellar_mass  \\\n",
       "3489           NaN           3406.00            0.39          0.37   \n",
       "4434           NaN           2320.00            0.24          0.01   \n",
       "1515           NaN           2375.00            0.23          0.02   \n",
       "1988           NaN           7204.58            1.49          1.61   \n",
       "667            0.5           7204.58            1.49          1.61   \n",
       "\n",
       "      dist_system  dist_system_ly  \n",
       "3489    10.886400       35.511437  \n",
       "4434          NaN             NaN  \n",
       "1515   136.165592      444.172161  \n",
       "1988    41.244100      134.538254  \n",
       "667     41.244100      134.538254  "
      ]
     },
     "execution_count": 119,
     "metadata": {},
     "output_type": "execute_result"
    }
   ],
   "source": [
    "ps_comp.sort_values('orbital_period', ascending=False).head(5)"
   ]
  },
  {
   "cell_type": "code",
   "execution_count": 111,
   "id": "cb573654",
   "metadata": {
    "scrolled": false
   },
   "outputs": [
    {
     "data": {
      "text/plain": [
       "<AxesSubplot:xlabel='planet_radius_jupiter', ylabel='Count'>"
      ]
     },
     "execution_count": 111,
     "metadata": {},
     "output_type": "execute_result"
    },
    {
     "data": {
      "image/png": "[encoded data removed]",
      "text/plain": [
       "<Figure size 720x720 with 1 Axes>"
      ]
     },
     "metadata": {},
     "output_type": "display_data"
    }
   ],
   "source": [
    "sns.histplot(ps_comp['planet_radius_jupiter'])"
   ]
  },
  {
   "cell_type": "code",
   "execution_count": 173,
   "id": "980e9602",
   "metadata": {},
   "outputs": [
    {
     "data": {
      "text/html": [
       "<div>\n",
       "<style scoped>\n",
       "    .dataframe tbody tr th:only-of-type {\n",
       "        vertical-align: middle;\n",
       "    }\n",
       "\n",
       "    .dataframe tbody tr th {\n",
       "        vertical-align: top;\n",
       "    }\n",
       "\n",
       "    .dataframe thead th {\n",
       "        text-align: right;\n",
       "    }\n",
       "</style>\n",
       "<table border=\"1\" class=\"dataframe\">\n",
       "  <thead>\n",
       "    <tr style=\"text-align: right;\">\n",
       "      <th></th>\n",
       "      <th>planet_name</th>\n",
       "      <th>hostname</th>\n",
       "      <th>sys_num_stars</th>\n",
       "      <th>sys_num_planet</th>\n",
       "      <th>discovery_method</th>\n",
       "      <th>discovery_year</th>\n",
       "      <th>discovery_telescope</th>\n",
       "      <th>orbital_period</th>\n",
       "      <th>orbital_semi_major</th>\n",
       "      <th>planet_radius_earth</th>\n",
       "      <th>planet_radius_jupiter</th>\n",
       "      <th>planet_mass_earth</th>\n",
       "      <th>planet_mass_jupiter</th>\n",
       "      <th>eccentricity</th>\n",
       "      <th>stellar_eff_temp</th>\n",
       "      <th>stellar_radius</th>\n",
       "      <th>stellar_mass</th>\n",
       "      <th>dist_system</th>\n",
       "      <th>dist_system_ly</th>\n",
       "    </tr>\n",
       "  </thead>\n",
       "  <tbody>\n",
       "    <tr>\n",
       "      <th>2798</th>\n",
       "      <td>HD 100546 b</td>\n",
       "      <td>HD 100546</td>\n",
       "      <td>1</td>\n",
       "      <td>1</td>\n",
       "      <td>Imaging</td>\n",
       "      <td>2014</td>\n",
       "      <td>8.2 m ESO VLT UT4 Yepun Telescope</td>\n",
       "      <td>NaN</td>\n",
       "      <td>53.0</td>\n",
       "      <td>77.342</td>\n",
       "      <td>6.90</td>\n",
       "      <td>239000.00</td>\n",
       "      <td>752.0</td>\n",
       "      <td>NaN</td>\n",
       "      <td>10500.0</td>\n",
       "      <td>1.85</td>\n",
       "      <td>2.40</td>\n",
       "      <td>109.677</td>\n",
       "      <td>357.766374</td>\n",
       "    </tr>\n",
       "    <tr>\n",
       "      <th>224</th>\n",
       "      <td>GQ Lup b</td>\n",
       "      <td>GQ Lup</td>\n",
       "      <td>1</td>\n",
       "      <td>1</td>\n",
       "      <td>Imaging</td>\n",
       "      <td>2004</td>\n",
       "      <td>8.2 m ESO VLT UT4 Yepun Telescope</td>\n",
       "      <td>NaN</td>\n",
       "      <td>100.0</td>\n",
       "      <td>33.600</td>\n",
       "      <td>3.00</td>\n",
       "      <td>6356.00</td>\n",
       "      <td>20.0</td>\n",
       "      <td>NaN</td>\n",
       "      <td>4360.0</td>\n",
       "      <td>1.94</td>\n",
       "      <td>0.70</td>\n",
       "      <td>151.169</td>\n",
       "      <td>493.113278</td>\n",
       "    </tr>\n",
       "    <tr>\n",
       "      <th>3769</th>\n",
       "      <td>PDS 70 b</td>\n",
       "      <td>PDS 70</td>\n",
       "      <td>1</td>\n",
       "      <td>2</td>\n",
       "      <td>Imaging</td>\n",
       "      <td>2018</td>\n",
       "      <td>8.2 m ESO VLT UT3 Melipal Telescope</td>\n",
       "      <td>43500.0</td>\n",
       "      <td>20.0</td>\n",
       "      <td>30.488</td>\n",
       "      <td>2.72</td>\n",
       "      <td>953.49</td>\n",
       "      <td>3.0</td>\n",
       "      <td>0.19</td>\n",
       "      <td>3972.0</td>\n",
       "      <td>1.26</td>\n",
       "      <td>0.76</td>\n",
       "      <td>113.064</td>\n",
       "      <td>368.814768</td>\n",
       "    </tr>\n",
       "  </tbody>\n",
       "</table>\n",
       "</div>"
      ],
      "text/plain": [
       "      planet_name   hostname  sys_num_stars  sys_num_planet discovery_method  \\\n",
       "2798  HD 100546 b  HD 100546              1               1          Imaging   \n",
       "224      GQ Lup b     GQ Lup              1               1          Imaging   \n",
       "3769     PDS 70 b     PDS 70              1               2          Imaging   \n",
       "\n",
       "      discovery_year                  discovery_telescope  orbital_period  \\\n",
       "2798            2014    8.2 m ESO VLT UT4 Yepun Telescope             NaN   \n",
       "224             2004    8.2 m ESO VLT UT4 Yepun Telescope             NaN   \n",
       "3769            2018  8.2 m ESO VLT UT3 Melipal Telescope         43500.0   \n",
       "\n",
       "      orbital_semi_major  planet_radius_earth  planet_radius_jupiter  \\\n",
       "2798                53.0               77.342                   6.90   \n",
       "224                100.0               33.600                   3.00   \n",
       "3769                20.0               30.488                   2.72   \n",
       "\n",
       "      planet_mass_earth  planet_mass_jupiter  eccentricity  stellar_eff_temp  \\\n",
       "2798          239000.00                752.0           NaN           10500.0   \n",
       "224             6356.00                 20.0           NaN            4360.0   \n",
       "3769             953.49                  3.0          0.19            3972.0   \n",
       "\n",
       "      stellar_radius  stellar_mass  dist_system  dist_system_ly  \n",
       "2798            1.85          2.40      109.677      357.766374  \n",
       "224             1.94          0.70      151.169      493.113278  \n",
       "3769            1.26          0.76      113.064      368.814768  "
      ]
     },
     "execution_count": 173,
     "metadata": {},
     "output_type": "execute_result"
    }
   ],
   "source": [
    "ps_comp.sort_values('planet_radius_jupiter', ascending=False).head(3)"
   ]
  },
  {
   "cell_type": "code",
   "execution_count": 170,
   "id": "bb5d7564",
   "metadata": {},
   "outputs": [
    {
     "data": {
      "text/plain": [
       "<AxesSubplot:>"
      ]
     },
     "execution_count": 170,
     "metadata": {},
     "output_type": "execute_result"
    },
    {
     "data": {
      "image/png": "[encoded data removed]",
      "text/plain": [
       "<Figure size 1296x720 with 1 Axes>"
      ]
     },
     "metadata": {},
     "output_type": "display_data"
    }
   ],
   "source": [
    "sns.boxplot(data=ps_comp['planet_radius_jupiter'])"
   ]
  },
  {
   "cell_type": "code",
   "execution_count": 110,
   "id": "afbceb39",
   "metadata": {
    "scrolled": false
   },
   "outputs": [
    {
     "data": {
      "text/html": [
       "<div>\n",
       "<style scoped>\n",
       "    .dataframe tbody tr th:only-of-type {\n",
       "        vertical-align: middle;\n",
       "    }\n",
       "\n",
       "    .dataframe tbody tr th {\n",
       "        vertical-align: top;\n",
       "    }\n",
       "\n",
       "    .dataframe thead th {\n",
       "        text-align: right;\n",
       "    }\n",
       "</style>\n",
       "<table border=\"1\" class=\"dataframe\">\n",
       "  <thead>\n",
       "    <tr style=\"text-align: right;\">\n",
       "      <th></th>\n",
       "      <th>planet_name</th>\n",
       "      <th>hostname</th>\n",
       "      <th>sys_num_stars</th>\n",
       "      <th>sys_num_planet</th>\n",
       "      <th>discovery_method</th>\n",
       "      <th>discovery_year</th>\n",
       "      <th>discovery_telescope</th>\n",
       "      <th>orbital_period</th>\n",
       "      <th>orbital_semi_major</th>\n",
       "      <th>planet_radius_earth</th>\n",
       "      <th>planet_radius_jupiter</th>\n",
       "      <th>planet_mass_earth</th>\n",
       "      <th>planet_mass_jupiter</th>\n",
       "      <th>eccentricity</th>\n",
       "      <th>stellar_eff_temp</th>\n",
       "      <th>stellar_radius</th>\n",
       "      <th>stellar_mass</th>\n",
       "      <th>dist_system</th>\n",
       "      <th>dist_system_ly</th>\n",
       "    </tr>\n",
       "  </thead>\n",
       "  <tbody>\n",
       "    <tr>\n",
       "      <th>2798</th>\n",
       "      <td>HD 100546 b</td>\n",
       "      <td>HD 100546</td>\n",
       "      <td>1</td>\n",
       "      <td>1</td>\n",
       "      <td>Imaging</td>\n",
       "      <td>2014</td>\n",
       "      <td>8.2 m ESO VLT UT4 Yepun Telescope</td>\n",
       "      <td>NaN</td>\n",
       "      <td>53.0</td>\n",
       "      <td>77.342</td>\n",
       "      <td>6.9</td>\n",
       "      <td>239000.0</td>\n",
       "      <td>752.0</td>\n",
       "      <td>NaN</td>\n",
       "      <td>10500.0</td>\n",
       "      <td>1.85</td>\n",
       "      <td>2.4</td>\n",
       "      <td>109.677</td>\n",
       "      <td>357.766374</td>\n",
       "    </tr>\n",
       "  </tbody>\n",
       "</table>\n",
       "</div>"
      ],
      "text/plain": [
       "      planet_name   hostname  sys_num_stars  sys_num_planet discovery_method  \\\n",
       "2798  HD 100546 b  HD 100546              1               1          Imaging   \n",
       "\n",
       "      discovery_year                discovery_telescope  orbital_period  \\\n",
       "2798            2014  8.2 m ESO VLT UT4 Yepun Telescope             NaN   \n",
       "\n",
       "      orbital_semi_major  planet_radius_earth  planet_radius_jupiter  \\\n",
       "2798                53.0               77.342                    6.9   \n",
       "\n",
       "      planet_mass_earth  planet_mass_jupiter  eccentricity  stellar_eff_temp  \\\n",
       "2798           239000.0                752.0           NaN           10500.0   \n",
       "\n",
       "      stellar_radius  stellar_mass  dist_system  dist_system_ly  \n",
       "2798            1.85           2.4      109.677      357.766374  "
      ]
     },
     "execution_count": 110,
     "metadata": {},
     "output_type": "execute_result"
    }
   ],
   "source": [
    "ps_comp.loc[ps_comp['planet_radius_jupiter'] == ps_comp['planet_radius_jupiter'].max()]"
   ]
  },
  {
   "cell_type": "code",
   "execution_count": null,
   "id": "934794a9",
   "metadata": {},
   "outputs": [],
   "source": [
    "ps_comp"
   ]
  },
  {
   "cell_type": "code",
   "execution_count": null,
   "id": "a96fd214",
   "metadata": {},
   "outputs": [],
   "source": [
    "ps_comp['planet_radius_jupiter']."
   ]
  },
  {
   "cell_type": "markdown",
   "id": "6b5f3c81",
   "metadata": {},
   "source": [
    "### Aqui quieres filtrar HD 100546 b y COCONUTS-2 b"
   ]
  },
  {
   "cell_type": "code",
   "execution_count": 157,
   "id": "f9108f06",
   "metadata": {},
   "outputs": [],
   "source": [
    "ps_comp_filter = ps_comp.loc[(ps_comp['planet_name'] != 'HD 100546 b') & (ps_comp['planet_name'] != 'COCONUTS-2 b')]"
   ]
  },
  {
   "cell_type": "code",
   "execution_count": 162,
   "id": "c47ba4b5",
   "metadata": {},
   "outputs": [
    {
     "data": {
      "text/plain": [
       "<AxesSubplot:xlabel='planet_radius_jupiter', ylabel='Count'>"
      ]
     },
     "execution_count": 162,
     "metadata": {},
     "output_type": "execute_result"
    },
    {
     "data": {
      "image/png": "[encoded data removed]",
      "text/plain": [
       "<Figure size 1296x720 with 1 Axes>"
      ]
     },
     "metadata": {},
     "output_type": "display_data"
    }
   ],
   "source": [
    "sns.histplot(ps_comp_filter['planet_radius_jupiter'])"
   ]
  },
  {
   "cell_type": "code",
   "execution_count": 168,
   "id": "6a285441",
   "metadata": {},
   "outputs": [
    {
     "data": {
      "text/plain": [
       "<AxesSubplot:xlabel='orbital_period', ylabel='planet_mass_earth'>"
      ]
     },
     "execution_count": 168,
     "metadata": {},
     "output_type": "execute_result"
    },
    {
     "data": {
      "image/png": "[encoded data removed]",
      "text/plain": [
       "<Figure size 1296x720 with 1 Axes>"
      ]
     },
     "metadata": {},
     "output_type": "display_data"
    }
   ],
   "source": [
    "sns.scatterplot(x='orbital_period', y='planet_mass_earth', data=ps_comp_filter, hue='discovery_method')"
   ]
  },
  {
   "cell_type": "code",
   "execution_count": null,
   "id": "fffc65e5",
   "metadata": {},
   "outputs": [],
   "source": [
    "def request_api():\n",
    "    url = 'https://exoplanetarchive.ipac.caltech.edu/cgi-bin/nstedAPI/nph-nstedAPI?table=ML&format=json'\n",
    "    response = requests.get(url)\n",
    "    return response\n",
    "\n",
    "def df_micrlen(response):\n",
    "    mlen = pd.DataFrame(response.json())\n",
    "    return mlen\n",
    "\n",
    "def renaming_cols(mlen):\n",
    "\n",
    "    to_keep = ['pl_name', 'rastr', 'decstr', 'pl_masse', 'pl_massj', 'pl_orbsmax', 'sy_dist',\n",
    "           'ml_dists', 'ml_xtimeein', 'ml_massratio', 'ml_magis', 'ml_radeinang']\n",
    "    \n",
    "    mlen = mlen[to_keep]\n",
    "    \n",
    "    new_names = ['planet_name',  'ra_event', 'dec_event', 'earth_massses', 'jupiter_masses', \n",
    "              'planet_orbmax', 'lens_distance', 'source_distance', 'einstein_cross_time', 'source_mag',\n",
    "             'planet_star_mass_ratio', 'angular_einstein_radius']\n",
    "    \n",
    "    old_names = [name for name in mlen.columns]\n",
    "    \n",
    "    dict_names = (dict(zip(old_names, new_names)))\n",
    "    \n",
    "    mlen = mlen.rename(columns=dict_names)\n",
    "    \n",
    "    mlen = mlen.drop_duplicates('planet_name')\n",
    "    \n",
    "    return mlen\n",
    "\n",
    "def wranglig(mlen):\n",
    "   \n",
    "    mlen['lens_distance_ly'] = mlen['lens_distance'] * 3.262\n",
    "    \n",
    "    mlen['source_distance_ly'] = mlen['source_distance'] * 3.262\n",
    "    \n",
    "    mlen['ra_event'] = mlen['ra_event'].str.replace(r'[hm]', ' ', regex=True).str.replace(r's', '', regex=True)\n",
    "    \n",
    "    mlen['ra_event'] = mlen['ra_event'].str.strip()\n",
    "    \n",
    "    mlen['dec_event'] = mlen['dec_event'].str.replace(r'[dm]', ' ', regex=True).str.replace(r's', '', regex=True)\n",
    "    \n",
    "    mlen.to_csv('microlensing_data.csv', index=False)\n",
    "    \n",
    "    return mlen\n",
    "\n",
    "\n",
    "def request_api_second():\n",
    "    url = 'https://exoplanetarchive.ipac.caltech.edu/TAP/sync?query=select+pl_name,hostname,sy_snum,sy_pnum,discoverymethod,disc_year,disc_telescope,pl_orbper,pl_orbsmax,pl_rade,pl_radj,pl_bmasse,pl_bmassj,pl_orbeccen,st_spectype,st_teff,st_rad,st_mass,sy_dist+from+pscomppars&format=json'\n",
    "    response_2 = requests.get(url)\n",
    "    return response_2\n",
    "    \n",
    "def df_pscomp(response):\n",
    "    ps_comp = pd.DataFrame(response.json())\n",
    "    return ps_comp\n",
    "\n",
    "def renaming_cols_ps_comp(ps_comp):\n",
    "    \n",
    "    ps_comp = ps_comp.drop(columns='st_spectype')\n",
    "    \n",
    "    new_names_ps = ['planet_name', 'hostname', 'sys_num_stars', 'sys_num_planet', 'discovery_method', \n",
    "                'discovery_year', 'discovery_telescope', 'orbital_period', 'orbital_semi_major', 'planet_radius_earth',\n",
    "               'planet_radius_jupiter', 'planet_mass_earth', 'planet_mass_jupiter', 'eccentricity', 'stellar_eff_temp',\n",
    "               'stellar_radius', 'stellar_mass', 'dist_system']\n",
    "    \n",
    "    old_names_ps = [colum for colum in ps_comp.columns]\n",
    "    \n",
    "    dict_ps = dict(zip(old_names_ps, new_names_ps))\n",
    "    \n",
    "    ps_comp = ps_comp.rename(columns=dict_ps)\n",
    "    \n",
    "    return ps_comp\n",
    "\n",
    "    \n",
    "def wranglig_pscmop(ps_comp):\n",
    "    \n",
    "    ps_comp['dist_system_ly'] = ps_comp['dist_system'] * 3.262\n",
    "    \n",
    "    ps_comp.to_csv('ps_comp_data.csv', index=False)\n",
    "    \n",
    "    return ps_comp\n",
    "\n",
    "\n",
    "def df_psmlen(ps_comp):\n",
    "    \n",
    "    ps_mlen = ps_comp.loc[ps_comp['discovery_method'] == 'Microlensing']\n",
    "    \n",
    "    return ps_mlen\n",
    "\n",
    "\n",
    "def merge(ps_mlen, mlen):\n",
    "    \n",
    "    merged = pd.merge(mlen, ps_mlen, on='planet_name')\n",
    "    \n",
    "    merged = merged.drop(columns=['earth_massses', 'jupiter_masses', 'orbital_period', 'stellar_eff_temp', 'stellar_radius', 'eccentricity'], inplace=True)\n",
    "    \n",
    "    return merged\n",
    "\n",
    "\n",
    "def analyze(ps_comp):\n",
    "    \n",
    "    hight_oper = ps_comp.sort_values('orbital_period', ascending=False).head(1)\n",
    "    \n",
    "    low_oper = ps_comp.sort_values('orbital_period').head(1)\n",
    "    \n",
    "    hight_oper.to_csv('hight_oper.csv', index=False)\n",
    "    \n",
    "    low_oper.to_csv('low_oper.csv', index=False)\n",
    "    \n",
    "    \n",
    "def visualize_bar(ps_comp):\n",
    "    \n",
    "    bar = ps_comp['discovery_method'].value_counts().plot(kind='bar')\n",
    "    \n",
    "    bar_year = ps_comp['discovery_year'].value_counts().plot(kind='bar')\n",
    "    \n",
    "    fig_1 = bar.get_figure()\n",
    "    \n",
    "    fig_1.savefig('bar_discovery_method.png')\n",
    "    \n",
    "    fig_2 = bar_year.get_figure()\n",
    "    \n",
    "    fig_2.savefig('bar_year.png')\n",
    "    \n",
    "\n",
    "if __name__ == '__main__':\n",
    "    request = request_api()\n",
    "    df_1 = df_micrlen(request)\n",
    "    df_re = renaming_cols(df_1)\n",
    "    wrangle = wranglig(df_re)\n",
    "    request_second = request_api_second()\n",
    "    df_2 = df_pscomp(request_second)\n",
    "    df_2_re = renaming_cols_ps_comp(df_2)\n",
    "    wrangle_df2 = wranglig_pscmop(df_2_re)\n",
    "    df_3 = df_psmlen(wrangle_df2)\n",
    "    merge = merge(df_3, df_re)\n",
    "    analysis = analyze(df_3)\n",
    "    visual = visualize_bar(df_2_re)"
   ]
  },
  {
   "cell_type": "markdown",
   "id": "6f951a3d",
   "metadata": {},
   "source": [
    "Proyects ideas:\n",
    "Does the number of planets in a system depends on the star (temperature, radius, Age)\n",
    "What are the planets with the older stars\n",
    "Percentage by method\n",
    "with filters by method and label of the name of each planet (tableau)\n",
    "- planet mass vs orbital period\n",
    "- planet mass vs radius\n",
    "planet with the biggest radius compare with earth and jupiter\n",
    "planet with the biggest mass compare with earth and jupiter\n",
    "planet with the shortest obital period compare with the orbital period of the earth (both rotating)\n",
    "planet with the longest orbital period compare with the orbital period of the earth (both rotating)\n",
    "how many stars is orbiting the exoplanet"
   ]
  }
 ],
 "metadata": {
  "kernelspec": {
   "display_name": "Python 3",
   "language": "python",
   "name": "python3"
  },
  "language_info": {
   "codemirror_mode": {
    "name": "ipython",
    "version": 3
   },
   "file_extension": ".py",
   "mimetype": "text/x-python",
   "name": "python",
   "nbconvert_exporter": "python",
   "pygments_lexer": "ipython3",
   "version": "3.8.8"
  }
 },
 "nbformat": 4,
 "nbformat_minor": 5
}
